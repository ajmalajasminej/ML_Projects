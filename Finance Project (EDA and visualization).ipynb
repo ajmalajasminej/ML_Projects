{
 "cells": [
  {
   "cell_type": "markdown",
   "metadata": {},
   "source": [
    "# Finance Data Project \n",
    "\n",
    "This data project focuses on exploratory data analysis of stock prices.This project is just meant to practice visualization and pandas skills.\n",
    "We'll focus on bank stocks and see how they progressed throughout the [financial crisis](https://en.wikipedia.org/wiki/Financial_crisis_of_2007%E2%80%9308)."
   ]
  },
  {
   "cell_type": "markdown",
   "metadata": {},
   "source": [
    "## Get the Data\n",
    "\n",
    "*Note: [You may need to install pandas-datareader(pip install pandas-datareader) and yfinance (pip install yfinance)]\n",
    "\n",
    "### The Imports\n"
   ]
  },
  {
   "cell_type": "code",
   "execution_count": 1,
   "metadata": {},
   "outputs": [],
   "source": [
    "from pandas_datareader import data, wb\n",
    "import pandas as pd\n",
    "import numpy as np\n",
    "%matplotlib inline"
   ]
  },
  {
   "cell_type": "markdown",
   "metadata": {},
   "source": [
    "## Data\n",
    "\n",
    "Get stock information for the following banks:\n",
    "*  Bank of America = BAC\n",
    "* CitiGroup = C\n",
    "* Goldman Sachs = GS\n",
    "* JPMorgan Chase = JPM\n",
    "* Morgan Stanley = MS\n",
    "* Wells Fargo = WFC\n",
    "\n",
    "\n",
    "** Get the stock data from Jan 1st 2006 to Jan 1st 2022 for each of these banks. Set each bank to be a separate dataframe, with the variable name for that bank being its ticker symbol.**\n",
    "\n"
   ]
  },
  {
   "cell_type": "code",
   "execution_count": 2,
   "metadata": {},
   "outputs": [
    {
     "name": "stdout",
     "output_type": "stream",
     "text": [
      "[*********************100%***********************]  1 of 1 completed\n",
      "[*********************100%***********************]  1 of 1 completed\n",
      "[*********************100%***********************]  1 of 1 completed\n",
      "[*********************100%***********************]  1 of 1 completed\n",
      "[*********************100%***********************]  1 of 1 completed\n",
      "[*********************100%***********************]  1 of 1 completed\n"
     ]
    }
   ],
   "source": [
    "from pandas_datareader import data as pdr\n",
    "import yfinance as yf\n",
    "yf.pdr_override()\n",
    "from datetime import datetime\n",
    "startdate = datetime(2006,1,1)\n",
    "enddate = datetime(2022,12,15)\n",
    "BAC = pdr.get_data_yahoo('BAC', start=startdate, end=enddate)\n",
    "C = pdr.get_data_yahoo('C', start=startdate, end=enddate)\n",
    "GS = pdr.get_data_yahoo('GS', start=startdate, end=enddate)\n",
    "JPM = pdr.get_data_yahoo('JPM', start=startdate, end=enddate)\n",
    "MS = pdr.get_data_yahoo('MS', start=startdate, end=enddate)\n",
    "WFC = pdr.get_data_yahoo('WFC', start=startdate, end=enddate)"
   ]
  },
  {
   "cell_type": "code",
   "execution_count": 3,
   "metadata": {},
   "outputs": [],
   "source": [
    "tickers = ['BAC','C','GS','JPM','MS','WFC']"
   ]
  },
  {
   "cell_type": "markdown",
   "metadata": {},
   "source": [
    "** Concatenate the bank dataframes together to a single data frame called bank_stocks .keys argument is set as tickers list.**"
   ]
  },
  {
   "cell_type": "code",
   "execution_count": 4,
   "metadata": {},
   "outputs": [],
   "source": [
    "bank_stocks = pd.concat([BAC,C,GS,JPM,MS,WFC], keys = tickers, axis = 1)"
   ]
  },
  {
   "cell_type": "code",
   "execution_count": 5,
   "metadata": {},
   "outputs": [
    {
     "data": {
      "text/html": [
       "<div>\n",
       "<style scoped>\n",
       "    .dataframe tbody tr th:only-of-type {\n",
       "        vertical-align: middle;\n",
       "    }\n",
       "\n",
       "    .dataframe tbody tr th {\n",
       "        vertical-align: top;\n",
       "    }\n",
       "\n",
       "    .dataframe thead tr th {\n",
       "        text-align: left;\n",
       "    }\n",
       "\n",
       "    .dataframe thead tr:last-of-type th {\n",
       "        text-align: right;\n",
       "    }\n",
       "</style>\n",
       "<table border=\"1\" class=\"dataframe\">\n",
       "  <thead>\n",
       "    <tr>\n",
       "      <th></th>\n",
       "      <th colspan=\"6\" halign=\"left\">BAC</th>\n",
       "      <th colspan=\"4\" halign=\"left\">C</th>\n",
       "      <th>...</th>\n",
       "      <th colspan=\"4\" halign=\"left\">MS</th>\n",
       "      <th colspan=\"6\" halign=\"left\">WFC</th>\n",
       "    </tr>\n",
       "    <tr>\n",
       "      <th></th>\n",
       "      <th>Open</th>\n",
       "      <th>High</th>\n",
       "      <th>Low</th>\n",
       "      <th>Close</th>\n",
       "      <th>Adj Close</th>\n",
       "      <th>Volume</th>\n",
       "      <th>Open</th>\n",
       "      <th>High</th>\n",
       "      <th>Low</th>\n",
       "      <th>Close</th>\n",
       "      <th>...</th>\n",
       "      <th>Low</th>\n",
       "      <th>Close</th>\n",
       "      <th>Adj Close</th>\n",
       "      <th>Volume</th>\n",
       "      <th>Open</th>\n",
       "      <th>High</th>\n",
       "      <th>Low</th>\n",
       "      <th>Close</th>\n",
       "      <th>Adj Close</th>\n",
       "      <th>Volume</th>\n",
       "    </tr>\n",
       "    <tr>\n",
       "      <th>Date</th>\n",
       "      <th></th>\n",
       "      <th></th>\n",
       "      <th></th>\n",
       "      <th></th>\n",
       "      <th></th>\n",
       "      <th></th>\n",
       "      <th></th>\n",
       "      <th></th>\n",
       "      <th></th>\n",
       "      <th></th>\n",
       "      <th></th>\n",
       "      <th></th>\n",
       "      <th></th>\n",
       "      <th></th>\n",
       "      <th></th>\n",
       "      <th></th>\n",
       "      <th></th>\n",
       "      <th></th>\n",
       "      <th></th>\n",
       "      <th></th>\n",
       "      <th></th>\n",
       "    </tr>\n",
       "  </thead>\n",
       "  <tbody>\n",
       "    <tr>\n",
       "      <th>2006-01-03</th>\n",
       "      <td>46.919998</td>\n",
       "      <td>47.180000</td>\n",
       "      <td>46.150002</td>\n",
       "      <td>47.080002</td>\n",
       "      <td>32.956566</td>\n",
       "      <td>16296700</td>\n",
       "      <td>490.000000</td>\n",
       "      <td>493.799988</td>\n",
       "      <td>481.100006</td>\n",
       "      <td>492.899994</td>\n",
       "      <td>...</td>\n",
       "      <td>56.740002</td>\n",
       "      <td>58.310001</td>\n",
       "      <td>34.607491</td>\n",
       "      <td>5377000</td>\n",
       "      <td>31.600000</td>\n",
       "      <td>31.975000</td>\n",
       "      <td>31.195000</td>\n",
       "      <td>31.900000</td>\n",
       "      <td>19.849184</td>\n",
       "      <td>11016400</td>\n",
       "    </tr>\n",
       "    <tr>\n",
       "      <th>2006-01-04</th>\n",
       "      <td>47.000000</td>\n",
       "      <td>47.240002</td>\n",
       "      <td>46.450001</td>\n",
       "      <td>46.580002</td>\n",
       "      <td>32.606560</td>\n",
       "      <td>17757900</td>\n",
       "      <td>488.600006</td>\n",
       "      <td>491.000000</td>\n",
       "      <td>483.500000</td>\n",
       "      <td>483.799988</td>\n",
       "      <td>...</td>\n",
       "      <td>58.349998</td>\n",
       "      <td>58.349998</td>\n",
       "      <td>34.631248</td>\n",
       "      <td>7977800</td>\n",
       "      <td>31.799999</td>\n",
       "      <td>31.820000</td>\n",
       "      <td>31.365000</td>\n",
       "      <td>31.530001</td>\n",
       "      <td>19.618959</td>\n",
       "      <td>10870000</td>\n",
       "    </tr>\n",
       "    <tr>\n",
       "      <th>2006-01-05</th>\n",
       "      <td>46.580002</td>\n",
       "      <td>46.830002</td>\n",
       "      <td>46.320000</td>\n",
       "      <td>46.639999</td>\n",
       "      <td>32.648560</td>\n",
       "      <td>14970700</td>\n",
       "      <td>484.399994</td>\n",
       "      <td>487.799988</td>\n",
       "      <td>484.000000</td>\n",
       "      <td>486.200012</td>\n",
       "      <td>...</td>\n",
       "      <td>58.020000</td>\n",
       "      <td>58.509998</td>\n",
       "      <td>34.726208</td>\n",
       "      <td>5778000</td>\n",
       "      <td>31.500000</td>\n",
       "      <td>31.555000</td>\n",
       "      <td>31.309999</td>\n",
       "      <td>31.495001</td>\n",
       "      <td>19.597176</td>\n",
       "      <td>10158000</td>\n",
       "    </tr>\n",
       "    <tr>\n",
       "      <th>2006-01-06</th>\n",
       "      <td>46.799999</td>\n",
       "      <td>46.910000</td>\n",
       "      <td>46.349998</td>\n",
       "      <td>46.570000</td>\n",
       "      <td>32.599545</td>\n",
       "      <td>12599800</td>\n",
       "      <td>488.799988</td>\n",
       "      <td>489.000000</td>\n",
       "      <td>482.000000</td>\n",
       "      <td>486.200012</td>\n",
       "      <td>...</td>\n",
       "      <td>58.049999</td>\n",
       "      <td>58.570000</td>\n",
       "      <td>34.761810</td>\n",
       "      <td>6889800</td>\n",
       "      <td>31.580000</td>\n",
       "      <td>31.775000</td>\n",
       "      <td>31.385000</td>\n",
       "      <td>31.680000</td>\n",
       "      <td>19.712292</td>\n",
       "      <td>8403800</td>\n",
       "    </tr>\n",
       "    <tr>\n",
       "      <th>2006-01-09</th>\n",
       "      <td>46.720001</td>\n",
       "      <td>46.970001</td>\n",
       "      <td>46.360001</td>\n",
       "      <td>46.599998</td>\n",
       "      <td>32.620544</td>\n",
       "      <td>15619400</td>\n",
       "      <td>486.000000</td>\n",
       "      <td>487.399994</td>\n",
       "      <td>483.000000</td>\n",
       "      <td>483.899994</td>\n",
       "      <td>...</td>\n",
       "      <td>58.619999</td>\n",
       "      <td>59.189999</td>\n",
       "      <td>35.129787</td>\n",
       "      <td>4144500</td>\n",
       "      <td>31.674999</td>\n",
       "      <td>31.825001</td>\n",
       "      <td>31.555000</td>\n",
       "      <td>31.674999</td>\n",
       "      <td>19.709181</td>\n",
       "      <td>5619600</td>\n",
       "    </tr>\n",
       "    <tr>\n",
       "      <th>...</th>\n",
       "      <td>...</td>\n",
       "      <td>...</td>\n",
       "      <td>...</td>\n",
       "      <td>...</td>\n",
       "      <td>...</td>\n",
       "      <td>...</td>\n",
       "      <td>...</td>\n",
       "      <td>...</td>\n",
       "      <td>...</td>\n",
       "      <td>...</td>\n",
       "      <td>...</td>\n",
       "      <td>...</td>\n",
       "      <td>...</td>\n",
       "      <td>...</td>\n",
       "      <td>...</td>\n",
       "      <td>...</td>\n",
       "      <td>...</td>\n",
       "      <td>...</td>\n",
       "      <td>...</td>\n",
       "      <td>...</td>\n",
       "      <td>...</td>\n",
       "    </tr>\n",
       "    <tr>\n",
       "      <th>2022-12-08</th>\n",
       "      <td>32.970001</td>\n",
       "      <td>32.990002</td>\n",
       "      <td>32.180000</td>\n",
       "      <td>32.439999</td>\n",
       "      <td>32.230953</td>\n",
       "      <td>45491100</td>\n",
       "      <td>44.849998</td>\n",
       "      <td>45.369999</td>\n",
       "      <td>44.259998</td>\n",
       "      <td>44.689999</td>\n",
       "      <td>...</td>\n",
       "      <td>87.000000</td>\n",
       "      <td>88.690002</td>\n",
       "      <td>87.980370</td>\n",
       "      <td>6141400</td>\n",
       "      <td>42.709999</td>\n",
       "      <td>42.889999</td>\n",
       "      <td>42.110001</td>\n",
       "      <td>42.580002</td>\n",
       "      <td>42.310108</td>\n",
       "      <td>17161400</td>\n",
       "    </tr>\n",
       "    <tr>\n",
       "      <th>2022-12-09</th>\n",
       "      <td>32.110001</td>\n",
       "      <td>32.599998</td>\n",
       "      <td>32.080002</td>\n",
       "      <td>32.380001</td>\n",
       "      <td>32.171345</td>\n",
       "      <td>36985500</td>\n",
       "      <td>44.599998</td>\n",
       "      <td>45.189999</td>\n",
       "      <td>44.549999</td>\n",
       "      <td>44.860001</td>\n",
       "      <td>...</td>\n",
       "      <td>88.370003</td>\n",
       "      <td>89.470001</td>\n",
       "      <td>88.754128</td>\n",
       "      <td>6488300</td>\n",
       "      <td>42.330002</td>\n",
       "      <td>42.919998</td>\n",
       "      <td>42.320000</td>\n",
       "      <td>42.500000</td>\n",
       "      <td>42.230614</td>\n",
       "      <td>16023700</td>\n",
       "    </tr>\n",
       "    <tr>\n",
       "      <th>2022-12-12</th>\n",
       "      <td>32.310001</td>\n",
       "      <td>32.779999</td>\n",
       "      <td>32.060001</td>\n",
       "      <td>32.730000</td>\n",
       "      <td>32.519085</td>\n",
       "      <td>41060500</td>\n",
       "      <td>44.650002</td>\n",
       "      <td>45.799999</td>\n",
       "      <td>44.360001</td>\n",
       "      <td>45.770000</td>\n",
       "      <td>...</td>\n",
       "      <td>88.279999</td>\n",
       "      <td>91.120003</td>\n",
       "      <td>90.390930</td>\n",
       "      <td>7496200</td>\n",
       "      <td>42.599998</td>\n",
       "      <td>42.930000</td>\n",
       "      <td>42.110001</td>\n",
       "      <td>42.860001</td>\n",
       "      <td>42.588333</td>\n",
       "      <td>18428900</td>\n",
       "    </tr>\n",
       "    <tr>\n",
       "      <th>2022-12-13</th>\n",
       "      <td>33.549999</td>\n",
       "      <td>33.669998</td>\n",
       "      <td>32.570000</td>\n",
       "      <td>32.750000</td>\n",
       "      <td>32.538960</td>\n",
       "      <td>54804800</td>\n",
       "      <td>46.840000</td>\n",
       "      <td>47.849998</td>\n",
       "      <td>46.240002</td>\n",
       "      <td>46.590000</td>\n",
       "      <td>...</td>\n",
       "      <td>92.070000</td>\n",
       "      <td>92.709999</td>\n",
       "      <td>91.968201</td>\n",
       "      <td>10330500</td>\n",
       "      <td>43.880001</td>\n",
       "      <td>44.080002</td>\n",
       "      <td>42.110001</td>\n",
       "      <td>42.619999</td>\n",
       "      <td>42.349854</td>\n",
       "      <td>31496000</td>\n",
       "    </tr>\n",
       "    <tr>\n",
       "      <th>2022-12-14</th>\n",
       "      <td>32.799999</td>\n",
       "      <td>33.000000</td>\n",
       "      <td>32.160000</td>\n",
       "      <td>32.279999</td>\n",
       "      <td>32.071987</td>\n",
       "      <td>48819500</td>\n",
       "      <td>46.509998</td>\n",
       "      <td>47.040001</td>\n",
       "      <td>45.720001</td>\n",
       "      <td>45.980000</td>\n",
       "      <td>...</td>\n",
       "      <td>89.870003</td>\n",
       "      <td>90.500000</td>\n",
       "      <td>89.775887</td>\n",
       "      <td>7704600</td>\n",
       "      <td>42.590000</td>\n",
       "      <td>43.230000</td>\n",
       "      <td>41.950001</td>\n",
       "      <td>42.180000</td>\n",
       "      <td>41.912643</td>\n",
       "      <td>22044400</td>\n",
       "    </tr>\n",
       "  </tbody>\n",
       "</table>\n",
       "<p>4268 rows × 36 columns</p>\n",
       "</div>"
      ],
      "text/plain": [
       "                  BAC                                                        \\\n",
       "                 Open       High        Low      Close  Adj Close    Volume   \n",
       "Date                                                                          \n",
       "2006-01-03  46.919998  47.180000  46.150002  47.080002  32.956566  16296700   \n",
       "2006-01-04  47.000000  47.240002  46.450001  46.580002  32.606560  17757900   \n",
       "2006-01-05  46.580002  46.830002  46.320000  46.639999  32.648560  14970700   \n",
       "2006-01-06  46.799999  46.910000  46.349998  46.570000  32.599545  12599800   \n",
       "2006-01-09  46.720001  46.970001  46.360001  46.599998  32.620544  15619400   \n",
       "...               ...        ...        ...        ...        ...       ...   \n",
       "2022-12-08  32.970001  32.990002  32.180000  32.439999  32.230953  45491100   \n",
       "2022-12-09  32.110001  32.599998  32.080002  32.380001  32.171345  36985500   \n",
       "2022-12-12  32.310001  32.779999  32.060001  32.730000  32.519085  41060500   \n",
       "2022-12-13  33.549999  33.669998  32.570000  32.750000  32.538960  54804800   \n",
       "2022-12-14  32.799999  33.000000  32.160000  32.279999  32.071987  48819500   \n",
       "\n",
       "                     C                                      ...         MS  \\\n",
       "                  Open        High         Low       Close  ...        Low   \n",
       "Date                                                        ...              \n",
       "2006-01-03  490.000000  493.799988  481.100006  492.899994  ...  56.740002   \n",
       "2006-01-04  488.600006  491.000000  483.500000  483.799988  ...  58.349998   \n",
       "2006-01-05  484.399994  487.799988  484.000000  486.200012  ...  58.020000   \n",
       "2006-01-06  488.799988  489.000000  482.000000  486.200012  ...  58.049999   \n",
       "2006-01-09  486.000000  487.399994  483.000000  483.899994  ...  58.619999   \n",
       "...                ...         ...         ...         ...  ...        ...   \n",
       "2022-12-08   44.849998   45.369999   44.259998   44.689999  ...  87.000000   \n",
       "2022-12-09   44.599998   45.189999   44.549999   44.860001  ...  88.370003   \n",
       "2022-12-12   44.650002   45.799999   44.360001   45.770000  ...  88.279999   \n",
       "2022-12-13   46.840000   47.849998   46.240002   46.590000  ...  92.070000   \n",
       "2022-12-14   46.509998   47.040001   45.720001   45.980000  ...  89.870003   \n",
       "\n",
       "                                                  WFC                        \\\n",
       "                Close  Adj Close    Volume       Open       High        Low   \n",
       "Date                                                                          \n",
       "2006-01-03  58.310001  34.607491   5377000  31.600000  31.975000  31.195000   \n",
       "2006-01-04  58.349998  34.631248   7977800  31.799999  31.820000  31.365000   \n",
       "2006-01-05  58.509998  34.726208   5778000  31.500000  31.555000  31.309999   \n",
       "2006-01-06  58.570000  34.761810   6889800  31.580000  31.775000  31.385000   \n",
       "2006-01-09  59.189999  35.129787   4144500  31.674999  31.825001  31.555000   \n",
       "...               ...        ...       ...        ...        ...        ...   \n",
       "2022-12-08  88.690002  87.980370   6141400  42.709999  42.889999  42.110001   \n",
       "2022-12-09  89.470001  88.754128   6488300  42.330002  42.919998  42.320000   \n",
       "2022-12-12  91.120003  90.390930   7496200  42.599998  42.930000  42.110001   \n",
       "2022-12-13  92.709999  91.968201  10330500  43.880001  44.080002  42.110001   \n",
       "2022-12-14  90.500000  89.775887   7704600  42.590000  43.230000  41.950001   \n",
       "\n",
       "                                            \n",
       "                Close  Adj Close    Volume  \n",
       "Date                                        \n",
       "2006-01-03  31.900000  19.849184  11016400  \n",
       "2006-01-04  31.530001  19.618959  10870000  \n",
       "2006-01-05  31.495001  19.597176  10158000  \n",
       "2006-01-06  31.680000  19.712292   8403800  \n",
       "2006-01-09  31.674999  19.709181   5619600  \n",
       "...               ...        ...       ...  \n",
       "2022-12-08  42.580002  42.310108  17161400  \n",
       "2022-12-09  42.500000  42.230614  16023700  \n",
       "2022-12-12  42.860001  42.588333  18428900  \n",
       "2022-12-13  42.619999  42.349854  31496000  \n",
       "2022-12-14  42.180000  41.912643  22044400  \n",
       "\n",
       "[4268 rows x 36 columns]"
      ]
     },
     "execution_count": 5,
     "metadata": {},
     "output_type": "execute_result"
    }
   ],
   "source": [
    "bank_stocks"
   ]
  },
  {
   "cell_type": "markdown",
   "metadata": {},
   "source": [
    "\n",
    "** Set the column name levels**"
   ]
  },
  {
   "cell_type": "code",
   "execution_count": 6,
   "metadata": {},
   "outputs": [],
   "source": [
    "bank_stocks.columns.names = ['Bank Ticker','Stock Info']"
   ]
  },
  {
   "cell_type": "markdown",
   "metadata": {},
   "source": [
    "** Check the head of the bank_stocks dataframe.**"
   ]
  },
  {
   "cell_type": "code",
   "execution_count": 7,
   "metadata": {},
   "outputs": [
    {
     "data": {
      "text/html": [
       "<div>\n",
       "<style scoped>\n",
       "    .dataframe tbody tr th:only-of-type {\n",
       "        vertical-align: middle;\n",
       "    }\n",
       "\n",
       "    .dataframe tbody tr th {\n",
       "        vertical-align: top;\n",
       "    }\n",
       "\n",
       "    .dataframe thead tr th {\n",
       "        text-align: left;\n",
       "    }\n",
       "\n",
       "    .dataframe thead tr:last-of-type th {\n",
       "        text-align: right;\n",
       "    }\n",
       "</style>\n",
       "<table border=\"1\" class=\"dataframe\">\n",
       "  <thead>\n",
       "    <tr>\n",
       "      <th>Bank Ticker</th>\n",
       "      <th colspan=\"6\" halign=\"left\">BAC</th>\n",
       "      <th colspan=\"4\" halign=\"left\">C</th>\n",
       "      <th>...</th>\n",
       "      <th colspan=\"4\" halign=\"left\">MS</th>\n",
       "      <th colspan=\"6\" halign=\"left\">WFC</th>\n",
       "    </tr>\n",
       "    <tr>\n",
       "      <th>Stock Info</th>\n",
       "      <th>Open</th>\n",
       "      <th>High</th>\n",
       "      <th>Low</th>\n",
       "      <th>Close</th>\n",
       "      <th>Adj Close</th>\n",
       "      <th>Volume</th>\n",
       "      <th>Open</th>\n",
       "      <th>High</th>\n",
       "      <th>Low</th>\n",
       "      <th>Close</th>\n",
       "      <th>...</th>\n",
       "      <th>Low</th>\n",
       "      <th>Close</th>\n",
       "      <th>Adj Close</th>\n",
       "      <th>Volume</th>\n",
       "      <th>Open</th>\n",
       "      <th>High</th>\n",
       "      <th>Low</th>\n",
       "      <th>Close</th>\n",
       "      <th>Adj Close</th>\n",
       "      <th>Volume</th>\n",
       "    </tr>\n",
       "    <tr>\n",
       "      <th>Date</th>\n",
       "      <th></th>\n",
       "      <th></th>\n",
       "      <th></th>\n",
       "      <th></th>\n",
       "      <th></th>\n",
       "      <th></th>\n",
       "      <th></th>\n",
       "      <th></th>\n",
       "      <th></th>\n",
       "      <th></th>\n",
       "      <th></th>\n",
       "      <th></th>\n",
       "      <th></th>\n",
       "      <th></th>\n",
       "      <th></th>\n",
       "      <th></th>\n",
       "      <th></th>\n",
       "      <th></th>\n",
       "      <th></th>\n",
       "      <th></th>\n",
       "      <th></th>\n",
       "    </tr>\n",
       "  </thead>\n",
       "  <tbody>\n",
       "    <tr>\n",
       "      <th>2006-01-03</th>\n",
       "      <td>46.919998</td>\n",
       "      <td>47.180000</td>\n",
       "      <td>46.150002</td>\n",
       "      <td>47.080002</td>\n",
       "      <td>32.956566</td>\n",
       "      <td>16296700</td>\n",
       "      <td>490.000000</td>\n",
       "      <td>493.799988</td>\n",
       "      <td>481.100006</td>\n",
       "      <td>492.899994</td>\n",
       "      <td>...</td>\n",
       "      <td>56.740002</td>\n",
       "      <td>58.310001</td>\n",
       "      <td>34.607491</td>\n",
       "      <td>5377000</td>\n",
       "      <td>31.600000</td>\n",
       "      <td>31.975000</td>\n",
       "      <td>31.195000</td>\n",
       "      <td>31.900000</td>\n",
       "      <td>19.849184</td>\n",
       "      <td>11016400</td>\n",
       "    </tr>\n",
       "    <tr>\n",
       "      <th>2006-01-04</th>\n",
       "      <td>47.000000</td>\n",
       "      <td>47.240002</td>\n",
       "      <td>46.450001</td>\n",
       "      <td>46.580002</td>\n",
       "      <td>32.606560</td>\n",
       "      <td>17757900</td>\n",
       "      <td>488.600006</td>\n",
       "      <td>491.000000</td>\n",
       "      <td>483.500000</td>\n",
       "      <td>483.799988</td>\n",
       "      <td>...</td>\n",
       "      <td>58.349998</td>\n",
       "      <td>58.349998</td>\n",
       "      <td>34.631248</td>\n",
       "      <td>7977800</td>\n",
       "      <td>31.799999</td>\n",
       "      <td>31.820000</td>\n",
       "      <td>31.365000</td>\n",
       "      <td>31.530001</td>\n",
       "      <td>19.618959</td>\n",
       "      <td>10870000</td>\n",
       "    </tr>\n",
       "    <tr>\n",
       "      <th>2006-01-05</th>\n",
       "      <td>46.580002</td>\n",
       "      <td>46.830002</td>\n",
       "      <td>46.320000</td>\n",
       "      <td>46.639999</td>\n",
       "      <td>32.648560</td>\n",
       "      <td>14970700</td>\n",
       "      <td>484.399994</td>\n",
       "      <td>487.799988</td>\n",
       "      <td>484.000000</td>\n",
       "      <td>486.200012</td>\n",
       "      <td>...</td>\n",
       "      <td>58.020000</td>\n",
       "      <td>58.509998</td>\n",
       "      <td>34.726208</td>\n",
       "      <td>5778000</td>\n",
       "      <td>31.500000</td>\n",
       "      <td>31.555000</td>\n",
       "      <td>31.309999</td>\n",
       "      <td>31.495001</td>\n",
       "      <td>19.597176</td>\n",
       "      <td>10158000</td>\n",
       "    </tr>\n",
       "    <tr>\n",
       "      <th>2006-01-06</th>\n",
       "      <td>46.799999</td>\n",
       "      <td>46.910000</td>\n",
       "      <td>46.349998</td>\n",
       "      <td>46.570000</td>\n",
       "      <td>32.599545</td>\n",
       "      <td>12599800</td>\n",
       "      <td>488.799988</td>\n",
       "      <td>489.000000</td>\n",
       "      <td>482.000000</td>\n",
       "      <td>486.200012</td>\n",
       "      <td>...</td>\n",
       "      <td>58.049999</td>\n",
       "      <td>58.570000</td>\n",
       "      <td>34.761810</td>\n",
       "      <td>6889800</td>\n",
       "      <td>31.580000</td>\n",
       "      <td>31.775000</td>\n",
       "      <td>31.385000</td>\n",
       "      <td>31.680000</td>\n",
       "      <td>19.712292</td>\n",
       "      <td>8403800</td>\n",
       "    </tr>\n",
       "    <tr>\n",
       "      <th>2006-01-09</th>\n",
       "      <td>46.720001</td>\n",
       "      <td>46.970001</td>\n",
       "      <td>46.360001</td>\n",
       "      <td>46.599998</td>\n",
       "      <td>32.620544</td>\n",
       "      <td>15619400</td>\n",
       "      <td>486.000000</td>\n",
       "      <td>487.399994</td>\n",
       "      <td>483.000000</td>\n",
       "      <td>483.899994</td>\n",
       "      <td>...</td>\n",
       "      <td>58.619999</td>\n",
       "      <td>59.189999</td>\n",
       "      <td>35.129787</td>\n",
       "      <td>4144500</td>\n",
       "      <td>31.674999</td>\n",
       "      <td>31.825001</td>\n",
       "      <td>31.555000</td>\n",
       "      <td>31.674999</td>\n",
       "      <td>19.709181</td>\n",
       "      <td>5619600</td>\n",
       "    </tr>\n",
       "    <tr>\n",
       "      <th>...</th>\n",
       "      <td>...</td>\n",
       "      <td>...</td>\n",
       "      <td>...</td>\n",
       "      <td>...</td>\n",
       "      <td>...</td>\n",
       "      <td>...</td>\n",
       "      <td>...</td>\n",
       "      <td>...</td>\n",
       "      <td>...</td>\n",
       "      <td>...</td>\n",
       "      <td>...</td>\n",
       "      <td>...</td>\n",
       "      <td>...</td>\n",
       "      <td>...</td>\n",
       "      <td>...</td>\n",
       "      <td>...</td>\n",
       "      <td>...</td>\n",
       "      <td>...</td>\n",
       "      <td>...</td>\n",
       "      <td>...</td>\n",
       "      <td>...</td>\n",
       "    </tr>\n",
       "    <tr>\n",
       "      <th>2022-12-08</th>\n",
       "      <td>32.970001</td>\n",
       "      <td>32.990002</td>\n",
       "      <td>32.180000</td>\n",
       "      <td>32.439999</td>\n",
       "      <td>32.230953</td>\n",
       "      <td>45491100</td>\n",
       "      <td>44.849998</td>\n",
       "      <td>45.369999</td>\n",
       "      <td>44.259998</td>\n",
       "      <td>44.689999</td>\n",
       "      <td>...</td>\n",
       "      <td>87.000000</td>\n",
       "      <td>88.690002</td>\n",
       "      <td>87.980370</td>\n",
       "      <td>6141400</td>\n",
       "      <td>42.709999</td>\n",
       "      <td>42.889999</td>\n",
       "      <td>42.110001</td>\n",
       "      <td>42.580002</td>\n",
       "      <td>42.310108</td>\n",
       "      <td>17161400</td>\n",
       "    </tr>\n",
       "    <tr>\n",
       "      <th>2022-12-09</th>\n",
       "      <td>32.110001</td>\n",
       "      <td>32.599998</td>\n",
       "      <td>32.080002</td>\n",
       "      <td>32.380001</td>\n",
       "      <td>32.171345</td>\n",
       "      <td>36985500</td>\n",
       "      <td>44.599998</td>\n",
       "      <td>45.189999</td>\n",
       "      <td>44.549999</td>\n",
       "      <td>44.860001</td>\n",
       "      <td>...</td>\n",
       "      <td>88.370003</td>\n",
       "      <td>89.470001</td>\n",
       "      <td>88.754128</td>\n",
       "      <td>6488300</td>\n",
       "      <td>42.330002</td>\n",
       "      <td>42.919998</td>\n",
       "      <td>42.320000</td>\n",
       "      <td>42.500000</td>\n",
       "      <td>42.230614</td>\n",
       "      <td>16023700</td>\n",
       "    </tr>\n",
       "    <tr>\n",
       "      <th>2022-12-12</th>\n",
       "      <td>32.310001</td>\n",
       "      <td>32.779999</td>\n",
       "      <td>32.060001</td>\n",
       "      <td>32.730000</td>\n",
       "      <td>32.519085</td>\n",
       "      <td>41060500</td>\n",
       "      <td>44.650002</td>\n",
       "      <td>45.799999</td>\n",
       "      <td>44.360001</td>\n",
       "      <td>45.770000</td>\n",
       "      <td>...</td>\n",
       "      <td>88.279999</td>\n",
       "      <td>91.120003</td>\n",
       "      <td>90.390930</td>\n",
       "      <td>7496200</td>\n",
       "      <td>42.599998</td>\n",
       "      <td>42.930000</td>\n",
       "      <td>42.110001</td>\n",
       "      <td>42.860001</td>\n",
       "      <td>42.588333</td>\n",
       "      <td>18428900</td>\n",
       "    </tr>\n",
       "    <tr>\n",
       "      <th>2022-12-13</th>\n",
       "      <td>33.549999</td>\n",
       "      <td>33.669998</td>\n",
       "      <td>32.570000</td>\n",
       "      <td>32.750000</td>\n",
       "      <td>32.538960</td>\n",
       "      <td>54804800</td>\n",
       "      <td>46.840000</td>\n",
       "      <td>47.849998</td>\n",
       "      <td>46.240002</td>\n",
       "      <td>46.590000</td>\n",
       "      <td>...</td>\n",
       "      <td>92.070000</td>\n",
       "      <td>92.709999</td>\n",
       "      <td>91.968201</td>\n",
       "      <td>10330500</td>\n",
       "      <td>43.880001</td>\n",
       "      <td>44.080002</td>\n",
       "      <td>42.110001</td>\n",
       "      <td>42.619999</td>\n",
       "      <td>42.349854</td>\n",
       "      <td>31496000</td>\n",
       "    </tr>\n",
       "    <tr>\n",
       "      <th>2022-12-14</th>\n",
       "      <td>32.799999</td>\n",
       "      <td>33.000000</td>\n",
       "      <td>32.160000</td>\n",
       "      <td>32.279999</td>\n",
       "      <td>32.071987</td>\n",
       "      <td>48819500</td>\n",
       "      <td>46.509998</td>\n",
       "      <td>47.040001</td>\n",
       "      <td>45.720001</td>\n",
       "      <td>45.980000</td>\n",
       "      <td>...</td>\n",
       "      <td>89.870003</td>\n",
       "      <td>90.500000</td>\n",
       "      <td>89.775887</td>\n",
       "      <td>7704600</td>\n",
       "      <td>42.590000</td>\n",
       "      <td>43.230000</td>\n",
       "      <td>41.950001</td>\n",
       "      <td>42.180000</td>\n",
       "      <td>41.912643</td>\n",
       "      <td>22044400</td>\n",
       "    </tr>\n",
       "  </tbody>\n",
       "</table>\n",
       "<p>4268 rows × 36 columns</p>\n",
       "</div>"
      ],
      "text/plain": [
       "Bank Ticker        BAC                                                        \\\n",
       "Stock Info        Open       High        Low      Close  Adj Close    Volume   \n",
       "Date                                                                           \n",
       "2006-01-03   46.919998  47.180000  46.150002  47.080002  32.956566  16296700   \n",
       "2006-01-04   47.000000  47.240002  46.450001  46.580002  32.606560  17757900   \n",
       "2006-01-05   46.580002  46.830002  46.320000  46.639999  32.648560  14970700   \n",
       "2006-01-06   46.799999  46.910000  46.349998  46.570000  32.599545  12599800   \n",
       "2006-01-09   46.720001  46.970001  46.360001  46.599998  32.620544  15619400   \n",
       "...                ...        ...        ...        ...        ...       ...   \n",
       "2022-12-08   32.970001  32.990002  32.180000  32.439999  32.230953  45491100   \n",
       "2022-12-09   32.110001  32.599998  32.080002  32.380001  32.171345  36985500   \n",
       "2022-12-12   32.310001  32.779999  32.060001  32.730000  32.519085  41060500   \n",
       "2022-12-13   33.549999  33.669998  32.570000  32.750000  32.538960  54804800   \n",
       "2022-12-14   32.799999  33.000000  32.160000  32.279999  32.071987  48819500   \n",
       "\n",
       "Bank Ticker           C                                      ...         MS  \\\n",
       "Stock Info         Open        High         Low       Close  ...        Low   \n",
       "Date                                                         ...              \n",
       "2006-01-03   490.000000  493.799988  481.100006  492.899994  ...  56.740002   \n",
       "2006-01-04   488.600006  491.000000  483.500000  483.799988  ...  58.349998   \n",
       "2006-01-05   484.399994  487.799988  484.000000  486.200012  ...  58.020000   \n",
       "2006-01-06   488.799988  489.000000  482.000000  486.200012  ...  58.049999   \n",
       "2006-01-09   486.000000  487.399994  483.000000  483.899994  ...  58.619999   \n",
       "...                 ...         ...         ...         ...  ...        ...   \n",
       "2022-12-08    44.849998   45.369999   44.259998   44.689999  ...  87.000000   \n",
       "2022-12-09    44.599998   45.189999   44.549999   44.860001  ...  88.370003   \n",
       "2022-12-12    44.650002   45.799999   44.360001   45.770000  ...  88.279999   \n",
       "2022-12-13    46.840000   47.849998   46.240002   46.590000  ...  92.070000   \n",
       "2022-12-14    46.509998   47.040001   45.720001   45.980000  ...  89.870003   \n",
       "\n",
       "Bank Ticker                                        WFC                        \\\n",
       "Stock Info       Close  Adj Close    Volume       Open       High        Low   \n",
       "Date                                                                           \n",
       "2006-01-03   58.310001  34.607491   5377000  31.600000  31.975000  31.195000   \n",
       "2006-01-04   58.349998  34.631248   7977800  31.799999  31.820000  31.365000   \n",
       "2006-01-05   58.509998  34.726208   5778000  31.500000  31.555000  31.309999   \n",
       "2006-01-06   58.570000  34.761810   6889800  31.580000  31.775000  31.385000   \n",
       "2006-01-09   59.189999  35.129787   4144500  31.674999  31.825001  31.555000   \n",
       "...                ...        ...       ...        ...        ...        ...   \n",
       "2022-12-08   88.690002  87.980370   6141400  42.709999  42.889999  42.110001   \n",
       "2022-12-09   89.470001  88.754128   6488300  42.330002  42.919998  42.320000   \n",
       "2022-12-12   91.120003  90.390930   7496200  42.599998  42.930000  42.110001   \n",
       "2022-12-13   92.709999  91.968201  10330500  43.880001  44.080002  42.110001   \n",
       "2022-12-14   90.500000  89.775887   7704600  42.590000  43.230000  41.950001   \n",
       "\n",
       "Bank Ticker                                  \n",
       "Stock Info       Close  Adj Close    Volume  \n",
       "Date                                         \n",
       "2006-01-03   31.900000  19.849184  11016400  \n",
       "2006-01-04   31.530001  19.618959  10870000  \n",
       "2006-01-05   31.495001  19.597176  10158000  \n",
       "2006-01-06   31.680000  19.712292   8403800  \n",
       "2006-01-09   31.674999  19.709181   5619600  \n",
       "...                ...        ...       ...  \n",
       "2022-12-08   42.580002  42.310108  17161400  \n",
       "2022-12-09   42.500000  42.230614  16023700  \n",
       "2022-12-12   42.860001  42.588333  18428900  \n",
       "2022-12-13   42.619999  42.349854  31496000  \n",
       "2022-12-14   42.180000  41.912643  22044400  \n",
       "\n",
       "[4268 rows x 36 columns]"
      ]
     },
     "execution_count": 7,
     "metadata": {},
     "output_type": "execute_result"
    }
   ],
   "source": [
    "bank_stocks"
   ]
  },
  {
   "cell_type": "markdown",
   "metadata": {},
   "source": [
    "# EDA\n",
    "** What is the max Close price for each bank's stock throughout the time period?**"
   ]
  },
  {
   "cell_type": "code",
   "execution_count": 8,
   "metadata": {},
   "outputs": [
    {
     "data": {
      "text/plain": [
       "Bank Ticker\n",
       "BAC     54.900002\n",
       "C      564.099976\n",
       "GS     423.850006\n",
       "JPM    171.779999\n",
       "MS     108.730003\n",
       "WFC     65.930000\n",
       "dtype: float64"
      ]
     },
     "execution_count": 8,
     "metadata": {},
     "output_type": "execute_result"
    }
   ],
   "source": [
    "bank_stocks.xs('Close',level=1, axis=1).max()"
   ]
  },
  {
   "cell_type": "markdown",
   "metadata": {},
   "source": [
    "** Create a new empty DataFrame called returns. This dataframe will contain the returns for each bank's stock. returns are typically defined by:**\n",
    "\n",
    "$$r_t = \\frac{p_t - p_{t-1}}{p_{t-1}} = \\frac{p_t}{p_{t-1}} - 1$$"
   ]
  },
  {
   "cell_type": "code",
   "execution_count": 9,
   "metadata": {},
   "outputs": [],
   "source": [
    "returns_US = pd.DataFrame()"
   ]
  },
  {
   "cell_type": "markdown",
   "metadata": {},
   "source": [
    "** pandas pct_change() is used to get return value.**"
   ]
  },
  {
   "cell_type": "code",
   "execution_count": 10,
   "metadata": {},
   "outputs": [],
   "source": [
    "for tick in tickers:\n",
    "    returns_US[tick +' Return'] = bank_stocks[tick]['Close'].pct_change() "
   ]
  },
  {
   "cell_type": "code",
   "execution_count": 11,
   "metadata": {},
   "outputs": [
    {
     "data": {
      "text/html": [
       "<div>\n",
       "<style scoped>\n",
       "    .dataframe tbody tr th:only-of-type {\n",
       "        vertical-align: middle;\n",
       "    }\n",
       "\n",
       "    .dataframe tbody tr th {\n",
       "        vertical-align: top;\n",
       "    }\n",
       "\n",
       "    .dataframe thead th {\n",
       "        text-align: right;\n",
       "    }\n",
       "</style>\n",
       "<table border=\"1\" class=\"dataframe\">\n",
       "  <thead>\n",
       "    <tr style=\"text-align: right;\">\n",
       "      <th></th>\n",
       "      <th>BAC Return</th>\n",
       "      <th>C Return</th>\n",
       "      <th>GS Return</th>\n",
       "      <th>JPM Return</th>\n",
       "      <th>MS Return</th>\n",
       "      <th>WFC Return</th>\n",
       "    </tr>\n",
       "    <tr>\n",
       "      <th>Date</th>\n",
       "      <th></th>\n",
       "      <th></th>\n",
       "      <th></th>\n",
       "      <th></th>\n",
       "      <th></th>\n",
       "      <th></th>\n",
       "    </tr>\n",
       "  </thead>\n",
       "  <tbody>\n",
       "    <tr>\n",
       "      <th>2006-01-03</th>\n",
       "      <td>NaN</td>\n",
       "      <td>NaN</td>\n",
       "      <td>NaN</td>\n",
       "      <td>NaN</td>\n",
       "      <td>NaN</td>\n",
       "      <td>NaN</td>\n",
       "    </tr>\n",
       "    <tr>\n",
       "      <th>2006-01-04</th>\n",
       "      <td>-0.010620</td>\n",
       "      <td>-0.018462</td>\n",
       "      <td>-0.013812</td>\n",
       "      <td>-0.014183</td>\n",
       "      <td>0.000686</td>\n",
       "      <td>-0.011599</td>\n",
       "    </tr>\n",
       "    <tr>\n",
       "      <th>2006-01-05</th>\n",
       "      <td>0.001288</td>\n",
       "      <td>0.004961</td>\n",
       "      <td>-0.000393</td>\n",
       "      <td>0.003029</td>\n",
       "      <td>0.002742</td>\n",
       "      <td>-0.001110</td>\n",
       "    </tr>\n",
       "    <tr>\n",
       "      <th>2006-01-06</th>\n",
       "      <td>-0.001501</td>\n",
       "      <td>0.000000</td>\n",
       "      <td>0.014169</td>\n",
       "      <td>0.007046</td>\n",
       "      <td>0.001025</td>\n",
       "      <td>0.005874</td>\n",
       "    </tr>\n",
       "    <tr>\n",
       "      <th>2006-01-09</th>\n",
       "      <td>0.000644</td>\n",
       "      <td>-0.004731</td>\n",
       "      <td>0.012030</td>\n",
       "      <td>0.016242</td>\n",
       "      <td>0.010586</td>\n",
       "      <td>-0.000158</td>\n",
       "    </tr>\n",
       "    <tr>\n",
       "      <th>...</th>\n",
       "      <td>...</td>\n",
       "      <td>...</td>\n",
       "      <td>...</td>\n",
       "      <td>...</td>\n",
       "      <td>...</td>\n",
       "      <td>...</td>\n",
       "    </tr>\n",
       "    <tr>\n",
       "      <th>2022-12-08</th>\n",
       "      <td>-0.009163</td>\n",
       "      <td>0.000448</td>\n",
       "      <td>-0.005112</td>\n",
       "      <td>0.010494</td>\n",
       "      <td>0.016155</td>\n",
       "      <td>0.003062</td>\n",
       "    </tr>\n",
       "    <tr>\n",
       "      <th>2022-12-09</th>\n",
       "      <td>-0.001849</td>\n",
       "      <td>0.003804</td>\n",
       "      <td>0.002960</td>\n",
       "      <td>-0.005418</td>\n",
       "      <td>0.008795</td>\n",
       "      <td>-0.001879</td>\n",
       "    </tr>\n",
       "    <tr>\n",
       "      <th>2022-12-12</th>\n",
       "      <td>0.010809</td>\n",
       "      <td>0.020285</td>\n",
       "      <td>0.011249</td>\n",
       "      <td>0.015512</td>\n",
       "      <td>0.018442</td>\n",
       "      <td>0.008471</td>\n",
       "    </tr>\n",
       "    <tr>\n",
       "      <th>2022-12-13</th>\n",
       "      <td>0.000611</td>\n",
       "      <td>0.017916</td>\n",
       "      <td>0.015172</td>\n",
       "      <td>-0.000969</td>\n",
       "      <td>0.017449</td>\n",
       "      <td>-0.005600</td>\n",
       "    </tr>\n",
       "    <tr>\n",
       "      <th>2022-12-14</th>\n",
       "      <td>-0.014351</td>\n",
       "      <td>-0.013093</td>\n",
       "      <td>-0.022539</td>\n",
       "      <td>-0.004997</td>\n",
       "      <td>-0.023838</td>\n",
       "      <td>-0.010324</td>\n",
       "    </tr>\n",
       "  </tbody>\n",
       "</table>\n",
       "<p>4268 rows × 6 columns</p>\n",
       "</div>"
      ],
      "text/plain": [
       "            BAC Return  C Return  GS Return  JPM Return  MS Return  WFC Return\n",
       "Date                                                                          \n",
       "2006-01-03         NaN       NaN        NaN         NaN        NaN         NaN\n",
       "2006-01-04   -0.010620 -0.018462  -0.013812   -0.014183   0.000686   -0.011599\n",
       "2006-01-05    0.001288  0.004961  -0.000393    0.003029   0.002742   -0.001110\n",
       "2006-01-06   -0.001501  0.000000   0.014169    0.007046   0.001025    0.005874\n",
       "2006-01-09    0.000644 -0.004731   0.012030    0.016242   0.010586   -0.000158\n",
       "...                ...       ...        ...         ...        ...         ...\n",
       "2022-12-08   -0.009163  0.000448  -0.005112    0.010494   0.016155    0.003062\n",
       "2022-12-09   -0.001849  0.003804   0.002960   -0.005418   0.008795   -0.001879\n",
       "2022-12-12    0.010809  0.020285   0.011249    0.015512   0.018442    0.008471\n",
       "2022-12-13    0.000611  0.017916   0.015172   -0.000969   0.017449   -0.005600\n",
       "2022-12-14   -0.014351 -0.013093  -0.022539   -0.004997  -0.023838   -0.010324\n",
       "\n",
       "[4268 rows x 6 columns]"
      ]
     },
     "execution_count": 11,
     "metadata": {},
     "output_type": "execute_result"
    }
   ],
   "source": [
    "returns_US"
   ]
  },
  {
   "cell_type": "markdown",
   "metadata": {},
   "source": [
    "** pair plot of return_US**"
   ]
  },
  {
   "cell_type": "code",
   "execution_count": 12,
   "metadata": {},
   "outputs": [],
   "source": [
    "import seaborn as sns\n",
    "sns.set_style('whitegrid')"
   ]
  },
  {
   "cell_type": "code",
   "execution_count": 13,
   "metadata": {},
   "outputs": [
    {
     "data": {
      "text/plain": [
       "<seaborn.axisgrid.PairGrid at 0x1746ca17fd0>"
      ]
     },
     "execution_count": 13,
     "metadata": {},
     "output_type": "execute_result"
    },
    {
     "data": {
      "image/png": "[encoded data removed]",
      "text/plain": [
       "<Figure size 1080x1080 with 42 Axes>"
      ]
     },
     "metadata": {},
     "output_type": "display_data"
    }
   ],
   "source": [
    "sns.pairplot(returns_US )"
   ]
  },
  {
   "cell_type": "markdown",
   "metadata": {},
   "source": [
    "** Using this returns DataFrame, figure out on what dates each bank stock had the best and worst single day returns. You should notice that 4 of the banks share the same day for the worst drop.**"
   ]
  },
  {
   "cell_type": "code",
   "execution_count": 14,
   "metadata": {},
   "outputs": [
    {
     "data": {
      "text/plain": [
       "BAC Return   2009-04-09\n",
       "C Return     2008-11-24\n",
       "GS Return    2008-11-24\n",
       "JPM Return   2009-01-21\n",
       "MS Return    2008-10-13\n",
       "WFC Return   2008-07-16\n",
       "dtype: datetime64[ns]"
      ]
     },
     "execution_count": 14,
     "metadata": {},
     "output_type": "execute_result"
    }
   ],
   "source": [
    "returns_US.idxmax()"
   ]
  },
  {
   "cell_type": "code",
   "execution_count": 15,
   "metadata": {},
   "outputs": [
    {
     "data": {
      "text/plain": [
       "BAC Return   2009-01-20\n",
       "C Return     2009-02-27\n",
       "GS Return    2009-01-20\n",
       "JPM Return   2009-01-20\n",
       "MS Return    2008-10-09\n",
       "WFC Return   2009-01-20\n",
       "dtype: datetime64[ns]"
      ]
     },
     "execution_count": 15,
     "metadata": {},
     "output_type": "execute_result"
    }
   ],
   "source": [
    "returns_US.idxmin()"
   ]
  },
  {
   "cell_type": "markdown",
   "metadata": {},
   "source": [
    "** Take standard deviation of the returns**\n",
    "riskiest stock over the entire time period?"
   ]
  },
  {
   "cell_type": "code",
   "execution_count": 16,
   "metadata": {},
   "outputs": [
    {
     "data": {
      "text/plain": [
       "BAC Return    0.031208\n",
       "C Return      0.032989\n",
       "GS Return     0.023100\n",
       "JPM Return    0.024335\n",
       "MS Return     0.032019\n",
       "WFC Return    0.026896\n",
       "dtype: float64"
      ]
     },
     "execution_count": 16,
     "metadata": {},
     "output_type": "execute_result"
    }
   ],
   "source": [
    "returns_US.std()"
   ]
  },
  {
   "cell_type": "markdown",
   "metadata": {},
   "source": [
    "** Riskiest stock for the year 2015? **"
   ]
  },
  {
   "cell_type": "code",
   "execution_count": 17,
   "metadata": {},
   "outputs": [
    {
     "data": {
      "text/plain": [
       "BAC Return    0.016163\n",
       "C Return      0.015289\n",
       "GS Return     0.014046\n",
       "JPM Return    0.014017\n",
       "MS Return     0.016249\n",
       "WFC Return    0.012591\n",
       "dtype: float64"
      ]
     },
     "execution_count": 17,
     "metadata": {},
     "output_type": "execute_result"
    }
   ],
   "source": [
    "returns_US.loc['2015-1-1':'2015-12-31'].std()"
   ]
  },
  {
   "cell_type": "markdown",
   "metadata": {},
   "source": [
    "** Distplot of the 2015 returns for Morgan Stanley using seaborn **"
   ]
  },
  {
   "cell_type": "code",
   "execution_count": 18,
   "metadata": {},
   "outputs": [
    {
     "data": {
      "text/plain": [
       "Date\n",
       "2015-01-02   -0.002320\n",
       "2015-01-05   -0.031258\n",
       "2015-01-06   -0.028800\n",
       "2015-01-07    0.014278\n",
       "2015-01-08    0.014889\n",
       "                ...   \n",
       "2015-12-24   -0.003681\n",
       "2015-12-28   -0.009544\n",
       "2015-12-29    0.011812\n",
       "2015-12-30   -0.009831\n",
       "2015-12-31   -0.013031\n",
       "Name: MS Return, Length: 252, dtype: float64"
      ]
     },
     "execution_count": 18,
     "metadata": {},
     "output_type": "execute_result"
    }
   ],
   "source": [
    "returns_US['MS Return'].loc['2015-1-1':'2015-12-31']"
   ]
  },
  {
   "cell_type": "code",
   "execution_count": 19,
   "metadata": {},
   "outputs": [
    {
     "data": {
      "text/plain": [
       "<seaborn.axisgrid.FacetGrid at 0x1747153a850>"
      ]
     },
     "execution_count": 19,
     "metadata": {},
     "output_type": "execute_result"
    },
    {
     "data": {
      "image/png": "[encoded data removed]",
      "text/plain": [
       "<Figure size 360x360 with 1 Axes>"
      ]
     },
     "metadata": {},
     "output_type": "display_data"
    }
   ],
   "source": [
    "sns.displot(returns_US['MS Return']['2015-1-1':'2015-12-31'],bins=100, kde=True)"
   ]
  },
  {
   "cell_type": "markdown",
   "metadata": {},
   "source": [
    "** Distplot of the 2008 returns for CitiGroup using seaborn **"
   ]
  },
  {
   "cell_type": "code",
   "execution_count": 20,
   "metadata": {},
   "outputs": [
    {
     "data": {
      "text/plain": [
       "<seaborn.axisgrid.FacetGrid at 0x174714d45b0>"
      ]
     },
     "execution_count": 20,
     "metadata": {},
     "output_type": "execute_result"
    },
    {
     "data": {
      "image/png": "[encoded data removed]",
      "text/plain": [
       "<Figure size 360x360 with 1 Axes>"
      ]
     },
     "metadata": {},
     "output_type": "display_data"
    }
   ],
   "source": [
    "sns.displot(returns_US['C Return']['2008-1-1':'2008-12-31'],bins=100, kde=True)"
   ]
  },
  {
   "cell_type": "markdown",
   "metadata": {},
   "source": [
    "____\n",
    "# More Visualization\n",
    "\n",
    "### Imports"
   ]
  },
  {
   "cell_type": "code",
   "execution_count": 21,
   "metadata": {},
   "outputs": [
    {
     "data": {
      "text/html": [
       "        <script type=\"text/javascript\">\n",
       "        window.PlotlyConfig = {MathJaxConfig: 'local'};\n",
       "        if (window.MathJax) {MathJax.Hub.Config({SVG: {font: \"STIX-Web\"}});}\n",
       "        if (typeof require !== 'undefined') {\n",
       "        require.undef(\"plotly\");\n",
       "        requirejs.config({\n",
       "            paths: {\n",
       "                'plotly': ['https://cdn.plot.ly/plotly-2.9.0.min']\n",
       "            }\n",
       "        });\n",
       "        require(['plotly'], function(Plotly) {\n",
       "            window._Plotly = Plotly;\n",
       "        });\n",
       "        }\n",
       "        </script>\n",
       "        "
      ]
     },
     "metadata": {},
     "output_type": "display_data"
    }
   ],
   "source": [
    "import matplotlib.pyplot as plt\n",
    "import seaborn as sns\n",
    "sns.set_style('whitegrid')\n",
    "%matplotlib inline\n",
    "\n",
    "# Optional Plotly Method Imports\n",
    "import plotly\n",
    "import cufflinks as cf\n",
    "cf.go_offline()"
   ]
  },
  {
   "cell_type": "markdown",
   "metadata": {},
   "source": [
    "** Line plot showing Close price for each bank for the entire index of time.**"
   ]
  },
  {
   "cell_type": "code",
   "execution_count": 22,
   "metadata": {},
   "outputs": [
    {
     "data": {
      "text/html": [
       "<div>\n",
       "<style scoped>\n",
       "    .dataframe tbody tr th:only-of-type {\n",
       "        vertical-align: middle;\n",
       "    }\n",
       "\n",
       "    .dataframe tbody tr th {\n",
       "        vertical-align: top;\n",
       "    }\n",
       "\n",
       "    .dataframe thead tr th {\n",
       "        text-align: left;\n",
       "    }\n",
       "\n",
       "    .dataframe thead tr:last-of-type th {\n",
       "        text-align: right;\n",
       "    }\n",
       "</style>\n",
       "<table border=\"1\" class=\"dataframe\">\n",
       "  <thead>\n",
       "    <tr>\n",
       "      <th>Bank Ticker</th>\n",
       "      <th colspan=\"6\" halign=\"left\">BAC</th>\n",
       "      <th colspan=\"4\" halign=\"left\">C</th>\n",
       "      <th>...</th>\n",
       "      <th colspan=\"4\" halign=\"left\">MS</th>\n",
       "      <th colspan=\"6\" halign=\"left\">WFC</th>\n",
       "    </tr>\n",
       "    <tr>\n",
       "      <th>Stock Info</th>\n",
       "      <th>Open</th>\n",
       "      <th>High</th>\n",
       "      <th>Low</th>\n",
       "      <th>Close</th>\n",
       "      <th>Adj Close</th>\n",
       "      <th>Volume</th>\n",
       "      <th>Open</th>\n",
       "      <th>High</th>\n",
       "      <th>Low</th>\n",
       "      <th>Close</th>\n",
       "      <th>...</th>\n",
       "      <th>Low</th>\n",
       "      <th>Close</th>\n",
       "      <th>Adj Close</th>\n",
       "      <th>Volume</th>\n",
       "      <th>Open</th>\n",
       "      <th>High</th>\n",
       "      <th>Low</th>\n",
       "      <th>Close</th>\n",
       "      <th>Adj Close</th>\n",
       "      <th>Volume</th>\n",
       "    </tr>\n",
       "    <tr>\n",
       "      <th>Date</th>\n",
       "      <th></th>\n",
       "      <th></th>\n",
       "      <th></th>\n",
       "      <th></th>\n",
       "      <th></th>\n",
       "      <th></th>\n",
       "      <th></th>\n",
       "      <th></th>\n",
       "      <th></th>\n",
       "      <th></th>\n",
       "      <th></th>\n",
       "      <th></th>\n",
       "      <th></th>\n",
       "      <th></th>\n",
       "      <th></th>\n",
       "      <th></th>\n",
       "      <th></th>\n",
       "      <th></th>\n",
       "      <th></th>\n",
       "      <th></th>\n",
       "      <th></th>\n",
       "    </tr>\n",
       "  </thead>\n",
       "  <tbody>\n",
       "    <tr>\n",
       "      <th>2006-01-03</th>\n",
       "      <td>46.919998</td>\n",
       "      <td>47.180000</td>\n",
       "      <td>46.150002</td>\n",
       "      <td>47.080002</td>\n",
       "      <td>32.956566</td>\n",
       "      <td>16296700</td>\n",
       "      <td>490.000000</td>\n",
       "      <td>493.799988</td>\n",
       "      <td>481.100006</td>\n",
       "      <td>492.899994</td>\n",
       "      <td>...</td>\n",
       "      <td>56.740002</td>\n",
       "      <td>58.310001</td>\n",
       "      <td>34.607491</td>\n",
       "      <td>5377000</td>\n",
       "      <td>31.600000</td>\n",
       "      <td>31.975000</td>\n",
       "      <td>31.195000</td>\n",
       "      <td>31.900000</td>\n",
       "      <td>19.849184</td>\n",
       "      <td>11016400</td>\n",
       "    </tr>\n",
       "    <tr>\n",
       "      <th>2006-01-04</th>\n",
       "      <td>47.000000</td>\n",
       "      <td>47.240002</td>\n",
       "      <td>46.450001</td>\n",
       "      <td>46.580002</td>\n",
       "      <td>32.606560</td>\n",
       "      <td>17757900</td>\n",
       "      <td>488.600006</td>\n",
       "      <td>491.000000</td>\n",
       "      <td>483.500000</td>\n",
       "      <td>483.799988</td>\n",
       "      <td>...</td>\n",
       "      <td>58.349998</td>\n",
       "      <td>58.349998</td>\n",
       "      <td>34.631248</td>\n",
       "      <td>7977800</td>\n",
       "      <td>31.799999</td>\n",
       "      <td>31.820000</td>\n",
       "      <td>31.365000</td>\n",
       "      <td>31.530001</td>\n",
       "      <td>19.618959</td>\n",
       "      <td>10870000</td>\n",
       "    </tr>\n",
       "    <tr>\n",
       "      <th>2006-01-05</th>\n",
       "      <td>46.580002</td>\n",
       "      <td>46.830002</td>\n",
       "      <td>46.320000</td>\n",
       "      <td>46.639999</td>\n",
       "      <td>32.648560</td>\n",
       "      <td>14970700</td>\n",
       "      <td>484.399994</td>\n",
       "      <td>487.799988</td>\n",
       "      <td>484.000000</td>\n",
       "      <td>486.200012</td>\n",
       "      <td>...</td>\n",
       "      <td>58.020000</td>\n",
       "      <td>58.509998</td>\n",
       "      <td>34.726208</td>\n",
       "      <td>5778000</td>\n",
       "      <td>31.500000</td>\n",
       "      <td>31.555000</td>\n",
       "      <td>31.309999</td>\n",
       "      <td>31.495001</td>\n",
       "      <td>19.597176</td>\n",
       "      <td>10158000</td>\n",
       "    </tr>\n",
       "    <tr>\n",
       "      <th>2006-01-06</th>\n",
       "      <td>46.799999</td>\n",
       "      <td>46.910000</td>\n",
       "      <td>46.349998</td>\n",
       "      <td>46.570000</td>\n",
       "      <td>32.599545</td>\n",
       "      <td>12599800</td>\n",
       "      <td>488.799988</td>\n",
       "      <td>489.000000</td>\n",
       "      <td>482.000000</td>\n",
       "      <td>486.200012</td>\n",
       "      <td>...</td>\n",
       "      <td>58.049999</td>\n",
       "      <td>58.570000</td>\n",
       "      <td>34.761810</td>\n",
       "      <td>6889800</td>\n",
       "      <td>31.580000</td>\n",
       "      <td>31.775000</td>\n",
       "      <td>31.385000</td>\n",
       "      <td>31.680000</td>\n",
       "      <td>19.712292</td>\n",
       "      <td>8403800</td>\n",
       "    </tr>\n",
       "    <tr>\n",
       "      <th>2006-01-09</th>\n",
       "      <td>46.720001</td>\n",
       "      <td>46.970001</td>\n",
       "      <td>46.360001</td>\n",
       "      <td>46.599998</td>\n",
       "      <td>32.620544</td>\n",
       "      <td>15619400</td>\n",
       "      <td>486.000000</td>\n",
       "      <td>487.399994</td>\n",
       "      <td>483.000000</td>\n",
       "      <td>483.899994</td>\n",
       "      <td>...</td>\n",
       "      <td>58.619999</td>\n",
       "      <td>59.189999</td>\n",
       "      <td>35.129787</td>\n",
       "      <td>4144500</td>\n",
       "      <td>31.674999</td>\n",
       "      <td>31.825001</td>\n",
       "      <td>31.555000</td>\n",
       "      <td>31.674999</td>\n",
       "      <td>19.709181</td>\n",
       "      <td>5619600</td>\n",
       "    </tr>\n",
       "    <tr>\n",
       "      <th>...</th>\n",
       "      <td>...</td>\n",
       "      <td>...</td>\n",
       "      <td>...</td>\n",
       "      <td>...</td>\n",
       "      <td>...</td>\n",
       "      <td>...</td>\n",
       "      <td>...</td>\n",
       "      <td>...</td>\n",
       "      <td>...</td>\n",
       "      <td>...</td>\n",
       "      <td>...</td>\n",
       "      <td>...</td>\n",
       "      <td>...</td>\n",
       "      <td>...</td>\n",
       "      <td>...</td>\n",
       "      <td>...</td>\n",
       "      <td>...</td>\n",
       "      <td>...</td>\n",
       "      <td>...</td>\n",
       "      <td>...</td>\n",
       "      <td>...</td>\n",
       "    </tr>\n",
       "    <tr>\n",
       "      <th>2022-12-08</th>\n",
       "      <td>32.970001</td>\n",
       "      <td>32.990002</td>\n",
       "      <td>32.180000</td>\n",
       "      <td>32.439999</td>\n",
       "      <td>32.230953</td>\n",
       "      <td>45491100</td>\n",
       "      <td>44.849998</td>\n",
       "      <td>45.369999</td>\n",
       "      <td>44.259998</td>\n",
       "      <td>44.689999</td>\n",
       "      <td>...</td>\n",
       "      <td>87.000000</td>\n",
       "      <td>88.690002</td>\n",
       "      <td>87.980370</td>\n",
       "      <td>6141400</td>\n",
       "      <td>42.709999</td>\n",
       "      <td>42.889999</td>\n",
       "      <td>42.110001</td>\n",
       "      <td>42.580002</td>\n",
       "      <td>42.310108</td>\n",
       "      <td>17161400</td>\n",
       "    </tr>\n",
       "    <tr>\n",
       "      <th>2022-12-09</th>\n",
       "      <td>32.110001</td>\n",
       "      <td>32.599998</td>\n",
       "      <td>32.080002</td>\n",
       "      <td>32.380001</td>\n",
       "      <td>32.171345</td>\n",
       "      <td>36985500</td>\n",
       "      <td>44.599998</td>\n",
       "      <td>45.189999</td>\n",
       "      <td>44.549999</td>\n",
       "      <td>44.860001</td>\n",
       "      <td>...</td>\n",
       "      <td>88.370003</td>\n",
       "      <td>89.470001</td>\n",
       "      <td>88.754128</td>\n",
       "      <td>6488300</td>\n",
       "      <td>42.330002</td>\n",
       "      <td>42.919998</td>\n",
       "      <td>42.320000</td>\n",
       "      <td>42.500000</td>\n",
       "      <td>42.230614</td>\n",
       "      <td>16023700</td>\n",
       "    </tr>\n",
       "    <tr>\n",
       "      <th>2022-12-12</th>\n",
       "      <td>32.310001</td>\n",
       "      <td>32.779999</td>\n",
       "      <td>32.060001</td>\n",
       "      <td>32.730000</td>\n",
       "      <td>32.519085</td>\n",
       "      <td>41060500</td>\n",
       "      <td>44.650002</td>\n",
       "      <td>45.799999</td>\n",
       "      <td>44.360001</td>\n",
       "      <td>45.770000</td>\n",
       "      <td>...</td>\n",
       "      <td>88.279999</td>\n",
       "      <td>91.120003</td>\n",
       "      <td>90.390930</td>\n",
       "      <td>7496200</td>\n",
       "      <td>42.599998</td>\n",
       "      <td>42.930000</td>\n",
       "      <td>42.110001</td>\n",
       "      <td>42.860001</td>\n",
       "      <td>42.588333</td>\n",
       "      <td>18428900</td>\n",
       "    </tr>\n",
       "    <tr>\n",
       "      <th>2022-12-13</th>\n",
       "      <td>33.549999</td>\n",
       "      <td>33.669998</td>\n",
       "      <td>32.570000</td>\n",
       "      <td>32.750000</td>\n",
       "      <td>32.538960</td>\n",
       "      <td>54804800</td>\n",
       "      <td>46.840000</td>\n",
       "      <td>47.849998</td>\n",
       "      <td>46.240002</td>\n",
       "      <td>46.590000</td>\n",
       "      <td>...</td>\n",
       "      <td>92.070000</td>\n",
       "      <td>92.709999</td>\n",
       "      <td>91.968201</td>\n",
       "      <td>10330500</td>\n",
       "      <td>43.880001</td>\n",
       "      <td>44.080002</td>\n",
       "      <td>42.110001</td>\n",
       "      <td>42.619999</td>\n",
       "      <td>42.349854</td>\n",
       "      <td>31496000</td>\n",
       "    </tr>\n",
       "    <tr>\n",
       "      <th>2022-12-14</th>\n",
       "      <td>32.799999</td>\n",
       "      <td>33.000000</td>\n",
       "      <td>32.160000</td>\n",
       "      <td>32.279999</td>\n",
       "      <td>32.071987</td>\n",
       "      <td>48819500</td>\n",
       "      <td>46.509998</td>\n",
       "      <td>47.040001</td>\n",
       "      <td>45.720001</td>\n",
       "      <td>45.980000</td>\n",
       "      <td>...</td>\n",
       "      <td>89.870003</td>\n",
       "      <td>90.500000</td>\n",
       "      <td>89.775887</td>\n",
       "      <td>7704600</td>\n",
       "      <td>42.590000</td>\n",
       "      <td>43.230000</td>\n",
       "      <td>41.950001</td>\n",
       "      <td>42.180000</td>\n",
       "      <td>41.912643</td>\n",
       "      <td>22044400</td>\n",
       "    </tr>\n",
       "  </tbody>\n",
       "</table>\n",
       "<p>4268 rows × 36 columns</p>\n",
       "</div>"
      ],
      "text/plain": [
       "Bank Ticker        BAC                                                        \\\n",
       "Stock Info        Open       High        Low      Close  Adj Close    Volume   \n",
       "Date                                                                           \n",
       "2006-01-03   46.919998  47.180000  46.150002  47.080002  32.956566  16296700   \n",
       "2006-01-04   47.000000  47.240002  46.450001  46.580002  32.606560  17757900   \n",
       "2006-01-05   46.580002  46.830002  46.320000  46.639999  32.648560  14970700   \n",
       "2006-01-06   46.799999  46.910000  46.349998  46.570000  32.599545  12599800   \n",
       "2006-01-09   46.720001  46.970001  46.360001  46.599998  32.620544  15619400   \n",
       "...                ...        ...        ...        ...        ...       ...   \n",
       "2022-12-08   32.970001  32.990002  32.180000  32.439999  32.230953  45491100   \n",
       "2022-12-09   32.110001  32.599998  32.080002  32.380001  32.171345  36985500   \n",
       "2022-12-12   32.310001  32.779999  32.060001  32.730000  32.519085  41060500   \n",
       "2022-12-13   33.549999  33.669998  32.570000  32.750000  32.538960  54804800   \n",
       "2022-12-14   32.799999  33.000000  32.160000  32.279999  32.071987  48819500   \n",
       "\n",
       "Bank Ticker           C                                      ...         MS  \\\n",
       "Stock Info         Open        High         Low       Close  ...        Low   \n",
       "Date                                                         ...              \n",
       "2006-01-03   490.000000  493.799988  481.100006  492.899994  ...  56.740002   \n",
       "2006-01-04   488.600006  491.000000  483.500000  483.799988  ...  58.349998   \n",
       "2006-01-05   484.399994  487.799988  484.000000  486.200012  ...  58.020000   \n",
       "2006-01-06   488.799988  489.000000  482.000000  486.200012  ...  58.049999   \n",
       "2006-01-09   486.000000  487.399994  483.000000  483.899994  ...  58.619999   \n",
       "...                 ...         ...         ...         ...  ...        ...   \n",
       "2022-12-08    44.849998   45.369999   44.259998   44.689999  ...  87.000000   \n",
       "2022-12-09    44.599998   45.189999   44.549999   44.860001  ...  88.370003   \n",
       "2022-12-12    44.650002   45.799999   44.360001   45.770000  ...  88.279999   \n",
       "2022-12-13    46.840000   47.849998   46.240002   46.590000  ...  92.070000   \n",
       "2022-12-14    46.509998   47.040001   45.720001   45.980000  ...  89.870003   \n",
       "\n",
       "Bank Ticker                                        WFC                        \\\n",
       "Stock Info       Close  Adj Close    Volume       Open       High        Low   \n",
       "Date                                                                           \n",
       "2006-01-03   58.310001  34.607491   5377000  31.600000  31.975000  31.195000   \n",
       "2006-01-04   58.349998  34.631248   7977800  31.799999  31.820000  31.365000   \n",
       "2006-01-05   58.509998  34.726208   5778000  31.500000  31.555000  31.309999   \n",
       "2006-01-06   58.570000  34.761810   6889800  31.580000  31.775000  31.385000   \n",
       "2006-01-09   59.189999  35.129787   4144500  31.674999  31.825001  31.555000   \n",
       "...                ...        ...       ...        ...        ...        ...   \n",
       "2022-12-08   88.690002  87.980370   6141400  42.709999  42.889999  42.110001   \n",
       "2022-12-09   89.470001  88.754128   6488300  42.330002  42.919998  42.320000   \n",
       "2022-12-12   91.120003  90.390930   7496200  42.599998  42.930000  42.110001   \n",
       "2022-12-13   92.709999  91.968201  10330500  43.880001  44.080002  42.110001   \n",
       "2022-12-14   90.500000  89.775887   7704600  42.590000  43.230000  41.950001   \n",
       "\n",
       "Bank Ticker                                  \n",
       "Stock Info       Close  Adj Close    Volume  \n",
       "Date                                         \n",
       "2006-01-03   31.900000  19.849184  11016400  \n",
       "2006-01-04   31.530001  19.618959  10870000  \n",
       "2006-01-05   31.495001  19.597176  10158000  \n",
       "2006-01-06   31.680000  19.712292   8403800  \n",
       "2006-01-09   31.674999  19.709181   5619600  \n",
       "...                ...        ...       ...  \n",
       "2022-12-08   42.580002  42.310108  17161400  \n",
       "2022-12-09   42.500000  42.230614  16023700  \n",
       "2022-12-12   42.860001  42.588333  18428900  \n",
       "2022-12-13   42.619999  42.349854  31496000  \n",
       "2022-12-14   42.180000  41.912643  22044400  \n",
       "\n",
       "[4268 rows x 36 columns]"
      ]
     },
     "execution_count": 22,
     "metadata": {},
     "output_type": "execute_result"
    }
   ],
   "source": [
    "bank_stocks"
   ]
  },
  {
   "cell_type": "code",
   "execution_count": 23,
   "metadata": {},
   "outputs": [
    {
     "data": {
      "image/png": "[encoded data removed]",
      "text/plain": [
       "<Figure size 1080x360 with 1 Axes>"
      ]
     },
     "metadata": {
      "needs_background": "light"
     },
     "output_type": "display_data"
    }
   ],
   "source": [
    "for tick in tickers:\n",
    "    bank_stocks[tick]['Close'].plot(figsize=(15,5), label=tick)\n",
    "    plt.legend(loc=1, title='Bank Ticker')"
   ]
  },
  {
   "cell_type": "code",
   "execution_count": 24,
   "metadata": {},
   "outputs": [
    {
     "data": {
      "text/plain": [
       "<AxesSubplot:xlabel='Date'>"
      ]
     },
     "execution_count": 24,
     "metadata": {},
     "output_type": "execute_result"
    },
    {
     "data": {
      "image/png": "[encoded data removed]",
      "text/plain": [
       "<Figure size 432x288 with 1 Axes>"
      ]
     },
     "metadata": {
      "needs_background": "light"
     },
     "output_type": "display_data"
    }
   ],
   "source": [
    "bank_stocks.xs(key='Close',axis=1,level='Stock Info').plot()"
   ]
  },
  {
   "cell_type": "markdown",
   "metadata": {},
   "source": [
    "## Moving Averages\n",
    "\n",
    "Analyze the moving averages for these stocks in the year 2008. \n",
    "\n",
    "** Plot the rolling 30 day average against the Close Price for Bank Of America's stock for the year 2008**"
   ]
  },
  {
   "cell_type": "code",
   "execution_count": 25,
   "metadata": {},
   "outputs": [
    {
     "data": {
      "text/plain": [
       "<matplotlib.legend.Legend at 0x17471edaeb0>"
      ]
     },
     "execution_count": 25,
     "metadata": {},
     "output_type": "execute_result"
    },
    {
     "data": {
      "image/png": "[encoded data removed]",
      "text/plain": [
       "<Figure size 432x288 with 1 Axes>"
      ]
     },
     "metadata": {
      "needs_background": "light"
     },
     "output_type": "display_data"
    }
   ],
   "source": [
    "plt.plot(bank_stocks['BAC']['Close']['2008-1-1':'2008-12-31'],label='BAC Close')\n",
    "plt.plot(bank_stocks['BAC']['Close'].rolling(window=30,min_periods=1).mean()['2008-1-1':'2008-12-31'],label='30 Day Avg')\n",
    "plt.legend()\n"
   ]
  },
  {
   "cell_type": "markdown",
   "metadata": {},
   "source": [
    "** Heatmap of the correlation between the stocks Close Price.**"
   ]
  },
  {
   "cell_type": "code",
   "execution_count": 26,
   "metadata": {},
   "outputs": [
    {
     "data": {
      "text/plain": [
       "<AxesSubplot:xlabel='Bank Ticker', ylabel='Bank Ticker'>"
      ]
     },
     "execution_count": 26,
     "metadata": {},
     "output_type": "execute_result"
    },
    {
     "data": {
      "image/png": "[encoded data removed]",
      "text/plain": [
       "<Figure size 432x288 with 2 Axes>"
      ]
     },
     "metadata": {
      "needs_background": "light"
     },
     "output_type": "display_data"
    }
   ],
   "source": [
    "sns.heatmap(data=bank_stocks.xs('Close',level=1,axis=1).corr(),cmap='coolwarm',annot=True)"
   ]
  },
  {
   "cell_type": "markdown",
   "metadata": {},
   "source": [
    "** Cluster the correlations together using seaborn's clustermap **"
   ]
  },
  {
   "cell_type": "code",
   "execution_count": 27,
   "metadata": {},
   "outputs": [
    {
     "data": {
      "text/plain": [
       "<seaborn.matrix.ClusterGrid at 0x17474fc0970>"
      ]
     },
     "execution_count": 27,
     "metadata": {},
     "output_type": "execute_result"
    },
    {
     "data": {
      "image/png": "[encoded data removed]",
      "text/plain": [
       "<Figure size 720x720 with 4 Axes>"
      ]
     },
     "metadata": {
      "needs_background": "light"
     },
     "output_type": "display_data"
    }
   ],
   "source": [
    "sns.clustermap(data=bank_stocks.xs('Close',level=1,axis=1).corr(),cmap='coolwarm', annot=True)"
   ]
  },
  {
   "cell_type": "markdown",
   "metadata": {},
   "source": [
    "# Part 2 \n",
    "\n",
    "In this second part of the project we will rely on the cufflinks library to create some Technical Analysis plots."
   ]
  },
  {
   "cell_type": "markdown",
   "metadata": {
    "collapsed": true
   },
   "source": [
    "** Using .iplot(kind='candle) create a candle plot of Bank of America's stock from Jan 1st 2015 to Jan 1st 2016.**"
   ]
  },
  {
   "cell_type": "code",
   "execution_count": 28,
   "metadata": {},
   "outputs": [
    {
     "data": {
      "application/vnd.plotly.v1+json": {
       "config": {
        "linkText": "Export to plot.ly",
        "plotlyServerURL": "https://plot.ly",
        "showLink": true
       },
       "data": [
        {
         "close": [
          17.899999618530273,
          17.3799991607666,
          16.860000610351562,
          16.940000534057617,
          17.290000915527344,
          16.979999542236328,
          16.68000030517578,
          16.450000762939453,
          16.040000915527344,
          15.199999809265137,
          15.380000114440918,
          15.260000228881836,
          15.40999984741211,
          16.09000015258789,
          15.729999542236328,
          15.850000381469727,
          15.630000114440918,
          15.199999809265137,
          15.430000305175781,
          15.149999618530273,
          15.460000038146973,
          15.890000343322754,
          15.789999961853027,
          15.970000267028809,
          16.489999771118164,
          16.350000381469727,
          16.420000076293945,
          16.360000610351562,
          16.670000076293945,
          16.610000610351562,
          16.6299991607666,
          16.299999237060547,
          16.209999084472656,
          16.3799991607666,
          16.200000762939453,
          16.3799991607666,
          16.489999771118164,
          16.040000915527344,
          15.8100004196167,
          16.010000228881836,
          16.040000915527344,
          15.84000015258789,
          16,
          16.219999313354492,
          16.170000076293945,
          15.789999961853027,
          16.110000610351562,
          16.09000015258789,
          16.09000015258789,
          16.1299991607666,
          16.09000015258789,
          15.979999542236328,
          15.609999656677246,
          15.84000015258789,
          15.720000267028809,
          15.609999656677246,
          15.40999984741211,
          15.420000076293945,
          15.3100004196167,
          15.520000457763672,
          15.390000343322754,
          15.40999984741211,
          15.539999961853027,
          15.510000228881836,
          15.460000038146973,
          15.609999656677246,
          15.710000038146973,
          15.720000267028809,
          15.800000190734863,
          15.819999694824219,
          15.640000343322754,
          15.789999961853027,
          15.5600004196167,
          15.569999694824219,
          15.5,
          15.739999771118164,
          15.6899995803833,
          15.640000343322754,
          15.5600004196167,
          15.649999618530273,
          15.979999542236328,
          15.930000305175781,
          16.110000610351562,
          16.440000534057617,
          16.350000381469727,
          16.290000915527344,
          16.239999771118164,
          16.450000762939453,
          16.489999771118164,
          16.43000030517578,
          16.469999313354492,
          16.520000457763672,
          16.350000381469727,
          16.510000228881836,
          16.770000457763672,
          16.739999771118164,
          16.729999542236328,
          16.75,
          16.5,
          16.739999771118164,
          16.670000076293945,
          16.5,
          16.549999237060547,
          16.719999313354492,
          16.93000030517578,
          16.780000686645508,
          17.190000534057617,
          17.079999923706055,
          17.309999465942383,
          17.59000015258789,
          17.489999771118164,
          17.489999771118164,
          17.469999313354492,
          17.549999237060547,
          17.3700008392334,
          17.3799991607666,
          17.170000076293945,
          17.469999313354492,
          17.670000076293945,
          17.489999771118164,
          17.3700008392334,
          17.40999984741211,
          16.889999389648438,
          17.020000457763672,
          17.219999313354492,
          17.030000686645508,
          16.940000534057617,
          16.690000534057617,
          16.25,
          16.479999542236328,
          16.700000762939453,
          17.020000457763672,
          17.1299991607666,
          17.68000030517578,
          17.950000762939453,
          18.100000381469727,
          18.1200008392334,
          18.079999923706055,
          18.450000762939453,
          18.18000030517578,
          17.899999618530273,
          17.670000076293945,
          17.8799991607666,
          18.15999984741211,
          18.1299991607666,
          17.8799991607666,
          17.770000457763672,
          17.799999237060547,
          17.8700008392334,
          17.809999465942383,
          17.75,
          18.040000915527344,
          17.790000915527344,
          17.520000457763672,
          17.6200008392334,
          17.700000762939453,
          17.770000457763672,
          17.690000534057617,
          17.459999084472656,
          16.719999313354492,
          16.100000381469727,
          15.289999961853027,
          15.260000228881836,
          16.059999465942383,
          16.440000534057617,
          16.360000610351562,
          16.34000015258789,
          15.579999923706055,
          15.850000381469727,
          15.9399995803833,
          15.649999618530273,
          16.15999984741211,
          15.899999618530273,
          16.040000915527344,
          16.040000915527344,
          15.960000038146973,
          16.309999465942383,
          16.329999923706055,
          15.859999656677246,
          15.5600004196167,
          15.699999809265137,
          15.569999694824219,
          15.720000267028809,
          15.550000190734863,
          15.890000343322754,
          15.470000267028809,
          15.350000381469727,
          15.579999923706055,
          15.550000190734863,
          15.380000114440918,
          15.6899995803833,
          15.6899995803833,
          15.75,
          15.75,
          15.579999923706055,
          15.520000457763672,
          15.520000457763672,
          15.640000343322754,
          16.190000534057617,
          16.1200008392334,
          16.139999389648438,
          16.200000762939453,
          15.899999618530273,
          16.15999984741211,
          16.520000457763672,
          16.510000228881836,
          16.399999618530273,
          17.280000686645508,
          17.09000015258789,
          16.780000686645508,
          17.059999465942383,
          17.18000030517578,
          17.010000228881836,
          17.309999465942383,
          17.950000762939453,
          17.68000030517578,
          17.850000381469727,
          17.75,
          17.3700008392334,
          17.200000762939453,
          17.43000030517578,
          17.420000076293945,
          17.84000015258789,
          17.690000534057617,
          17.649999618530273,
          17.469999313354492,
          17.469999313354492,
          17.440000534057617,
          17.479999542236328,
          17.43000030517578,
          17.809999465942383,
          17.6200008392334,
          17.299999237060547,
          17.799999237060547,
          17.540000915527344,
          17.190000534057617,
          17.100000381469727,
          17.200000762939453,
          16.729999542236328,
          16.799999237060547,
          17.420000076293945,
          17.75,
          17.299999237060547,
          16.760000228881836,
          16.969999313354492,
          17.079999923706055,
          17.34000015258789,
          17.270000457763672,
          17.1299991607666,
          17.280000686645508,
          17.049999237060547,
          16.829999923706055
         ],
         "high": [
          18.030000686645508,
          17.809999465942383,
          17.440000534057617,
          17.18000030517578,
          17.34000015258789,
          17.3799991607666,
          17.030000686645508,
          16.889999389648438,
          16.219999313354492,
          15.760000228881836,
          15.399999618530273,
          15.630000114440918,
          15.569999694824219,
          16.190000534057617,
          16.190000534057617,
          15.930000305175781,
          15.789999961853027,
          15.729999542236328,
          15.489999771118164,
          15.470000267028809,
          15.489999771118164,
          15.930000305175781,
          16,
          16.09000015258789,
          16.75,
          16.5,
          16.6200008392334,
          16.450000762939453,
          16.729999542236328,
          16.790000915527344,
          16.68000030517578,
          16.559999465942383,
          16.3799991607666,
          16.43000030517578,
          16.31999969482422,
          16.549999237060547,
          16.5,
          16.440000534057617,
          15.880000114440918,
          16.030000686645508,
          16.149999618530273,
          15.979999542236328,
          16.030000686645508,
          16.6200008392334,
          16.329999923706055,
          16.1299991607666,
          16.15999984741211,
          16.209999084472656,
          16.149999618530273,
          16.219999313354492,
          16.1200008392334,
          16.100000381469727,
          15.970000267028809,
          15.930000305175781,
          15.880000114440918,
          15.800000190734863,
          15.649999618530273,
          15.539999961853027,
          15.489999771118164,
          15.609999656677246,
          15.520000457763672,
          15.460000038146973,
          15.619999885559082,
          15.600000381469727,
          15.649999618530273,
          15.739999771118164,
          15.760000228881836,
          15.789999961853027,
          15.859999656677246,
          15.949999809265137,
          15.850000381469727,
          15.9399995803833,
          15.75,
          15.6899995803833,
          15.640000343322754,
          15.829999923706055,
          15.800000190734863,
          15.75,
          15.760000228881836,
          15.710000038146973,
          16.040000915527344,
          16.049999237060547,
          16.149999618530273,
          16.450000762939453,
          16.610000610351562,
          16.489999771118164,
          16.329999923706055,
          16.459999084472656,
          16.59000015258789,
          16.479999542236328,
          16.520000457763672,
          16.59000015258789,
          16.520000457763672,
          16.540000915527344,
          16.780000686645508,
          16.850000381469727,
          16.75,
          16.799999237060547,
          16.729999542236328,
          16.75,
          16.729999542236328,
          16.670000076293945,
          16.639999389648438,
          16.760000228881836,
          17.020000457763672,
          16.979999542236328,
          17.350000381469727,
          17.329999923706055,
          17.350000381469727,
          17.6200008392334,
          17.68000030517578,
          17.579999923706055,
          17.5,
          17.559999465942383,
          17.600000381469727,
          17.399999618530273,
          17.389999389648438,
          17.530000686645508,
          17.719999313354492,
          17.690000534057617,
          17.6200008392334,
          17.520000457763672,
          17.25,
          17.1299991607666,
          17.309999465942383,
          17.209999084472656,
          17.010000228881836,
          16.93000030517578,
          16.5,
          16.719999313354492,
          16.84000015258789,
          17.049999237060547,
          17.149999618530273,
          17.850000381469727,
          18.06999969482422,
          18.15999984741211,
          18.229999542236328,
          18.170000076293945,
          18.479999542236328,
          18.43000030517578,
          18.229999542236328,
          17.780000686645508,
          17.889999389648438,
          18.200000762939453,
          18.290000915527344,
          18.059999465942383,
          17.969999313354492,
          17.93000030517578,
          18.049999237060547,
          17.979999542236328,
          18.06999969482422,
          18.049999237060547,
          17.969999313354492,
          17.649999618530273,
          17.690000534057617,
          17.700000762939453,
          17.809999465942383,
          17.899999618530273,
          17.690000534057617,
          17.200000762939453,
          16.65999984741211,
          15.979999542236328,
          16.200000762939453,
          16.059999465942383,
          16.450000762939453,
          16.440000534057617,
          16.3799991607666,
          16.049999237060547,
          15.859999656677246,
          16.190000534057617,
          15.859999656677246,
          16.15999984741211,
          16.459999084472656,
          16.110000610351562,
          16.059999465942383,
          16.06999969482422,
          16.389999389648438,
          16.389999389648438,
          16.479999542236328,
          15.710000038146973,
          15.75,
          15.579999923706055,
          15.850000381469727,
          15.619999885559082,
          16.020000457763672,
          15.819999694824219,
          15.529999732971191,
          15.600000381469727,
          15.640000343322754,
          15.380000114440918,
          15.789999961853027,
          15.819999694824219,
          15.930000305175781,
          15.779999732971191,
          15.819999694824219,
          15.619999885559082,
          15.59000015258789,
          15.920000076293945,
          16.280000686645508,
          16.290000915527344,
          16.209999084472656,
          16.290000915527344,
          16.290000915527344,
          16.200000762939453,
          16.549999237060547,
          16.549999237060547,
          16.469999313354492,
          17.309999465942383,
          17.440000534057617,
          17.18000030517578,
          17.139999389648438,
          17.260000228881836,
          17.309999465942383,
          17.3700008392334,
          18.09000015258789,
          18.079999923706055,
          17.940000534057617,
          17.989999771118164,
          17.6299991607666,
          17.309999465942383,
          17.459999084472656,
          17.600000381469727,
          17.8700008392334,
          17.850000381469727,
          17.829999923706055,
          17.729999542236328,
          17.56999969482422,
          17.56999969482422,
          17.5,
          17.579999923706055,
          17.809999465942383,
          17.889999389648438,
          17.770000457763672,
          17.829999923706055,
          17.799999237060547,
          17.459999084472656,
          17.3799991607666,
          17.40999984741211,
          17.059999465942383,
          16.889999389648438,
          17.489999771118164,
          17.780000686645508,
          17.829999923706055,
          17.270000457763672,
          17.030000686645508,
          17.110000610351562,
          17.34000015258789,
          17.3799991607666,
          17.229999542236328,
          17.350000381469727,
          17.239999771118164,
          17.06999969482422
         ],
         "low": [
          17.68000030517578,
          17.290000915527344,
          16.780000686645508,
          16.8700008392334,
          17.100000381469727,
          16.950000762939453,
          16.65999984741211,
          16.31999969482422,
          15.770000457763672,
          15.149999618530273,
          14.970000267028809,
          15.199999809265137,
          15.149999618530273,
          15.430000305175781,
          15.729999542236328,
          15.699999809265137,
          15.479999542236328,
          15.180000305175781,
          15.199999809265137,
          15.149999618530273,
          15.119999885559082,
          15.609999656677246,
          15.75,
          15.899999618530273,
          16.219999313354492,
          16.25,
          16.350000381469727,
          16.209999084472656,
          16.3700008392334,
          16.540000915527344,
          16.3700008392334,
          16.239999771118164,
          16.079999923706055,
          16.010000228881836,
          16.100000381469727,
          16.25,
          16.31999969482422,
          15.899999618530273,
          15.619999885559082,
          15.720000267028809,
          15.960000038146973,
          15.760000228881836,
          15.75,
          16,
          16.1200008392334,
          15.789999961853027,
          15.869999885559082,
          15.899999618530273,
          15.9399995803833,
          15.850000381469727,
          15.960000038146973,
          15.90999984741211,
          15.609999656677246,
          15.640000343322754,
          15.720000267028809,
          15.609999656677246,
          15.399999618530273,
          15.260000228881836,
          15.270000457763672,
          15.399999618530273,
          15.380000114440918,
          15.25,
          15.430000305175781,
          15.34000015258789,
          15.449999809265137,
          15.5,
          15.529999732971191,
          15.600000381469727,
          15.739999771118164,
          15.710000038146973,
          15.59000015258789,
          15.579999923706055,
          15.5,
          15.5600004196167,
          15.430000305175781,
          15.489999771118164,
          15.680000305175781,
          15.609999656677246,
          15.5600004196167,
          15.5,
          15.569999694824219,
          15.800000190734863,
          15.920000076293945,
          16.1200008392334,
          16.329999923706055,
          16.079999923706055,
          16.09000015258789,
          16.219999313354492,
          16.43000030517578,
          16.350000381469727,
          16.360000610351562,
          16.450000762939453,
          16.299999237060547,
          16.309999465942383,
          16.579999923706055,
          16.6299991607666,
          16.559999465942383,
          16.700000762939453,
          16.43000030517578,
          16.540000915527344,
          16.579999923706055,
          16.469999313354492,
          16.469999313354492,
          16.5,
          16.670000076293945,
          16.719999313354492,
          16.969999313354492,
          17.049999237060547,
          17,
          17.360000610351562,
          17.440000534057617,
          17.360000610351562,
          17.25,
          17.3700008392334,
          17.299999237060547,
          17.219999313354492,
          17.1200008392334,
          17.350000381469727,
          17.559999465942383,
          17.450000762939453,
          17.350000381469727,
          17.350000381469727,
          16.860000610351562,
          16.850000381469727,
          17.09000015258789,
          16.889999389648438,
          16.709999084472656,
          16.34000015258789,
          16.219999313354492,
          16.450000762939453,
          16.65999984741211,
          16.899999618530273,
          16.860000610351562,
          17.489999771118164,
          17.860000610351562,
          17.889999389648438,
          18.079999923706055,
          18.020000457763672,
          18.030000686645508,
          18.079999923706055,
          17.84000015258789,
          17.5,
          17.600000381469727,
          17.920000076293945,
          18.049999237060547,
          17.860000610351562,
          17.639999389648438,
          17.709999084472656,
          17.799999237060547,
          17.770000457763672,
          17.600000381469727,
          17.860000610351562,
          17.719999313354492,
          17.020000457763672,
          17.440000534057617,
          17.540000915527344,
          17.559999465942383,
          17.649999618530273,
          17.440000534057617,
          16.719999313354492,
          16.100000381469727,
          14.600000381469727,
          15.25,
          15.34000015258789,
          16.09000015258789,
          16.200000762939453,
          16.18000030517578,
          15.460000038146973,
          15.569999694824219,
          15.869999885559082,
          15.5,
          15.899999618530273,
          15.829999923706055,
          15.8100004196167,
          15.899999618530273,
          15.899999618530273,
          16.010000228881836,
          16.09000015258789,
          15.779999732971191,
          15.5,
          15.569999694824219,
          15.449999809265137,
          15.579999923706055,
          15.399999618530273,
          15.8100004196167,
          15.380000114440918,
          15.25,
          15.319999694824219,
          15.359999656677246,
          14.630000114440918,
          15.4399995803833,
          15.569999694824219,
          15.569999694824219,
          15.510000228881836,
          15.5,
          15.430000305175781,
          15.399999618530273,
          15.550000190734863,
          15.720000267028809,
          16.030000686645508,
          15.979999542236328,
          16.100000381469727,
          15.899999618530273,
          16,
          16.25,
          16.34000015258789,
          16.299999237060547,
          16.450000762939453,
          16.969999313354492,
          16.760000228881836,
          16.8700008392334,
          16.989999771118164,
          16.959999084472656,
          17.030000686645508,
          17.760000228881836,
          17.559999465942383,
          17.559999465942383,
          17.68000030517578,
          17.350000381469727,
          17.09000015258789,
          17.010000228881836,
          17.34000015258789,
          17.43000030517578,
          17.6200008392334,
          17.59000015258789,
          17.459999084472656,
          17.25,
          17.40999984741211,
          17.329999923706055,
          17.420000076293945,
          17.479999542236328,
          17.549999237060547,
          17.25,
          17.3799991607666,
          17.440000534057617,
          17.1299991607666,
          16.8700008392334,
          16.959999084472656,
          16.639999389648438,
          16.5,
          16.989999771118164,
          17.229999542236328,
          17.299999237060547,
          16.760000228881836,
          16.770000457763672,
          16.850000381469727,
          17.100000381469727,
          17.219999313354492,
          16.979999542236328,
          17.15999984741211,
          17.040000915527344,
          16.829999923706055
         ],
         "open": [
          17.989999771118164,
          17.790000915527344,
          17.420000076293945,
          17.139999389648438,
          17.15999984741211,
          17.3799991607666,
          17.020000457763672,
          16.81999969482422,
          16,
          15.59000015258789,
          15.15999984741211,
          15.59000015258789,
          15.279999732971191,
          15.550000190734863,
          16.040000915527344,
          15.720000267028809,
          15.550000190734863,
          15.720000267028809,
          15.3100004196167,
          15.229999542236328,
          15.270000457763672,
          15.619999885559082,
          15.789999961853027,
          15.979999542236328,
          16.299999237060547,
          16.350000381469727,
          16.559999465942383,
          16.329999923706055,
          16.40999984741211,
          16.729999542236328,
          16.520000457763672,
          16.549999237060547,
          16.209999084472656,
          16.139999389648438,
          16.31999969482422,
          16.270000457763672,
          16.3700008392334,
          16.420000076293945,
          15.779999732971191,
          15.789999961853027,
          16.030000686645508,
          15.960000038146973,
          15.920000076293945,
          16,
          16.309999465942383,
          16.040000915527344,
          15.920000076293945,
          16.049999237060547,
          16.079999923706055,
          16.110000610351562,
          16.06999969482422,
          16.010000228881836,
          15.960000038146973,
          15.699999809265137,
          15.819999694824219,
          15.729999542236328,
          15.630000114440918,
          15.390000343322754,
          15.479999542236328,
          15.420000076293945,
          15.5,
          15.420000076293945,
          15.430000305175781,
          15.390000343322754,
          15.529999732971191,
          15.510000228881836,
          15.630000114440918,
          15.6899995803833,
          15.779999732971191,
          15.880000114440918,
          15.699999809265137,
          15.640000343322754,
          15.710000038146973,
          15.619999885559082,
          15.600000381469727,
          15.550000190734863,
          15.720000267028809,
          15.710000038146973,
          15.630000114440918,
          15.579999923706055,
          15.600000381469727,
          16,
          16,
          16.139999389648438,
          16.420000076293945,
          16.360000610351562,
          16.229999542236328,
          16.31999969482422,
          16.450000762939453,
          16.459999084472656,
          16.440000534057617,
          16.530000686645508,
          16.520000457763672,
          16.309999465942383,
          16.59000015258789,
          16.780000686645508,
          16.709999084472656,
          16.719999313354492,
          16.729999542236328,
          16.559999465942383,
          16.719999313354492,
          16.65999984741211,
          16.579999923706055,
          16.520000457763672,
          16.670000076293945,
          16.8700008392334,
          17.040000915527344,
          17.270000457763672,
          17.049999237060547,
          17.389999389648438,
          17.6200008392334,
          17.450000762939453,
          17.329999923706055,
          17.459999084472656,
          17.59000015258789,
          17.350000381469727,
          17.280000686645508,
          17.360000610351562,
          17.559999465942383,
          17.530000686645508,
          17.56999969482422,
          17.479999542236328,
          17.1299991607666,
          17.079999923706055,
          17.25,
          17.15999984741211,
          16.780000686645508,
          16.899999618530273,
          16.420000076293945,
          16.530000686645508,
          16.799999237060547,
          16.969999313354492,
          16.93000030517578,
          17.530000686645508,
          17.90999984741211,
          17.959999084472656,
          18.149999618530273,
          18.110000610351562,
          18.030000686645508,
          18.389999389648438,
          18.18000030517578,
          17.65999984741211,
          17.790000915527344,
          17.950000762939453,
          18.200000762939453,
          18.030000686645508,
          17.90999984741211,
          17.790000915527344,
          17.93000030517578,
          17.90999984741211,
          17.920000076293945,
          17.8700008392334,
          17.850000381469727,
          17.6200008392334,
          17.559999465942383,
          17.56999969482422,
          17.610000610351562,
          17.719999313354492,
          17.549999237060547,
          17.190000534057617,
          16.200000762939453,
          15.020000457763672,
          16.200000762939453,
          15.8100004196167,
          16.3799991607666,
          16.399999618530273,
          16.329999923706055,
          15.949999809265137,
          15.819999694824219,
          15.970000267028809,
          15.789999961853027,
          15.960000038146973,
          16.3700008392334,
          15.869999885559082,
          15.989999771118164,
          15.970000267028809,
          16.040000915527344,
          16.350000381469727,
          16.290000915527344,
          15.680000305175781,
          15.670000076293945,
          15.489999771118164,
          15.600000381469727,
          15.539999961853027,
          15.880000114440918,
          15.789999961853027,
          15.5,
          15.550000190734863,
          15.520000457763672,
          15.079999923706055,
          15.449999809265137,
          15.680000305175781,
          15.779999732971191,
          15.720000267028809,
          15.75,
          15.600000381469727,
          15.449999809265137,
          15.770000457763672,
          15.8100004196167,
          16.290000915527344,
          16,
          16.15999984741211,
          16.260000228881836,
          16,
          16.290000915527344,
          16.520000457763672,
          16.399999618530273,
          16.450000762939453,
          17.15999984741211,
          17.18000030517578,
          16.899999618530273,
          17.010000228881836,
          17.299999237060547,
          17.030000686645508,
          17.84000015258789,
          18.030000686645508,
          17.6299991607666,
          17.989999771118164,
          17.579999923706055,
          17.1299991607666,
          17.1299991607666,
          17.5,
          17.43000030517578,
          17.780000686645508,
          17.809999465942383,
          17.6200008392334,
          17.260000228881836,
          17.510000228881836,
          17.459999084472656,
          17.479999542236328,
          17.520000457763672,
          17.8799991607666,
          17.68000030517578,
          17.440000534057617,
          17.790000915527344,
          17.389999389648438,
          17.110000610351562,
          17.149999618530273,
          16.969999313354492,
          16.760000228881836,
          17.020000457763672,
          17.649999618530273,
          17.799999237060547,
          17.190000534057617,
          16.979999542236328,
          17.049999237060547,
          17.15999984741211,
          17.31999969482422,
          17.219999313354492,
          17.25,
          17.200000762939453,
          17.010000228881836
         ],
         "showlegend": false,
         "type": "candlestick",
         "x": [
          "2015-01-02",
          "2015-01-05",
          "2015-01-06",
          "2015-01-07",
          "2015-01-08",
          "2015-01-09",
          "2015-01-12",
          "2015-01-13",
          "2015-01-14",
          "2015-01-15",
          "2015-01-16",
          "2015-01-20",
          "2015-01-21",
          "2015-01-22",
          "2015-01-23",
          "2015-01-26",
          "2015-01-27",
          "2015-01-28",
          "2015-01-29",
          "2015-01-30",
          "2015-02-02",
          "2015-02-03",
          "2015-02-04",
          "2015-02-05",
          "2015-02-06",
          "2015-02-09",
          "2015-02-10",
          "2015-02-11",
          "2015-02-12",
          "2015-02-13",
          "2015-02-17",
          "2015-02-18",
          "2015-02-19",
          "2015-02-20",
          "2015-02-23",
          "2015-02-24",
          "2015-02-25",
          "2015-02-26",
          "2015-02-27",
          "2015-03-02",
          "2015-03-03",
          "2015-03-04",
          "2015-03-05",
          "2015-03-06",
          "2015-03-09",
          "2015-03-10",
          "2015-03-11",
          "2015-03-12",
          "2015-03-13",
          "2015-03-16",
          "2015-03-17",
          "2015-03-18",
          "2015-03-19",
          "2015-03-20",
          "2015-03-23",
          "2015-03-24",
          "2015-03-25",
          "2015-03-26",
          "2015-03-27",
          "2015-03-30",
          "2015-03-31",
          "2015-04-01",
          "2015-04-02",
          "2015-04-06",
          "2015-04-07",
          "2015-04-08",
          "2015-04-09",
          "2015-04-10",
          "2015-04-13",
          "2015-04-14",
          "2015-04-15",
          "2015-04-16",
          "2015-04-17",
          "2015-04-20",
          "2015-04-21",
          "2015-04-22",
          "2015-04-23",
          "2015-04-24",
          "2015-04-27",
          "2015-04-28",
          "2015-04-29",
          "2015-04-30",
          "2015-05-01",
          "2015-05-04",
          "2015-05-05",
          "2015-05-06",
          "2015-05-07",
          "2015-05-08",
          "2015-05-11",
          "2015-05-12",
          "2015-05-13",
          "2015-05-14",
          "2015-05-15",
          "2015-05-18",
          "2015-05-19",
          "2015-05-20",
          "2015-05-21",
          "2015-05-22",
          "2015-05-26",
          "2015-05-27",
          "2015-05-28",
          "2015-05-29",
          "2015-06-01",
          "2015-06-02",
          "2015-06-03",
          "2015-06-04",
          "2015-06-05",
          "2015-06-08",
          "2015-06-09",
          "2015-06-10",
          "2015-06-11",
          "2015-06-12",
          "2015-06-15",
          "2015-06-16",
          "2015-06-17",
          "2015-06-18",
          "2015-06-19",
          "2015-06-22",
          "2015-06-23",
          "2015-06-24",
          "2015-06-25",
          "2015-06-26",
          "2015-06-29",
          "2015-06-30",
          "2015-07-01",
          "2015-07-02",
          "2015-07-06",
          "2015-07-07",
          "2015-07-08",
          "2015-07-09",
          "2015-07-10",
          "2015-07-13",
          "2015-07-14",
          "2015-07-15",
          "2015-07-16",
          "2015-07-17",
          "2015-07-20",
          "2015-07-21",
          "2015-07-22",
          "2015-07-23",
          "2015-07-24",
          "2015-07-27",
          "2015-07-28",
          "2015-07-29",
          "2015-07-30",
          "2015-07-31",
          "2015-08-03",
          "2015-08-04",
          "2015-08-05",
          "2015-08-06",
          "2015-08-07",
          "2015-08-10",
          "2015-08-11",
          "2015-08-12",
          "2015-08-13",
          "2015-08-14",
          "2015-08-17",
          "2015-08-18",
          "2015-08-19",
          "2015-08-20",
          "2015-08-21",
          "2015-08-24",
          "2015-08-25",
          "2015-08-26",
          "2015-08-27",
          "2015-08-28",
          "2015-08-31",
          "2015-09-01",
          "2015-09-02",
          "2015-09-03",
          "2015-09-04",
          "2015-09-08",
          "2015-09-09",
          "2015-09-10",
          "2015-09-11",
          "2015-09-14",
          "2015-09-15",
          "2015-09-16",
          "2015-09-17",
          "2015-09-18",
          "2015-09-21",
          "2015-09-22",
          "2015-09-23",
          "2015-09-24",
          "2015-09-25",
          "2015-09-28",
          "2015-09-29",
          "2015-09-30",
          "2015-10-01",
          "2015-10-02",
          "2015-10-05",
          "2015-10-06",
          "2015-10-07",
          "2015-10-08",
          "2015-10-09",
          "2015-10-12",
          "2015-10-13",
          "2015-10-14",
          "2015-10-15",
          "2015-10-16",
          "2015-10-19",
          "2015-10-20",
          "2015-10-21",
          "2015-10-22",
          "2015-10-23",
          "2015-10-26",
          "2015-10-27",
          "2015-10-28",
          "2015-10-29",
          "2015-10-30",
          "2015-11-02",
          "2015-11-03",
          "2015-11-04",
          "2015-11-05",
          "2015-11-06",
          "2015-11-09",
          "2015-11-10",
          "2015-11-11",
          "2015-11-12",
          "2015-11-13",
          "2015-11-16",
          "2015-11-17",
          "2015-11-18",
          "2015-11-19",
          "2015-11-20",
          "2015-11-23",
          "2015-11-24",
          "2015-11-25",
          "2015-11-27",
          "2015-11-30",
          "2015-12-01",
          "2015-12-02",
          "2015-12-03",
          "2015-12-04",
          "2015-12-07",
          "2015-12-08",
          "2015-12-09",
          "2015-12-10",
          "2015-12-11",
          "2015-12-14",
          "2015-12-15",
          "2015-12-16",
          "2015-12-17",
          "2015-12-18",
          "2015-12-21",
          "2015-12-22",
          "2015-12-23",
          "2015-12-24",
          "2015-12-28",
          "2015-12-29",
          "2015-12-30",
          "2015-12-31"
         ],
         "yaxis": "y2"
        }
       ],
       "layout": {
        "legend": {
         "bgcolor": "#F5F6F9",
         "font": {
          "color": "#4D5663"
         }
        },
        "paper_bgcolor": "#F5F6F9",
        "plot_bgcolor": "#F5F6F9",
        "template": {
         "data": {
          "bar": [
           {
            "error_x": {
             "color": "#2a3f5f"
            },
            "error_y": {
             "color": "#2a3f5f"
            },
            "marker": {
             "line": {
              "color": "#E5ECF6",
              "width": 0.5
             },
             "pattern": {
              "fillmode": "overlay",
              "size": 10,
              "solidity": 0.2
             }
            },
            "type": "bar"
           }
          ],
          "barpolar": [
           {
            "marker": {
             "line": {
              "color": "#E5ECF6",
              "width": 0.5
             },
             "pattern": {
              "fillmode": "overlay",
              "size": 10,
              "solidity": 0.2
             }
            },
            "type": "barpolar"
           }
          ],
          "carpet": [
           {
            "aaxis": {
             "endlinecolor": "#2a3f5f",
             "gridcolor": "white",
             "linecolor": "white",
             "minorgridcolor": "white",
             "startlinecolor": "#2a3f5f"
            },
            "baxis": {
             "endlinecolor": "#2a3f5f",
             "gridcolor": "white",
             "linecolor": "white",
             "minorgridcolor": "white",
             "startlinecolor": "#2a3f5f"
            },
            "type": "carpet"
           }
          ],
          "choropleth": [
           {
            "colorbar": {
             "outlinewidth": 0,
             "ticks": ""
            },
            "type": "choropleth"
           }
          ],
          "contour": [
           {
            "colorbar": {
             "outlinewidth": 0,
             "ticks": ""
            },
            "colorscale": [
             [
              0,
              "#0d0887"
             ],
             [
              0.1111111111111111,
              "#46039f"
             ],
             [
              0.2222222222222222,
              "#7201a8"
             ],
             [
              0.3333333333333333,
              "#9c179e"
             ],
             [
              0.4444444444444444,
              "#bd3786"
             ],
             [
              0.5555555555555556,
              "#d8576b"
             ],
             [
              0.6666666666666666,
              "#ed7953"
             ],
             [
              0.7777777777777778,
              "#fb9f3a"
             ],
             [
              0.8888888888888888,
              "#fdca26"
             ],
             [
              1,
              "#f0f921"
             ]
            ],
            "type": "contour"
           }
          ],
          "contourcarpet": [
           {
            "colorbar": {
             "outlinewidth": 0,
             "ticks": ""
            },
            "type": "contourcarpet"
           }
          ],
          "heatmap": [
           {
            "colorbar": {
             "outlinewidth": 0,
             "ticks": ""
            },
            "colorscale": [
             [
              0,
              "#0d0887"
             ],
             [
              0.1111111111111111,
              "#46039f"
             ],
             [
              0.2222222222222222,
              "#7201a8"
             ],
             [
              0.3333333333333333,
              "#9c179e"
             ],
             [
              0.4444444444444444,
              "#bd3786"
             ],
             [
              0.5555555555555556,
              "#d8576b"
             ],
             [
              0.6666666666666666,
              "#ed7953"
             ],
             [
              0.7777777777777778,
              "#fb9f3a"
             ],
             [
              0.8888888888888888,
              "#fdca26"
             ],
             [
              1,
              "#f0f921"
             ]
            ],
            "type": "heatmap"
           }
          ],
          "heatmapgl": [
           {
            "colorbar": {
             "outlinewidth": 0,
             "ticks": ""
            },
            "colorscale": [
             [
              0,
              "#0d0887"
             ],
             [
              0.1111111111111111,
              "#46039f"
             ],
             [
              0.2222222222222222,
              "#7201a8"
             ],
             [
              0.3333333333333333,
              "#9c179e"
             ],
             [
              0.4444444444444444,
              "#bd3786"
             ],
             [
              0.5555555555555556,
              "#d8576b"
             ],
             [
              0.6666666666666666,
              "#ed7953"
             ],
             [
              0.7777777777777778,
              "#fb9f3a"
             ],
             [
              0.8888888888888888,
              "#fdca26"
             ],
             [
              1,
              "#f0f921"
             ]
            ],
            "type": "heatmapgl"
           }
          ],
          "histogram": [
           {
            "marker": {
             "pattern": {
              "fillmode": "overlay",
              "size": 10,
              "solidity": 0.2
             }
            },
            "type": "histogram"
           }
          ],
          "histogram2d": [
           {
            "colorbar": {
             "outlinewidth": 0,
             "ticks": ""
            },
            "colorscale": [
             [
              0,
              "#0d0887"
             ],
             [
              0.1111111111111111,
              "#46039f"
             ],
             [
              0.2222222222222222,
              "#7201a8"
             ],
             [
              0.3333333333333333,
              "#9c179e"
             ],
             [
              0.4444444444444444,
              "#bd3786"
             ],
             [
              0.5555555555555556,
              "#d8576b"
             ],
             [
              0.6666666666666666,
              "#ed7953"
             ],
             [
              0.7777777777777778,
              "#fb9f3a"
             ],
             [
              0.8888888888888888,
              "#fdca26"
             ],
             [
              1,
              "#f0f921"
             ]
            ],
            "type": "histogram2d"
           }
          ],
          "histogram2dcontour": [
           {
            "colorbar": {
             "outlinewidth": 0,
             "ticks": ""
            },
            "colorscale": [
             [
              0,
              "#0d0887"
             ],
             [
              0.1111111111111111,
              "#46039f"
             ],
             [
              0.2222222222222222,
              "#7201a8"
             ],
             [
              0.3333333333333333,
              "#9c179e"
             ],
             [
              0.4444444444444444,
              "#bd3786"
             ],
             [
              0.5555555555555556,
              "#d8576b"
             ],
             [
              0.6666666666666666,
              "#ed7953"
             ],
             [
              0.7777777777777778,
              "#fb9f3a"
             ],
             [
              0.8888888888888888,
              "#fdca26"
             ],
             [
              1,
              "#f0f921"
             ]
            ],
            "type": "histogram2dcontour"
           }
          ],
          "mesh3d": [
           {
            "colorbar": {
             "outlinewidth": 0,
             "ticks": ""
            },
            "type": "mesh3d"
           }
          ],
          "parcoords": [
           {
            "line": {
             "colorbar": {
              "outlinewidth": 0,
              "ticks": ""
             }
            },
            "type": "parcoords"
           }
          ],
          "pie": [
           {
            "automargin": true,
            "type": "pie"
           }
          ],
          "scatter": [
           {
            "marker": {
             "colorbar": {
              "outlinewidth": 0,
              "ticks": ""
             }
            },
            "type": "scatter"
           }
          ],
          "scatter3d": [
           {
            "line": {
             "colorbar": {
              "outlinewidth": 0,
              "ticks": ""
             }
            },
            "marker": {
             "colorbar": {
              "outlinewidth": 0,
              "ticks": ""
             }
            },
            "type": "scatter3d"
           }
          ],
          "scattercarpet": [
           {
            "marker": {
             "colorbar": {
              "outlinewidth": 0,
              "ticks": ""
             }
            },
            "type": "scattercarpet"
           }
          ],
          "scattergeo": [
           {
            "marker": {
             "colorbar": {
              "outlinewidth": 0,
              "ticks": ""
             }
            },
            "type": "scattergeo"
           }
          ],
          "scattergl": [
           {
            "marker": {
             "colorbar": {
              "outlinewidth": 0,
              "ticks": ""
             }
            },
            "type": "scattergl"
           }
          ],
          "scattermapbox": [
           {
            "marker": {
             "colorbar": {
              "outlinewidth": 0,
              "ticks": ""
             }
            },
            "type": "scattermapbox"
           }
          ],
          "scatterpolar": [
           {
            "marker": {
             "colorbar": {
              "outlinewidth": 0,
              "ticks": ""
             }
            },
            "type": "scatterpolar"
           }
          ],
          "scatterpolargl": [
           {
            "marker": {
             "colorbar": {
              "outlinewidth": 0,
              "ticks": ""
             }
            },
            "type": "scatterpolargl"
           }
          ],
          "scatterternary": [
           {
            "marker": {
             "colorbar": {
              "outlinewidth": 0,
              "ticks": ""
             }
            },
            "type": "scatterternary"
           }
          ],
          "surface": [
           {
            "colorbar": {
             "outlinewidth": 0,
             "ticks": ""
            },
            "colorscale": [
             [
              0,
              "#0d0887"
             ],
             [
              0.1111111111111111,
              "#46039f"
             ],
             [
              0.2222222222222222,
              "#7201a8"
             ],
             [
              0.3333333333333333,
              "#9c179e"
             ],
             [
              0.4444444444444444,
              "#bd3786"
             ],
             [
              0.5555555555555556,
              "#d8576b"
             ],
             [
              0.6666666666666666,
              "#ed7953"
             ],
             [
              0.7777777777777778,
              "#fb9f3a"
             ],
             [
              0.8888888888888888,
              "#fdca26"
             ],
             [
              1,
              "#f0f921"
             ]
            ],
            "type": "surface"
           }
          ],
          "table": [
           {
            "cells": {
             "fill": {
              "color": "#EBF0F8"
             },
             "line": {
              "color": "white"
             }
            },
            "header": {
             "fill": {
              "color": "#C8D4E3"
             },
             "line": {
              "color": "white"
             }
            },
            "type": "table"
           }
          ]
         },
         "layout": {
          "annotationdefaults": {
           "arrowcolor": "#2a3f5f",
           "arrowhead": 0,
           "arrowwidth": 1
          },
          "autotypenumbers": "strict",
          "coloraxis": {
           "colorbar": {
            "outlinewidth": 0,
            "ticks": ""
           }
          },
          "colorscale": {
           "diverging": [
            [
             0,
             "#8e0152"
            ],
            [
             0.1,
             "#c51b7d"
            ],
            [
             0.2,
             "#de77ae"
            ],
            [
             0.3,
             "#f1b6da"
            ],
            [
             0.4,
             "#fde0ef"
            ],
            [
             0.5,
             "#f7f7f7"
            ],
            [
             0.6,
             "#e6f5d0"
            ],
            [
             0.7,
             "#b8e186"
            ],
            [
             0.8,
             "#7fbc41"
            ],
            [
             0.9,
             "#4d9221"
            ],
            [
             1,
             "#276419"
            ]
           ],
           "sequential": [
            [
             0,
             "#0d0887"
            ],
            [
             0.1111111111111111,
             "#46039f"
            ],
            [
             0.2222222222222222,
             "#7201a8"
            ],
            [
             0.3333333333333333,
             "#9c179e"
            ],
            [
             0.4444444444444444,
             "#bd3786"
            ],
            [
             0.5555555555555556,
             "#d8576b"
            ],
            [
             0.6666666666666666,
             "#ed7953"
            ],
            [
             0.7777777777777778,
             "#fb9f3a"
            ],
            [
             0.8888888888888888,
             "#fdca26"
            ],
            [
             1,
             "#f0f921"
            ]
           ],
           "sequentialminus": [
            [
             0,
             "#0d0887"
            ],
            [
             0.1111111111111111,
             "#46039f"
            ],
            [
             0.2222222222222222,
             "#7201a8"
            ],
            [
             0.3333333333333333,
             "#9c179e"
            ],
            [
             0.4444444444444444,
             "#bd3786"
            ],
            [
             0.5555555555555556,
             "#d8576b"
            ],
            [
             0.6666666666666666,
             "#ed7953"
            ],
            [
             0.7777777777777778,
             "#fb9f3a"
            ],
            [
             0.8888888888888888,
             "#fdca26"
            ],
            [
             1,
             "#f0f921"
            ]
           ]
          },
          "colorway": [
           "#636efa",
           "#EF553B",
           "#00cc96",
           "#ab63fa",
           "#FFA15A",
           "#19d3f3",
           "#FF6692",
           "#B6E880",
           "#FF97FF",
           "#FECB52"
          ],
          "font": {
           "color": "#2a3f5f"
          },
          "geo": {
           "bgcolor": "white",
           "lakecolor": "white",
           "landcolor": "#E5ECF6",
           "showlakes": true,
           "showland": true,
           "subunitcolor": "white"
          },
          "hoverlabel": {
           "align": "left"
          },
          "hovermode": "closest",
          "mapbox": {
           "style": "light"
          },
          "paper_bgcolor": "white",
          "plot_bgcolor": "#E5ECF6",
          "polar": {
           "angularaxis": {
            "gridcolor": "white",
            "linecolor": "white",
            "ticks": ""
           },
           "bgcolor": "#E5ECF6",
           "radialaxis": {
            "gridcolor": "white",
            "linecolor": "white",
            "ticks": ""
           }
          },
          "scene": {
           "xaxis": {
            "backgroundcolor": "#E5ECF6",
            "gridcolor": "white",
            "gridwidth": 2,
            "linecolor": "white",
            "showbackground": true,
            "ticks": "",
            "zerolinecolor": "white"
           },
           "yaxis": {
            "backgroundcolor": "#E5ECF6",
            "gridcolor": "white",
            "gridwidth": 2,
            "linecolor": "white",
            "showbackground": true,
            "ticks": "",
            "zerolinecolor": "white"
           },
           "zaxis": {
            "backgroundcolor": "#E5ECF6",
            "gridcolor": "white",
            "gridwidth": 2,
            "linecolor": "white",
            "showbackground": true,
            "ticks": "",
            "zerolinecolor": "white"
           }
          },
          "shapedefaults": {
           "line": {
            "color": "#2a3f5f"
           }
          },
          "ternary": {
           "aaxis": {
            "gridcolor": "white",
            "linecolor": "white",
            "ticks": ""
           },
           "baxis": {
            "gridcolor": "white",
            "linecolor": "white",
            "ticks": ""
           },
           "bgcolor": "#E5ECF6",
           "caxis": {
            "gridcolor": "white",
            "linecolor": "white",
            "ticks": ""
           }
          },
          "title": {
           "x": 0.05
          },
          "xaxis": {
           "automargin": true,
           "gridcolor": "white",
           "linecolor": "white",
           "ticks": "",
           "title": {
            "standoff": 15
           },
           "zerolinecolor": "white",
           "zerolinewidth": 2
          },
          "yaxis": {
           "automargin": true,
           "gridcolor": "white",
           "linecolor": "white",
           "ticks": "",
           "title": {
            "standoff": 15
           },
           "zerolinecolor": "white",
           "zerolinewidth": 2
          }
         }
        },
        "title": {
         "font": {
          "color": "#4D5663"
         }
        },
        "xaxis": {
         "gridcolor": "#E1E5ED",
         "rangeslider": {
          "visible": false
         },
         "showgrid": true,
         "tickfont": {
          "color": "#4D5663"
         },
         "title": {
          "font": {
           "color": "#4D5663"
          },
          "text": ""
         },
         "zerolinecolor": "#E1E5ED"
        },
        "yaxis": {
         "gridcolor": "#E1E5ED",
         "showgrid": true,
         "showticklabels": false,
         "tickfont": {
          "color": "#4D5663"
         },
         "title": {
          "font": {
           "color": "#4D5663"
          },
          "text": ""
         },
         "zerolinecolor": "#E1E5ED"
        },
        "yaxis2": {
         "gridcolor": "#E1E5ED",
         "showgrid": true,
         "tickfont": {
          "color": "#4D5663"
         },
         "title": {
          "font": {
           "color": "#4D5663"
          },
          "text": ""
         },
         "zerolinecolor": "#E1E5ED"
        }
       }
      },
      "text/html": [
       "<div>                            <div id=\"0e861f11-9032-4a5c-9c1c-ea4dde598bfd\" class=\"plotly-graph-div\" style=\"height:525px; width:100%;\"></div>            <script type=\"text/javascript\">                require([\"plotly\"], function(Plotly) {                    window.PLOTLYENV=window.PLOTLYENV || {};\n",
       "                    window.PLOTLYENV.BASE_URL='https://plot.ly';                                    if (document.getElementById(\"0e861f11-9032-4a5c-9c1c-ea4dde598bfd\")) {                    Plotly.newPlot(                        \"0e861f11-9032-4a5c-9c1c-ea4dde598bfd\",                        [{\"close\":[17.899999618530273,17.3799991607666,16.860000610351562,16.940000534057617,17.290000915527344,16.979999542236328,16.68000030517578,16.450000762939453,16.040000915527344,15.199999809265137,15.380000114440918,15.260000228881836,15.40999984741211,16.09000015258789,15.729999542236328,15.850000381469727,15.630000114440918,15.199999809265137,15.430000305175781,15.149999618530273,15.460000038146973,15.890000343322754,15.789999961853027,15.970000267028809,16.489999771118164,16.350000381469727,16.420000076293945,16.360000610351562,16.670000076293945,16.610000610351562,16.6299991607666,16.299999237060547,16.209999084472656,16.3799991607666,16.200000762939453,16.3799991607666,16.489999771118164,16.040000915527344,15.8100004196167,16.010000228881836,16.040000915527344,15.84000015258789,16.0,16.219999313354492,16.170000076293945,15.789999961853027,16.110000610351562,16.09000015258789,16.09000015258789,16.1299991607666,16.09000015258789,15.979999542236328,15.609999656677246,15.84000015258789,15.720000267028809,15.609999656677246,15.40999984741211,15.420000076293945,15.3100004196167,15.520000457763672,15.390000343322754,15.40999984741211,15.539999961853027,15.510000228881836,15.460000038146973,15.609999656677246,15.710000038146973,15.720000267028809,15.800000190734863,15.819999694824219,15.640000343322754,15.789999961853027,15.5600004196167,15.569999694824219,15.5,15.739999771118164,15.6899995803833,15.640000343322754,15.5600004196167,15.649999618530273,15.979999542236328,15.930000305175781,16.110000610351562,16.440000534057617,16.350000381469727,16.290000915527344,16.239999771118164,16.450000762939453,16.489999771118164,16.43000030517578,16.469999313354492,16.520000457763672,16.350000381469727,16.510000228881836,16.770000457763672,16.739999771118164,16.729999542236328,16.75,16.5,16.739999771118164,16.670000076293945,16.5,16.549999237060547,16.719999313354492,16.93000030517578,16.780000686645508,17.190000534057617,17.079999923706055,17.309999465942383,17.59000015258789,17.489999771118164,17.489999771118164,17.469999313354492,17.549999237060547,17.3700008392334,17.3799991607666,17.170000076293945,17.469999313354492,17.670000076293945,17.489999771118164,17.3700008392334,17.40999984741211,16.889999389648438,17.020000457763672,17.219999313354492,17.030000686645508,16.940000534057617,16.690000534057617,16.25,16.479999542236328,16.700000762939453,17.020000457763672,17.1299991607666,17.68000030517578,17.950000762939453,18.100000381469727,18.1200008392334,18.079999923706055,18.450000762939453,18.18000030517578,17.899999618530273,17.670000076293945,17.8799991607666,18.15999984741211,18.1299991607666,17.8799991607666,17.770000457763672,17.799999237060547,17.8700008392334,17.809999465942383,17.75,18.040000915527344,17.790000915527344,17.520000457763672,17.6200008392334,17.700000762939453,17.770000457763672,17.690000534057617,17.459999084472656,16.719999313354492,16.100000381469727,15.289999961853027,15.260000228881836,16.059999465942383,16.440000534057617,16.360000610351562,16.34000015258789,15.579999923706055,15.850000381469727,15.9399995803833,15.649999618530273,16.15999984741211,15.899999618530273,16.040000915527344,16.040000915527344,15.960000038146973,16.309999465942383,16.329999923706055,15.859999656677246,15.5600004196167,15.699999809265137,15.569999694824219,15.720000267028809,15.550000190734863,15.890000343322754,15.470000267028809,15.350000381469727,15.579999923706055,15.550000190734863,15.380000114440918,15.6899995803833,15.6899995803833,15.75,15.75,15.579999923706055,15.520000457763672,15.520000457763672,15.640000343322754,16.190000534057617,16.1200008392334,16.139999389648438,16.200000762939453,15.899999618530273,16.15999984741211,16.520000457763672,16.510000228881836,16.399999618530273,17.280000686645508,17.09000015258789,16.780000686645508,17.059999465942383,17.18000030517578,17.010000228881836,17.309999465942383,17.950000762939453,17.68000030517578,17.850000381469727,17.75,17.3700008392334,17.200000762939453,17.43000030517578,17.420000076293945,17.84000015258789,17.690000534057617,17.649999618530273,17.469999313354492,17.469999313354492,17.440000534057617,17.479999542236328,17.43000030517578,17.809999465942383,17.6200008392334,17.299999237060547,17.799999237060547,17.540000915527344,17.190000534057617,17.100000381469727,17.200000762939453,16.729999542236328,16.799999237060547,17.420000076293945,17.75,17.299999237060547,16.760000228881836,16.969999313354492,17.079999923706055,17.34000015258789,17.270000457763672,17.1299991607666,17.280000686645508,17.049999237060547,16.829999923706055],\"high\":[18.030000686645508,17.809999465942383,17.440000534057617,17.18000030517578,17.34000015258789,17.3799991607666,17.030000686645508,16.889999389648438,16.219999313354492,15.760000228881836,15.399999618530273,15.630000114440918,15.569999694824219,16.190000534057617,16.190000534057617,15.930000305175781,15.789999961853027,15.729999542236328,15.489999771118164,15.470000267028809,15.489999771118164,15.930000305175781,16.0,16.09000015258789,16.75,16.5,16.6200008392334,16.450000762939453,16.729999542236328,16.790000915527344,16.68000030517578,16.559999465942383,16.3799991607666,16.43000030517578,16.31999969482422,16.549999237060547,16.5,16.440000534057617,15.880000114440918,16.030000686645508,16.149999618530273,15.979999542236328,16.030000686645508,16.6200008392334,16.329999923706055,16.1299991607666,16.15999984741211,16.209999084472656,16.149999618530273,16.219999313354492,16.1200008392334,16.100000381469727,15.970000267028809,15.930000305175781,15.880000114440918,15.800000190734863,15.649999618530273,15.539999961853027,15.489999771118164,15.609999656677246,15.520000457763672,15.460000038146973,15.619999885559082,15.600000381469727,15.649999618530273,15.739999771118164,15.760000228881836,15.789999961853027,15.859999656677246,15.949999809265137,15.850000381469727,15.9399995803833,15.75,15.6899995803833,15.640000343322754,15.829999923706055,15.800000190734863,15.75,15.760000228881836,15.710000038146973,16.040000915527344,16.049999237060547,16.149999618530273,16.450000762939453,16.610000610351562,16.489999771118164,16.329999923706055,16.459999084472656,16.59000015258789,16.479999542236328,16.520000457763672,16.59000015258789,16.520000457763672,16.540000915527344,16.780000686645508,16.850000381469727,16.75,16.799999237060547,16.729999542236328,16.75,16.729999542236328,16.670000076293945,16.639999389648438,16.760000228881836,17.020000457763672,16.979999542236328,17.350000381469727,17.329999923706055,17.350000381469727,17.6200008392334,17.68000030517578,17.579999923706055,17.5,17.559999465942383,17.600000381469727,17.399999618530273,17.389999389648438,17.530000686645508,17.719999313354492,17.690000534057617,17.6200008392334,17.520000457763672,17.25,17.1299991607666,17.309999465942383,17.209999084472656,17.010000228881836,16.93000030517578,16.5,16.719999313354492,16.84000015258789,17.049999237060547,17.149999618530273,17.850000381469727,18.06999969482422,18.15999984741211,18.229999542236328,18.170000076293945,18.479999542236328,18.43000030517578,18.229999542236328,17.780000686645508,17.889999389648438,18.200000762939453,18.290000915527344,18.059999465942383,17.969999313354492,17.93000030517578,18.049999237060547,17.979999542236328,18.06999969482422,18.049999237060547,17.969999313354492,17.649999618530273,17.690000534057617,17.700000762939453,17.809999465942383,17.899999618530273,17.690000534057617,17.200000762939453,16.65999984741211,15.979999542236328,16.200000762939453,16.059999465942383,16.450000762939453,16.440000534057617,16.3799991607666,16.049999237060547,15.859999656677246,16.190000534057617,15.859999656677246,16.15999984741211,16.459999084472656,16.110000610351562,16.059999465942383,16.06999969482422,16.389999389648438,16.389999389648438,16.479999542236328,15.710000038146973,15.75,15.579999923706055,15.850000381469727,15.619999885559082,16.020000457763672,15.819999694824219,15.529999732971191,15.600000381469727,15.640000343322754,15.380000114440918,15.789999961853027,15.819999694824219,15.930000305175781,15.779999732971191,15.819999694824219,15.619999885559082,15.59000015258789,15.920000076293945,16.280000686645508,16.290000915527344,16.209999084472656,16.290000915527344,16.290000915527344,16.200000762939453,16.549999237060547,16.549999237060547,16.469999313354492,17.309999465942383,17.440000534057617,17.18000030517578,17.139999389648438,17.260000228881836,17.309999465942383,17.3700008392334,18.09000015258789,18.079999923706055,17.940000534057617,17.989999771118164,17.6299991607666,17.309999465942383,17.459999084472656,17.600000381469727,17.8700008392334,17.850000381469727,17.829999923706055,17.729999542236328,17.56999969482422,17.56999969482422,17.5,17.579999923706055,17.809999465942383,17.889999389648438,17.770000457763672,17.829999923706055,17.799999237060547,17.459999084472656,17.3799991607666,17.40999984741211,17.059999465942383,16.889999389648438,17.489999771118164,17.780000686645508,17.829999923706055,17.270000457763672,17.030000686645508,17.110000610351562,17.34000015258789,17.3799991607666,17.229999542236328,17.350000381469727,17.239999771118164,17.06999969482422],\"low\":[17.68000030517578,17.290000915527344,16.780000686645508,16.8700008392334,17.100000381469727,16.950000762939453,16.65999984741211,16.31999969482422,15.770000457763672,15.149999618530273,14.970000267028809,15.199999809265137,15.149999618530273,15.430000305175781,15.729999542236328,15.699999809265137,15.479999542236328,15.180000305175781,15.199999809265137,15.149999618530273,15.119999885559082,15.609999656677246,15.75,15.899999618530273,16.219999313354492,16.25,16.350000381469727,16.209999084472656,16.3700008392334,16.540000915527344,16.3700008392334,16.239999771118164,16.079999923706055,16.010000228881836,16.100000381469727,16.25,16.31999969482422,15.899999618530273,15.619999885559082,15.720000267028809,15.960000038146973,15.760000228881836,15.75,16.0,16.1200008392334,15.789999961853027,15.869999885559082,15.899999618530273,15.9399995803833,15.850000381469727,15.960000038146973,15.90999984741211,15.609999656677246,15.640000343322754,15.720000267028809,15.609999656677246,15.399999618530273,15.260000228881836,15.270000457763672,15.399999618530273,15.380000114440918,15.25,15.430000305175781,15.34000015258789,15.449999809265137,15.5,15.529999732971191,15.600000381469727,15.739999771118164,15.710000038146973,15.59000015258789,15.579999923706055,15.5,15.5600004196167,15.430000305175781,15.489999771118164,15.680000305175781,15.609999656677246,15.5600004196167,15.5,15.569999694824219,15.800000190734863,15.920000076293945,16.1200008392334,16.329999923706055,16.079999923706055,16.09000015258789,16.219999313354492,16.43000030517578,16.350000381469727,16.360000610351562,16.450000762939453,16.299999237060547,16.309999465942383,16.579999923706055,16.6299991607666,16.559999465942383,16.700000762939453,16.43000030517578,16.540000915527344,16.579999923706055,16.469999313354492,16.469999313354492,16.5,16.670000076293945,16.719999313354492,16.969999313354492,17.049999237060547,17.0,17.360000610351562,17.440000534057617,17.360000610351562,17.25,17.3700008392334,17.299999237060547,17.219999313354492,17.1200008392334,17.350000381469727,17.559999465942383,17.450000762939453,17.350000381469727,17.350000381469727,16.860000610351562,16.850000381469727,17.09000015258789,16.889999389648438,16.709999084472656,16.34000015258789,16.219999313354492,16.450000762939453,16.65999984741211,16.899999618530273,16.860000610351562,17.489999771118164,17.860000610351562,17.889999389648438,18.079999923706055,18.020000457763672,18.030000686645508,18.079999923706055,17.84000015258789,17.5,17.600000381469727,17.920000076293945,18.049999237060547,17.860000610351562,17.639999389648438,17.709999084472656,17.799999237060547,17.770000457763672,17.600000381469727,17.860000610351562,17.719999313354492,17.020000457763672,17.440000534057617,17.540000915527344,17.559999465942383,17.649999618530273,17.440000534057617,16.719999313354492,16.100000381469727,14.600000381469727,15.25,15.34000015258789,16.09000015258789,16.200000762939453,16.18000030517578,15.460000038146973,15.569999694824219,15.869999885559082,15.5,15.899999618530273,15.829999923706055,15.8100004196167,15.899999618530273,15.899999618530273,16.010000228881836,16.09000015258789,15.779999732971191,15.5,15.569999694824219,15.449999809265137,15.579999923706055,15.399999618530273,15.8100004196167,15.380000114440918,15.25,15.319999694824219,15.359999656677246,14.630000114440918,15.4399995803833,15.569999694824219,15.569999694824219,15.510000228881836,15.5,15.430000305175781,15.399999618530273,15.550000190734863,15.720000267028809,16.030000686645508,15.979999542236328,16.100000381469727,15.899999618530273,16.0,16.25,16.34000015258789,16.299999237060547,16.450000762939453,16.969999313354492,16.760000228881836,16.8700008392334,16.989999771118164,16.959999084472656,17.030000686645508,17.760000228881836,17.559999465942383,17.559999465942383,17.68000030517578,17.350000381469727,17.09000015258789,17.010000228881836,17.34000015258789,17.43000030517578,17.6200008392334,17.59000015258789,17.459999084472656,17.25,17.40999984741211,17.329999923706055,17.420000076293945,17.479999542236328,17.549999237060547,17.25,17.3799991607666,17.440000534057617,17.1299991607666,16.8700008392334,16.959999084472656,16.639999389648438,16.5,16.989999771118164,17.229999542236328,17.299999237060547,16.760000228881836,16.770000457763672,16.850000381469727,17.100000381469727,17.219999313354492,16.979999542236328,17.15999984741211,17.040000915527344,16.829999923706055],\"open\":[17.989999771118164,17.790000915527344,17.420000076293945,17.139999389648438,17.15999984741211,17.3799991607666,17.020000457763672,16.81999969482422,16.0,15.59000015258789,15.15999984741211,15.59000015258789,15.279999732971191,15.550000190734863,16.040000915527344,15.720000267028809,15.550000190734863,15.720000267028809,15.3100004196167,15.229999542236328,15.270000457763672,15.619999885559082,15.789999961853027,15.979999542236328,16.299999237060547,16.350000381469727,16.559999465942383,16.329999923706055,16.40999984741211,16.729999542236328,16.520000457763672,16.549999237060547,16.209999084472656,16.139999389648438,16.31999969482422,16.270000457763672,16.3700008392334,16.420000076293945,15.779999732971191,15.789999961853027,16.030000686645508,15.960000038146973,15.920000076293945,16.0,16.309999465942383,16.040000915527344,15.920000076293945,16.049999237060547,16.079999923706055,16.110000610351562,16.06999969482422,16.010000228881836,15.960000038146973,15.699999809265137,15.819999694824219,15.729999542236328,15.630000114440918,15.390000343322754,15.479999542236328,15.420000076293945,15.5,15.420000076293945,15.430000305175781,15.390000343322754,15.529999732971191,15.510000228881836,15.630000114440918,15.6899995803833,15.779999732971191,15.880000114440918,15.699999809265137,15.640000343322754,15.710000038146973,15.619999885559082,15.600000381469727,15.550000190734863,15.720000267028809,15.710000038146973,15.630000114440918,15.579999923706055,15.600000381469727,16.0,16.0,16.139999389648438,16.420000076293945,16.360000610351562,16.229999542236328,16.31999969482422,16.450000762939453,16.459999084472656,16.440000534057617,16.530000686645508,16.520000457763672,16.309999465942383,16.59000015258789,16.780000686645508,16.709999084472656,16.719999313354492,16.729999542236328,16.559999465942383,16.719999313354492,16.65999984741211,16.579999923706055,16.520000457763672,16.670000076293945,16.8700008392334,17.040000915527344,17.270000457763672,17.049999237060547,17.389999389648438,17.6200008392334,17.450000762939453,17.329999923706055,17.459999084472656,17.59000015258789,17.350000381469727,17.280000686645508,17.360000610351562,17.559999465942383,17.530000686645508,17.56999969482422,17.479999542236328,17.1299991607666,17.079999923706055,17.25,17.15999984741211,16.780000686645508,16.899999618530273,16.420000076293945,16.530000686645508,16.799999237060547,16.969999313354492,16.93000030517578,17.530000686645508,17.90999984741211,17.959999084472656,18.149999618530273,18.110000610351562,18.030000686645508,18.389999389648438,18.18000030517578,17.65999984741211,17.790000915527344,17.950000762939453,18.200000762939453,18.030000686645508,17.90999984741211,17.790000915527344,17.93000030517578,17.90999984741211,17.920000076293945,17.8700008392334,17.850000381469727,17.6200008392334,17.559999465942383,17.56999969482422,17.610000610351562,17.719999313354492,17.549999237060547,17.190000534057617,16.200000762939453,15.020000457763672,16.200000762939453,15.8100004196167,16.3799991607666,16.399999618530273,16.329999923706055,15.949999809265137,15.819999694824219,15.970000267028809,15.789999961853027,15.960000038146973,16.3700008392334,15.869999885559082,15.989999771118164,15.970000267028809,16.040000915527344,16.350000381469727,16.290000915527344,15.680000305175781,15.670000076293945,15.489999771118164,15.600000381469727,15.539999961853027,15.880000114440918,15.789999961853027,15.5,15.550000190734863,15.520000457763672,15.079999923706055,15.449999809265137,15.680000305175781,15.779999732971191,15.720000267028809,15.75,15.600000381469727,15.449999809265137,15.770000457763672,15.8100004196167,16.290000915527344,16.0,16.15999984741211,16.260000228881836,16.0,16.290000915527344,16.520000457763672,16.399999618530273,16.450000762939453,17.15999984741211,17.18000030517578,16.899999618530273,17.010000228881836,17.299999237060547,17.030000686645508,17.84000015258789,18.030000686645508,17.6299991607666,17.989999771118164,17.579999923706055,17.1299991607666,17.1299991607666,17.5,17.43000030517578,17.780000686645508,17.809999465942383,17.6200008392334,17.260000228881836,17.510000228881836,17.459999084472656,17.479999542236328,17.520000457763672,17.8799991607666,17.68000030517578,17.440000534057617,17.790000915527344,17.389999389648438,17.110000610351562,17.149999618530273,16.969999313354492,16.760000228881836,17.020000457763672,17.649999618530273,17.799999237060547,17.190000534057617,16.979999542236328,17.049999237060547,17.15999984741211,17.31999969482422,17.219999313354492,17.25,17.200000762939453,17.010000228881836],\"showlegend\":false,\"x\":[\"2015-01-02\",\"2015-01-05\",\"2015-01-06\",\"2015-01-07\",\"2015-01-08\",\"2015-01-09\",\"2015-01-12\",\"2015-01-13\",\"2015-01-14\",\"2015-01-15\",\"2015-01-16\",\"2015-01-20\",\"2015-01-21\",\"2015-01-22\",\"2015-01-23\",\"2015-01-26\",\"2015-01-27\",\"2015-01-28\",\"2015-01-29\",\"2015-01-30\",\"2015-02-02\",\"2015-02-03\",\"2015-02-04\",\"2015-02-05\",\"2015-02-06\",\"2015-02-09\",\"2015-02-10\",\"2015-02-11\",\"2015-02-12\",\"2015-02-13\",\"2015-02-17\",\"2015-02-18\",\"2015-02-19\",\"2015-02-20\",\"2015-02-23\",\"2015-02-24\",\"2015-02-25\",\"2015-02-26\",\"2015-02-27\",\"2015-03-02\",\"2015-03-03\",\"2015-03-04\",\"2015-03-05\",\"2015-03-06\",\"2015-03-09\",\"2015-03-10\",\"2015-03-11\",\"2015-03-12\",\"2015-03-13\",\"2015-03-16\",\"2015-03-17\",\"2015-03-18\",\"2015-03-19\",\"2015-03-20\",\"2015-03-23\",\"2015-03-24\",\"2015-03-25\",\"2015-03-26\",\"2015-03-27\",\"2015-03-30\",\"2015-03-31\",\"2015-04-01\",\"2015-04-02\",\"2015-04-06\",\"2015-04-07\",\"2015-04-08\",\"2015-04-09\",\"2015-04-10\",\"2015-04-13\",\"2015-04-14\",\"2015-04-15\",\"2015-04-16\",\"2015-04-17\",\"2015-04-20\",\"2015-04-21\",\"2015-04-22\",\"2015-04-23\",\"2015-04-24\",\"2015-04-27\",\"2015-04-28\",\"2015-04-29\",\"2015-04-30\",\"2015-05-01\",\"2015-05-04\",\"2015-05-05\",\"2015-05-06\",\"2015-05-07\",\"2015-05-08\",\"2015-05-11\",\"2015-05-12\",\"2015-05-13\",\"2015-05-14\",\"2015-05-15\",\"2015-05-18\",\"2015-05-19\",\"2015-05-20\",\"2015-05-21\",\"2015-05-22\",\"2015-05-26\",\"2015-05-27\",\"2015-05-28\",\"2015-05-29\",\"2015-06-01\",\"2015-06-02\",\"2015-06-03\",\"2015-06-04\",\"2015-06-05\",\"2015-06-08\",\"2015-06-09\",\"2015-06-10\",\"2015-06-11\",\"2015-06-12\",\"2015-06-15\",\"2015-06-16\",\"2015-06-17\",\"2015-06-18\",\"2015-06-19\",\"2015-06-22\",\"2015-06-23\",\"2015-06-24\",\"2015-06-25\",\"2015-06-26\",\"2015-06-29\",\"2015-06-30\",\"2015-07-01\",\"2015-07-02\",\"2015-07-06\",\"2015-07-07\",\"2015-07-08\",\"2015-07-09\",\"2015-07-10\",\"2015-07-13\",\"2015-07-14\",\"2015-07-15\",\"2015-07-16\",\"2015-07-17\",\"2015-07-20\",\"2015-07-21\",\"2015-07-22\",\"2015-07-23\",\"2015-07-24\",\"2015-07-27\",\"2015-07-28\",\"2015-07-29\",\"2015-07-30\",\"2015-07-31\",\"2015-08-03\",\"2015-08-04\",\"2015-08-05\",\"2015-08-06\",\"2015-08-07\",\"2015-08-10\",\"2015-08-11\",\"2015-08-12\",\"2015-08-13\",\"2015-08-14\",\"2015-08-17\",\"2015-08-18\",\"2015-08-19\",\"2015-08-20\",\"2015-08-21\",\"2015-08-24\",\"2015-08-25\",\"2015-08-26\",\"2015-08-27\",\"2015-08-28\",\"2015-08-31\",\"2015-09-01\",\"2015-09-02\",\"2015-09-03\",\"2015-09-04\",\"2015-09-08\",\"2015-09-09\",\"2015-09-10\",\"2015-09-11\",\"2015-09-14\",\"2015-09-15\",\"2015-09-16\",\"2015-09-17\",\"2015-09-18\",\"2015-09-21\",\"2015-09-22\",\"2015-09-23\",\"2015-09-24\",\"2015-09-25\",\"2015-09-28\",\"2015-09-29\",\"2015-09-30\",\"2015-10-01\",\"2015-10-02\",\"2015-10-05\",\"2015-10-06\",\"2015-10-07\",\"2015-10-08\",\"2015-10-09\",\"2015-10-12\",\"2015-10-13\",\"2015-10-14\",\"2015-10-15\",\"2015-10-16\",\"2015-10-19\",\"2015-10-20\",\"2015-10-21\",\"2015-10-22\",\"2015-10-23\",\"2015-10-26\",\"2015-10-27\",\"2015-10-28\",\"2015-10-29\",\"2015-10-30\",\"2015-11-02\",\"2015-11-03\",\"2015-11-04\",\"2015-11-05\",\"2015-11-06\",\"2015-11-09\",\"2015-11-10\",\"2015-11-11\",\"2015-11-12\",\"2015-11-13\",\"2015-11-16\",\"2015-11-17\",\"2015-11-18\",\"2015-11-19\",\"2015-11-20\",\"2015-11-23\",\"2015-11-24\",\"2015-11-25\",\"2015-11-27\",\"2015-11-30\",\"2015-12-01\",\"2015-12-02\",\"2015-12-03\",\"2015-12-04\",\"2015-12-07\",\"2015-12-08\",\"2015-12-09\",\"2015-12-10\",\"2015-12-11\",\"2015-12-14\",\"2015-12-15\",\"2015-12-16\",\"2015-12-17\",\"2015-12-18\",\"2015-12-21\",\"2015-12-22\",\"2015-12-23\",\"2015-12-24\",\"2015-12-28\",\"2015-12-29\",\"2015-12-30\",\"2015-12-31\"],\"yaxis\":\"y2\",\"type\":\"candlestick\"}],                        {\"legend\":{\"bgcolor\":\"#F5F6F9\",\"font\":{\"color\":\"#4D5663\"}},\"paper_bgcolor\":\"#F5F6F9\",\"plot_bgcolor\":\"#F5F6F9\",\"template\":{\"data\":{\"barpolar\":[{\"marker\":{\"line\":{\"color\":\"#E5ECF6\",\"width\":0.5},\"pattern\":{\"fillmode\":\"overlay\",\"size\":10,\"solidity\":0.2}},\"type\":\"barpolar\"}],\"bar\":[{\"error_x\":{\"color\":\"#2a3f5f\"},\"error_y\":{\"color\":\"#2a3f5f\"},\"marker\":{\"line\":{\"color\":\"#E5ECF6\",\"width\":0.5},\"pattern\":{\"fillmode\":\"overlay\",\"size\":10,\"solidity\":0.2}},\"type\":\"bar\"}],\"carpet\":[{\"aaxis\":{\"endlinecolor\":\"#2a3f5f\",\"gridcolor\":\"white\",\"linecolor\":\"white\",\"minorgridcolor\":\"white\",\"startlinecolor\":\"#2a3f5f\"},\"baxis\":{\"endlinecolor\":\"#2a3f5f\",\"gridcolor\":\"white\",\"linecolor\":\"white\",\"minorgridcolor\":\"white\",\"startlinecolor\":\"#2a3f5f\"},\"type\":\"carpet\"}],\"choropleth\":[{\"colorbar\":{\"outlinewidth\":0,\"ticks\":\"\"},\"type\":\"choropleth\"}],\"contourcarpet\":[{\"colorbar\":{\"outlinewidth\":0,\"ticks\":\"\"},\"type\":\"contourcarpet\"}],\"contour\":[{\"colorbar\":{\"outlinewidth\":0,\"ticks\":\"\"},\"colorscale\":[[0.0,\"#0d0887\"],[0.1111111111111111,\"#46039f\"],[0.2222222222222222,\"#7201a8\"],[0.3333333333333333,\"#9c179e\"],[0.4444444444444444,\"#bd3786\"],[0.5555555555555556,\"#d8576b\"],[0.6666666666666666,\"#ed7953\"],[0.7777777777777778,\"#fb9f3a\"],[0.8888888888888888,\"#fdca26\"],[1.0,\"#f0f921\"]],\"type\":\"contour\"}],\"heatmapgl\":[{\"colorbar\":{\"outlinewidth\":0,\"ticks\":\"\"},\"colorscale\":[[0.0,\"#0d0887\"],[0.1111111111111111,\"#46039f\"],[0.2222222222222222,\"#7201a8\"],[0.3333333333333333,\"#9c179e\"],[0.4444444444444444,\"#bd3786\"],[0.5555555555555556,\"#d8576b\"],[0.6666666666666666,\"#ed7953\"],[0.7777777777777778,\"#fb9f3a\"],[0.8888888888888888,\"#fdca26\"],[1.0,\"#f0f921\"]],\"type\":\"heatmapgl\"}],\"heatmap\":[{\"colorbar\":{\"outlinewidth\":0,\"ticks\":\"\"},\"colorscale\":[[0.0,\"#0d0887\"],[0.1111111111111111,\"#46039f\"],[0.2222222222222222,\"#7201a8\"],[0.3333333333333333,\"#9c179e\"],[0.4444444444444444,\"#bd3786\"],[0.5555555555555556,\"#d8576b\"],[0.6666666666666666,\"#ed7953\"],[0.7777777777777778,\"#fb9f3a\"],[0.8888888888888888,\"#fdca26\"],[1.0,\"#f0f921\"]],\"type\":\"heatmap\"}],\"histogram2dcontour\":[{\"colorbar\":{\"outlinewidth\":0,\"ticks\":\"\"},\"colorscale\":[[0.0,\"#0d0887\"],[0.1111111111111111,\"#46039f\"],[0.2222222222222222,\"#7201a8\"],[0.3333333333333333,\"#9c179e\"],[0.4444444444444444,\"#bd3786\"],[0.5555555555555556,\"#d8576b\"],[0.6666666666666666,\"#ed7953\"],[0.7777777777777778,\"#fb9f3a\"],[0.8888888888888888,\"#fdca26\"],[1.0,\"#f0f921\"]],\"type\":\"histogram2dcontour\"}],\"histogram2d\":[{\"colorbar\":{\"outlinewidth\":0,\"ticks\":\"\"},\"colorscale\":[[0.0,\"#0d0887\"],[0.1111111111111111,\"#46039f\"],[0.2222222222222222,\"#7201a8\"],[0.3333333333333333,\"#9c179e\"],[0.4444444444444444,\"#bd3786\"],[0.5555555555555556,\"#d8576b\"],[0.6666666666666666,\"#ed7953\"],[0.7777777777777778,\"#fb9f3a\"],[0.8888888888888888,\"#fdca26\"],[1.0,\"#f0f921\"]],\"type\":\"histogram2d\"}],\"histogram\":[{\"marker\":{\"pattern\":{\"fillmode\":\"overlay\",\"size\":10,\"solidity\":0.2}},\"type\":\"histogram\"}],\"mesh3d\":[{\"colorbar\":{\"outlinewidth\":0,\"ticks\":\"\"},\"type\":\"mesh3d\"}],\"parcoords\":[{\"line\":{\"colorbar\":{\"outlinewidth\":0,\"ticks\":\"\"}},\"type\":\"parcoords\"}],\"pie\":[{\"automargin\":true,\"type\":\"pie\"}],\"scatter3d\":[{\"line\":{\"colorbar\":{\"outlinewidth\":0,\"ticks\":\"\"}},\"marker\":{\"colorbar\":{\"outlinewidth\":0,\"ticks\":\"\"}},\"type\":\"scatter3d\"}],\"scattercarpet\":[{\"marker\":{\"colorbar\":{\"outlinewidth\":0,\"ticks\":\"\"}},\"type\":\"scattercarpet\"}],\"scattergeo\":[{\"marker\":{\"colorbar\":{\"outlinewidth\":0,\"ticks\":\"\"}},\"type\":\"scattergeo\"}],\"scattergl\":[{\"marker\":{\"colorbar\":{\"outlinewidth\":0,\"ticks\":\"\"}},\"type\":\"scattergl\"}],\"scattermapbox\":[{\"marker\":{\"colorbar\":{\"outlinewidth\":0,\"ticks\":\"\"}},\"type\":\"scattermapbox\"}],\"scatterpolargl\":[{\"marker\":{\"colorbar\":{\"outlinewidth\":0,\"ticks\":\"\"}},\"type\":\"scatterpolargl\"}],\"scatterpolar\":[{\"marker\":{\"colorbar\":{\"outlinewidth\":0,\"ticks\":\"\"}},\"type\":\"scatterpolar\"}],\"scatter\":[{\"marker\":{\"colorbar\":{\"outlinewidth\":0,\"ticks\":\"\"}},\"type\":\"scatter\"}],\"scatterternary\":[{\"marker\":{\"colorbar\":{\"outlinewidth\":0,\"ticks\":\"\"}},\"type\":\"scatterternary\"}],\"surface\":[{\"colorbar\":{\"outlinewidth\":0,\"ticks\":\"\"},\"colorscale\":[[0.0,\"#0d0887\"],[0.1111111111111111,\"#46039f\"],[0.2222222222222222,\"#7201a8\"],[0.3333333333333333,\"#9c179e\"],[0.4444444444444444,\"#bd3786\"],[0.5555555555555556,\"#d8576b\"],[0.6666666666666666,\"#ed7953\"],[0.7777777777777778,\"#fb9f3a\"],[0.8888888888888888,\"#fdca26\"],[1.0,\"#f0f921\"]],\"type\":\"surface\"}],\"table\":[{\"cells\":{\"fill\":{\"color\":\"#EBF0F8\"},\"line\":{\"color\":\"white\"}},\"header\":{\"fill\":{\"color\":\"#C8D4E3\"},\"line\":{\"color\":\"white\"}},\"type\":\"table\"}]},\"layout\":{\"annotationdefaults\":{\"arrowcolor\":\"#2a3f5f\",\"arrowhead\":0,\"arrowwidth\":1},\"autotypenumbers\":\"strict\",\"coloraxis\":{\"colorbar\":{\"outlinewidth\":0,\"ticks\":\"\"}},\"colorscale\":{\"diverging\":[[0,\"#8e0152\"],[0.1,\"#c51b7d\"],[0.2,\"#de77ae\"],[0.3,\"#f1b6da\"],[0.4,\"#fde0ef\"],[0.5,\"#f7f7f7\"],[0.6,\"#e6f5d0\"],[0.7,\"#b8e186\"],[0.8,\"#7fbc41\"],[0.9,\"#4d9221\"],[1,\"#276419\"]],\"sequential\":[[0.0,\"#0d0887\"],[0.1111111111111111,\"#46039f\"],[0.2222222222222222,\"#7201a8\"],[0.3333333333333333,\"#9c179e\"],[0.4444444444444444,\"#bd3786\"],[0.5555555555555556,\"#d8576b\"],[0.6666666666666666,\"#ed7953\"],[0.7777777777777778,\"#fb9f3a\"],[0.8888888888888888,\"#fdca26\"],[1.0,\"#f0f921\"]],\"sequentialminus\":[[0.0,\"#0d0887\"],[0.1111111111111111,\"#46039f\"],[0.2222222222222222,\"#7201a8\"],[0.3333333333333333,\"#9c179e\"],[0.4444444444444444,\"#bd3786\"],[0.5555555555555556,\"#d8576b\"],[0.6666666666666666,\"#ed7953\"],[0.7777777777777778,\"#fb9f3a\"],[0.8888888888888888,\"#fdca26\"],[1.0,\"#f0f921\"]]},\"colorway\":[\"#636efa\",\"#EF553B\",\"#00cc96\",\"#ab63fa\",\"#FFA15A\",\"#19d3f3\",\"#FF6692\",\"#B6E880\",\"#FF97FF\",\"#FECB52\"],\"font\":{\"color\":\"#2a3f5f\"},\"geo\":{\"bgcolor\":\"white\",\"lakecolor\":\"white\",\"landcolor\":\"#E5ECF6\",\"showlakes\":true,\"showland\":true,\"subunitcolor\":\"white\"},\"hoverlabel\":{\"align\":\"left\"},\"hovermode\":\"closest\",\"mapbox\":{\"style\":\"light\"},\"paper_bgcolor\":\"white\",\"plot_bgcolor\":\"#E5ECF6\",\"polar\":{\"angularaxis\":{\"gridcolor\":\"white\",\"linecolor\":\"white\",\"ticks\":\"\"},\"bgcolor\":\"#E5ECF6\",\"radialaxis\":{\"gridcolor\":\"white\",\"linecolor\":\"white\",\"ticks\":\"\"}},\"scene\":{\"xaxis\":{\"backgroundcolor\":\"#E5ECF6\",\"gridcolor\":\"white\",\"gridwidth\":2,\"linecolor\":\"white\",\"showbackground\":true,\"ticks\":\"\",\"zerolinecolor\":\"white\"},\"yaxis\":{\"backgroundcolor\":\"#E5ECF6\",\"gridcolor\":\"white\",\"gridwidth\":2,\"linecolor\":\"white\",\"showbackground\":true,\"ticks\":\"\",\"zerolinecolor\":\"white\"},\"zaxis\":{\"backgroundcolor\":\"#E5ECF6\",\"gridcolor\":\"white\",\"gridwidth\":2,\"linecolor\":\"white\",\"showbackground\":true,\"ticks\":\"\",\"zerolinecolor\":\"white\"}},\"shapedefaults\":{\"line\":{\"color\":\"#2a3f5f\"}},\"ternary\":{\"aaxis\":{\"gridcolor\":\"white\",\"linecolor\":\"white\",\"ticks\":\"\"},\"baxis\":{\"gridcolor\":\"white\",\"linecolor\":\"white\",\"ticks\":\"\"},\"bgcolor\":\"#E5ECF6\",\"caxis\":{\"gridcolor\":\"white\",\"linecolor\":\"white\",\"ticks\":\"\"}},\"title\":{\"x\":0.05},\"xaxis\":{\"automargin\":true,\"gridcolor\":\"white\",\"linecolor\":\"white\",\"ticks\":\"\",\"title\":{\"standoff\":15},\"zerolinecolor\":\"white\",\"zerolinewidth\":2},\"yaxis\":{\"automargin\":true,\"gridcolor\":\"white\",\"linecolor\":\"white\",\"ticks\":\"\",\"title\":{\"standoff\":15},\"zerolinecolor\":\"white\",\"zerolinewidth\":2}}},\"title\":{\"font\":{\"color\":\"#4D5663\"}},\"xaxis\":{\"gridcolor\":\"#E1E5ED\",\"rangeslider\":{\"visible\":false},\"showgrid\":true,\"tickfont\":{\"color\":\"#4D5663\"},\"title\":{\"font\":{\"color\":\"#4D5663\"},\"text\":\"\"},\"zerolinecolor\":\"#E1E5ED\"},\"yaxis\":{\"gridcolor\":\"#E1E5ED\",\"showgrid\":true,\"showticklabels\":false,\"tickfont\":{\"color\":\"#4D5663\"},\"title\":{\"font\":{\"color\":\"#4D5663\"},\"text\":\"\"},\"zerolinecolor\":\"#E1E5ED\"},\"yaxis2\":{\"gridcolor\":\"#E1E5ED\",\"showgrid\":true,\"tickfont\":{\"color\":\"#4D5663\"},\"title\":{\"font\":{\"color\":\"#4D5663\"},\"text\":\"\"},\"zerolinecolor\":\"#E1E5ED\"}},                        {\"showLink\": true, \"linkText\": \"Export to plot.ly\", \"plotlyServerURL\": \"https://plot.ly\", \"responsive\": true}                    ).then(function(){\n",
       "                            \n",
       "var gd = document.getElementById('0e861f11-9032-4a5c-9c1c-ea4dde598bfd');\n",
       "var x = new MutationObserver(function (mutations, observer) {{\n",
       "        var display = window.getComputedStyle(gd).display;\n",
       "        if (!display || display === 'none') {{\n",
       "            console.log([gd, 'removed!']);\n",
       "            Plotly.purge(gd);\n",
       "            observer.disconnect();\n",
       "        }}\n",
       "}});\n",
       "\n",
       "// Listen for the removal of the full notebook cells\n",
       "var notebookContainer = gd.closest('#notebook-container');\n",
       "if (notebookContainer) {{\n",
       "    x.observe(notebookContainer, {childList: true});\n",
       "}}\n",
       "\n",
       "// Listen for the clearing of the current output cell\n",
       "var outputEl = gd.closest('.output');\n",
       "if (outputEl) {{\n",
       "    x.observe(outputEl, {childList: true});\n",
       "}}\n",
       "\n",
       "                        })                };                });            </script>        </div>"
      ]
     },
     "metadata": {},
     "output_type": "display_data"
    }
   ],
   "source": [
    "bank_stocks['BAC']['2015-1-1':'2016-1-1'].iplot(kind='candle')"
   ]
  },
  {
   "cell_type": "markdown",
   "metadata": {},
   "source": [
    "**Using .ta_plot(study='boll') create a Bollinger Band Plot for Bank of America for the year 2015.**"
   ]
  },
  {
   "cell_type": "code",
   "execution_count": 29,
   "metadata": {},
   "outputs": [
    {
     "data": {
      "application/vnd.plotly.v1+json": {
       "config": {
        "linkText": "Export to plot.ly",
        "plotlyServerURL": "https://plot.ly",
        "showLink": true
       },
       "data": [
        {
         "line": {
          "color": "rgba(255, 153, 51, 1.0)",
          "dash": "solid",
          "shape": "linear",
          "width": 1.3
         },
         "mode": "lines",
         "name": "Close",
         "text": "",
         "type": "scatter",
         "x": [
          "2015-01-02",
          "2015-01-05",
          "2015-01-06",
          "2015-01-07",
          "2015-01-08",
          "2015-01-09",
          "2015-01-12",
          "2015-01-13",
          "2015-01-14",
          "2015-01-15",
          "2015-01-16",
          "2015-01-20",
          "2015-01-21",
          "2015-01-22",
          "2015-01-23",
          "2015-01-26",
          "2015-01-27",
          "2015-01-28",
          "2015-01-29",
          "2015-01-30",
          "2015-02-02",
          "2015-02-03",
          "2015-02-04",
          "2015-02-05",
          "2015-02-06",
          "2015-02-09",
          "2015-02-10",
          "2015-02-11",
          "2015-02-12",
          "2015-02-13",
          "2015-02-17",
          "2015-02-18",
          "2015-02-19",
          "2015-02-20",
          "2015-02-23",
          "2015-02-24",
          "2015-02-25",
          "2015-02-26",
          "2015-02-27",
          "2015-03-02",
          "2015-03-03",
          "2015-03-04",
          "2015-03-05",
          "2015-03-06",
          "2015-03-09",
          "2015-03-10",
          "2015-03-11",
          "2015-03-12",
          "2015-03-13",
          "2015-03-16",
          "2015-03-17",
          "2015-03-18",
          "2015-03-19",
          "2015-03-20",
          "2015-03-23",
          "2015-03-24",
          "2015-03-25",
          "2015-03-26",
          "2015-03-27",
          "2015-03-30",
          "2015-03-31",
          "2015-04-01",
          "2015-04-02",
          "2015-04-06",
          "2015-04-07",
          "2015-04-08",
          "2015-04-09",
          "2015-04-10",
          "2015-04-13",
          "2015-04-14",
          "2015-04-15",
          "2015-04-16",
          "2015-04-17",
          "2015-04-20",
          "2015-04-21",
          "2015-04-22",
          "2015-04-23",
          "2015-04-24",
          "2015-04-27",
          "2015-04-28",
          "2015-04-29",
          "2015-04-30",
          "2015-05-01",
          "2015-05-04",
          "2015-05-05",
          "2015-05-06",
          "2015-05-07",
          "2015-05-08",
          "2015-05-11",
          "2015-05-12",
          "2015-05-13",
          "2015-05-14",
          "2015-05-15",
          "2015-05-18",
          "2015-05-19",
          "2015-05-20",
          "2015-05-21",
          "2015-05-22",
          "2015-05-26",
          "2015-05-27",
          "2015-05-28",
          "2015-05-29",
          "2015-06-01",
          "2015-06-02",
          "2015-06-03",
          "2015-06-04",
          "2015-06-05",
          "2015-06-08",
          "2015-06-09",
          "2015-06-10",
          "2015-06-11",
          "2015-06-12",
          "2015-06-15",
          "2015-06-16",
          "2015-06-17",
          "2015-06-18",
          "2015-06-19",
          "2015-06-22",
          "2015-06-23",
          "2015-06-24",
          "2015-06-25",
          "2015-06-26",
          "2015-06-29",
          "2015-06-30",
          "2015-07-01",
          "2015-07-02",
          "2015-07-06",
          "2015-07-07",
          "2015-07-08",
          "2015-07-09",
          "2015-07-10",
          "2015-07-13",
          "2015-07-14",
          "2015-07-15",
          "2015-07-16",
          "2015-07-17",
          "2015-07-20",
          "2015-07-21",
          "2015-07-22",
          "2015-07-23",
          "2015-07-24",
          "2015-07-27",
          "2015-07-28",
          "2015-07-29",
          "2015-07-30",
          "2015-07-31",
          "2015-08-03",
          "2015-08-04",
          "2015-08-05",
          "2015-08-06",
          "2015-08-07",
          "2015-08-10",
          "2015-08-11",
          "2015-08-12",
          "2015-08-13",
          "2015-08-14",
          "2015-08-17",
          "2015-08-18",
          "2015-08-19",
          "2015-08-20",
          "2015-08-21",
          "2015-08-24",
          "2015-08-25",
          "2015-08-26",
          "2015-08-27",
          "2015-08-28",
          "2015-08-31",
          "2015-09-01",
          "2015-09-02",
          "2015-09-03",
          "2015-09-04",
          "2015-09-08",
          "2015-09-09",
          "2015-09-10",
          "2015-09-11",
          "2015-09-14",
          "2015-09-15",
          "2015-09-16",
          "2015-09-17",
          "2015-09-18",
          "2015-09-21",
          "2015-09-22",
          "2015-09-23",
          "2015-09-24",
          "2015-09-25",
          "2015-09-28",
          "2015-09-29",
          "2015-09-30",
          "2015-10-01",
          "2015-10-02",
          "2015-10-05",
          "2015-10-06",
          "2015-10-07",
          "2015-10-08",
          "2015-10-09",
          "2015-10-12",
          "2015-10-13",
          "2015-10-14",
          "2015-10-15",
          "2015-10-16",
          "2015-10-19",
          "2015-10-20",
          "2015-10-21",
          "2015-10-22",
          "2015-10-23",
          "2015-10-26",
          "2015-10-27",
          "2015-10-28",
          "2015-10-29",
          "2015-10-30",
          "2015-11-02",
          "2015-11-03",
          "2015-11-04",
          "2015-11-05",
          "2015-11-06",
          "2015-11-09",
          "2015-11-10",
          "2015-11-11",
          "2015-11-12",
          "2015-11-13",
          "2015-11-16",
          "2015-11-17",
          "2015-11-18",
          "2015-11-19",
          "2015-11-20",
          "2015-11-23",
          "2015-11-24",
          "2015-11-25",
          "2015-11-27",
          "2015-11-30",
          "2015-12-01",
          "2015-12-02",
          "2015-12-03",
          "2015-12-04",
          "2015-12-07",
          "2015-12-08",
          "2015-12-09",
          "2015-12-10",
          "2015-12-11",
          "2015-12-14",
          "2015-12-15",
          "2015-12-16",
          "2015-12-17",
          "2015-12-18",
          "2015-12-21",
          "2015-12-22",
          "2015-12-23",
          "2015-12-24",
          "2015-12-28",
          "2015-12-29",
          "2015-12-30",
          "2015-12-31"
         ],
         "y": [
          17.899999618530273,
          17.3799991607666,
          16.860000610351562,
          16.940000534057617,
          17.290000915527344,
          16.979999542236328,
          16.68000030517578,
          16.450000762939453,
          16.040000915527344,
          15.199999809265137,
          15.380000114440918,
          15.260000228881836,
          15.40999984741211,
          16.09000015258789,
          15.729999542236328,
          15.850000381469727,
          15.630000114440918,
          15.199999809265137,
          15.430000305175781,
          15.149999618530273,
          15.460000038146973,
          15.890000343322754,
          15.789999961853027,
          15.970000267028809,
          16.489999771118164,
          16.350000381469727,
          16.420000076293945,
          16.360000610351562,
          16.670000076293945,
          16.610000610351562,
          16.6299991607666,
          16.299999237060547,
          16.209999084472656,
          16.3799991607666,
          16.200000762939453,
          16.3799991607666,
          16.489999771118164,
          16.040000915527344,
          15.8100004196167,
          16.010000228881836,
          16.040000915527344,
          15.84000015258789,
          16,
          16.219999313354492,
          16.170000076293945,
          15.789999961853027,
          16.110000610351562,
          16.09000015258789,
          16.09000015258789,
          16.1299991607666,
          16.09000015258789,
          15.979999542236328,
          15.609999656677246,
          15.84000015258789,
          15.720000267028809,
          15.609999656677246,
          15.40999984741211,
          15.420000076293945,
          15.3100004196167,
          15.520000457763672,
          15.390000343322754,
          15.40999984741211,
          15.539999961853027,
          15.510000228881836,
          15.460000038146973,
          15.609999656677246,
          15.710000038146973,
          15.720000267028809,
          15.800000190734863,
          15.819999694824219,
          15.640000343322754,
          15.789999961853027,
          15.5600004196167,
          15.569999694824219,
          15.5,
          15.739999771118164,
          15.6899995803833,
          15.640000343322754,
          15.5600004196167,
          15.649999618530273,
          15.979999542236328,
          15.930000305175781,
          16.110000610351562,
          16.440000534057617,
          16.350000381469727,
          16.290000915527344,
          16.239999771118164,
          16.450000762939453,
          16.489999771118164,
          16.43000030517578,
          16.469999313354492,
          16.520000457763672,
          16.350000381469727,
          16.510000228881836,
          16.770000457763672,
          16.739999771118164,
          16.729999542236328,
          16.75,
          16.5,
          16.739999771118164,
          16.670000076293945,
          16.5,
          16.549999237060547,
          16.719999313354492,
          16.93000030517578,
          16.780000686645508,
          17.190000534057617,
          17.079999923706055,
          17.309999465942383,
          17.59000015258789,
          17.489999771118164,
          17.489999771118164,
          17.469999313354492,
          17.549999237060547,
          17.3700008392334,
          17.3799991607666,
          17.170000076293945,
          17.469999313354492,
          17.670000076293945,
          17.489999771118164,
          17.3700008392334,
          17.40999984741211,
          16.889999389648438,
          17.020000457763672,
          17.219999313354492,
          17.030000686645508,
          16.940000534057617,
          16.690000534057617,
          16.25,
          16.479999542236328,
          16.700000762939453,
          17.020000457763672,
          17.1299991607666,
          17.68000030517578,
          17.950000762939453,
          18.100000381469727,
          18.1200008392334,
          18.079999923706055,
          18.450000762939453,
          18.18000030517578,
          17.899999618530273,
          17.670000076293945,
          17.8799991607666,
          18.15999984741211,
          18.1299991607666,
          17.8799991607666,
          17.770000457763672,
          17.799999237060547,
          17.8700008392334,
          17.809999465942383,
          17.75,
          18.040000915527344,
          17.790000915527344,
          17.520000457763672,
          17.6200008392334,
          17.700000762939453,
          17.770000457763672,
          17.690000534057617,
          17.459999084472656,
          16.719999313354492,
          16.100000381469727,
          15.289999961853027,
          15.260000228881836,
          16.059999465942383,
          16.440000534057617,
          16.360000610351562,
          16.34000015258789,
          15.579999923706055,
          15.850000381469727,
          15.9399995803833,
          15.649999618530273,
          16.15999984741211,
          15.899999618530273,
          16.040000915527344,
          16.040000915527344,
          15.960000038146973,
          16.309999465942383,
          16.329999923706055,
          15.859999656677246,
          15.5600004196167,
          15.699999809265137,
          15.569999694824219,
          15.720000267028809,
          15.550000190734863,
          15.890000343322754,
          15.470000267028809,
          15.350000381469727,
          15.579999923706055,
          15.550000190734863,
          15.380000114440918,
          15.6899995803833,
          15.6899995803833,
          15.75,
          15.75,
          15.579999923706055,
          15.520000457763672,
          15.520000457763672,
          15.640000343322754,
          16.190000534057617,
          16.1200008392334,
          16.139999389648438,
          16.200000762939453,
          15.899999618530273,
          16.15999984741211,
          16.520000457763672,
          16.510000228881836,
          16.399999618530273,
          17.280000686645508,
          17.09000015258789,
          16.780000686645508,
          17.059999465942383,
          17.18000030517578,
          17.010000228881836,
          17.309999465942383,
          17.950000762939453,
          17.68000030517578,
          17.850000381469727,
          17.75,
          17.3700008392334,
          17.200000762939453,
          17.43000030517578,
          17.420000076293945,
          17.84000015258789,
          17.690000534057617,
          17.649999618530273,
          17.469999313354492,
          17.469999313354492,
          17.440000534057617,
          17.479999542236328,
          17.43000030517578,
          17.809999465942383,
          17.6200008392334,
          17.299999237060547,
          17.799999237060547,
          17.540000915527344,
          17.190000534057617,
          17.100000381469727,
          17.200000762939453,
          16.729999542236328,
          16.799999237060547,
          17.420000076293945,
          17.75,
          17.299999237060547,
          16.760000228881836,
          16.969999313354492,
          17.079999923706055,
          17.34000015258789,
          17.270000457763672,
          17.1299991607666,
          17.280000686645508,
          17.049999237060547,
          16.829999923706055
         ]
        },
        {
         "line": {
          "color": "rgba(55, 128, 191, 1.0)",
          "dash": "solid",
          "shape": "linear",
          "width": 1.3
         },
         "mode": "lines",
         "name": "SMA(2)",
         "text": "",
         "type": "scatter",
         "x": [
          "2015-01-02",
          "2015-01-05",
          "2015-01-06",
          "2015-01-07",
          "2015-01-08",
          "2015-01-09",
          "2015-01-12",
          "2015-01-13",
          "2015-01-14",
          "2015-01-15",
          "2015-01-16",
          "2015-01-20",
          "2015-01-21",
          "2015-01-22",
          "2015-01-23",
          "2015-01-26",
          "2015-01-27",
          "2015-01-28",
          "2015-01-29",
          "2015-01-30",
          "2015-02-02",
          "2015-02-03",
          "2015-02-04",
          "2015-02-05",
          "2015-02-06",
          "2015-02-09",
          "2015-02-10",
          "2015-02-11",
          "2015-02-12",
          "2015-02-13",
          "2015-02-17",
          "2015-02-18",
          "2015-02-19",
          "2015-02-20",
          "2015-02-23",
          "2015-02-24",
          "2015-02-25",
          "2015-02-26",
          "2015-02-27",
          "2015-03-02",
          "2015-03-03",
          "2015-03-04",
          "2015-03-05",
          "2015-03-06",
          "2015-03-09",
          "2015-03-10",
          "2015-03-11",
          "2015-03-12",
          "2015-03-13",
          "2015-03-16",
          "2015-03-17",
          "2015-03-18",
          "2015-03-19",
          "2015-03-20",
          "2015-03-23",
          "2015-03-24",
          "2015-03-25",
          "2015-03-26",
          "2015-03-27",
          "2015-03-30",
          "2015-03-31",
          "2015-04-01",
          "2015-04-02",
          "2015-04-06",
          "2015-04-07",
          "2015-04-08",
          "2015-04-09",
          "2015-04-10",
          "2015-04-13",
          "2015-04-14",
          "2015-04-15",
          "2015-04-16",
          "2015-04-17",
          "2015-04-20",
          "2015-04-21",
          "2015-04-22",
          "2015-04-23",
          "2015-04-24",
          "2015-04-27",
          "2015-04-28",
          "2015-04-29",
          "2015-04-30",
          "2015-05-01",
          "2015-05-04",
          "2015-05-05",
          "2015-05-06",
          "2015-05-07",
          "2015-05-08",
          "2015-05-11",
          "2015-05-12",
          "2015-05-13",
          "2015-05-14",
          "2015-05-15",
          "2015-05-18",
          "2015-05-19",
          "2015-05-20",
          "2015-05-21",
          "2015-05-22",
          "2015-05-26",
          "2015-05-27",
          "2015-05-28",
          "2015-05-29",
          "2015-06-01",
          "2015-06-02",
          "2015-06-03",
          "2015-06-04",
          "2015-06-05",
          "2015-06-08",
          "2015-06-09",
          "2015-06-10",
          "2015-06-11",
          "2015-06-12",
          "2015-06-15",
          "2015-06-16",
          "2015-06-17",
          "2015-06-18",
          "2015-06-19",
          "2015-06-22",
          "2015-06-23",
          "2015-06-24",
          "2015-06-25",
          "2015-06-26",
          "2015-06-29",
          "2015-06-30",
          "2015-07-01",
          "2015-07-02",
          "2015-07-06",
          "2015-07-07",
          "2015-07-08",
          "2015-07-09",
          "2015-07-10",
          "2015-07-13",
          "2015-07-14",
          "2015-07-15",
          "2015-07-16",
          "2015-07-17",
          "2015-07-20",
          "2015-07-21",
          "2015-07-22",
          "2015-07-23",
          "2015-07-24",
          "2015-07-27",
          "2015-07-28",
          "2015-07-29",
          "2015-07-30",
          "2015-07-31",
          "2015-08-03",
          "2015-08-04",
          "2015-08-05",
          "2015-08-06",
          "2015-08-07",
          "2015-08-10",
          "2015-08-11",
          "2015-08-12",
          "2015-08-13",
          "2015-08-14",
          "2015-08-17",
          "2015-08-18",
          "2015-08-19",
          "2015-08-20",
          "2015-08-21",
          "2015-08-24",
          "2015-08-25",
          "2015-08-26",
          "2015-08-27",
          "2015-08-28",
          "2015-08-31",
          "2015-09-01",
          "2015-09-02",
          "2015-09-03",
          "2015-09-04",
          "2015-09-08",
          "2015-09-09",
          "2015-09-10",
          "2015-09-11",
          "2015-09-14",
          "2015-09-15",
          "2015-09-16",
          "2015-09-17",
          "2015-09-18",
          "2015-09-21",
          "2015-09-22",
          "2015-09-23",
          "2015-09-24",
          "2015-09-25",
          "2015-09-28",
          "2015-09-29",
          "2015-09-30",
          "2015-10-01",
          "2015-10-02",
          "2015-10-05",
          "2015-10-06",
          "2015-10-07",
          "2015-10-08",
          "2015-10-09",
          "2015-10-12",
          "2015-10-13",
          "2015-10-14",
          "2015-10-15",
          "2015-10-16",
          "2015-10-19",
          "2015-10-20",
          "2015-10-21",
          "2015-10-22",
          "2015-10-23",
          "2015-10-26",
          "2015-10-27",
          "2015-10-28",
          "2015-10-29",
          "2015-10-30",
          "2015-11-02",
          "2015-11-03",
          "2015-11-04",
          "2015-11-05",
          "2015-11-06",
          "2015-11-09",
          "2015-11-10",
          "2015-11-11",
          "2015-11-12",
          "2015-11-13",
          "2015-11-16",
          "2015-11-17",
          "2015-11-18",
          "2015-11-19",
          "2015-11-20",
          "2015-11-23",
          "2015-11-24",
          "2015-11-25",
          "2015-11-27",
          "2015-11-30",
          "2015-12-01",
          "2015-12-02",
          "2015-12-03",
          "2015-12-04",
          "2015-12-07",
          "2015-12-08",
          "2015-12-09",
          "2015-12-10",
          "2015-12-11",
          "2015-12-14",
          "2015-12-15",
          "2015-12-16",
          "2015-12-17",
          "2015-12-18",
          "2015-12-21",
          "2015-12-22",
          "2015-12-23",
          "2015-12-24",
          "2015-12-28",
          "2015-12-29",
          "2015-12-30",
          "2015-12-31"
         ],
         "y": [
          "",
          17.639999389648438,
          17.119999885559082,
          16.90000057220459,
          17.11500072479248,
          17.135000228881836,
          16.829999923706055,
          16.565000534057617,
          16.2450008392334,
          15.62000036239624,
          15.289999961853027,
          15.320000171661377,
          15.335000038146973,
          15.75,
          15.90999984741211,
          15.789999961853027,
          15.740000247955322,
          15.414999961853027,
          15.315000057220459,
          15.289999961853027,
          15.304999828338623,
          15.675000190734863,
          15.84000015258789,
          15.880000114440918,
          16.230000019073486,
          16.420000076293945,
          16.385000228881836,
          16.390000343322754,
          16.515000343322754,
          16.640000343322754,
          16.619999885559082,
          16.464999198913574,
          16.2549991607666,
          16.29499912261963,
          16.289999961853027,
          16.289999961853027,
          16.434999465942383,
          16.265000343322754,
          15.925000667572021,
          15.910000324249268,
          16.02500057220459,
          15.940000534057617,
          15.920000076293945,
          16.109999656677246,
          16.19499969482422,
          15.980000019073486,
          15.950000286102295,
          16.100000381469727,
          16.09000015258789,
          16.109999656677246,
          16.109999656677246,
          16.03499984741211,
          15.794999599456787,
          15.724999904632568,
          15.78000020980835,
          15.664999961853027,
          15.509999752044678,
          15.414999961853027,
          15.365000247955322,
          15.415000438690186,
          15.455000400543213,
          15.400000095367432,
          15.474999904632568,
          15.525000095367432,
          15.485000133514404,
          15.53499984741211,
          15.65999984741211,
          15.71500015258789,
          15.760000228881836,
          15.809999942779541,
          15.730000019073486,
          15.71500015258789,
          15.675000190734863,
          15.565000057220459,
          15.53499984741211,
          15.619999885559082,
          15.714999675750732,
          15.664999961853027,
          15.600000381469727,
          15.605000019073486,
          15.8149995803833,
          15.954999923706055,
          16.020000457763672,
          16.27500057220459,
          16.395000457763672,
          16.320000648498535,
          16.265000343322754,
          16.34500026702881,
          16.47000026702881,
          16.460000038146973,
          16.449999809265137,
          16.494999885559082,
          16.4350004196167,
          16.43000030517578,
          16.640000343322754,
          16.755000114440918,
          16.734999656677246,
          16.739999771118164,
          16.625,
          16.619999885559082,
          16.704999923706055,
          16.585000038146973,
          16.524999618530273,
          16.63499927520752,
          16.824999809265137,
          16.855000495910645,
          16.985000610351562,
          17.135000228881836,
          17.19499969482422,
          17.449999809265137,
          17.539999961853027,
          17.489999771118164,
          17.479999542236328,
          17.50999927520752,
          17.460000038146973,
          17.375,
          17.274999618530273,
          17.31999969482422,
          17.56999969482422,
          17.579999923706055,
          17.43000030517578,
          17.390000343322754,
          17.149999618530273,
          16.954999923706055,
          17.119999885559082,
          17.125,
          16.985000610351562,
          16.815000534057617,
          16.47000026702881,
          16.364999771118164,
          16.59000015258789,
          16.860000610351562,
          17.074999809265137,
          17.40499973297119,
          17.815000534057617,
          18.02500057220459,
          18.110000610351562,
          18.100000381469727,
          18.265000343322754,
          18.315000534057617,
          18.039999961853027,
          17.78499984741211,
          17.774999618530273,
          18.019999504089355,
          18.144999504089355,
          18.0049991607666,
          17.824999809265137,
          17.78499984741211,
          17.835000038146973,
          17.84000015258789,
          17.77999973297119,
          17.895000457763672,
          17.915000915527344,
          17.655000686645508,
          17.570000648498535,
          17.660000801086426,
          17.735000610351562,
          17.730000495910645,
          17.574999809265137,
          17.089999198913574,
          16.40999984741211,
          15.695000171661377,
          15.275000095367432,
          15.65999984741211,
          16.25,
          16.40000057220459,
          16.350000381469727,
          15.960000038146973,
          15.71500015258789,
          15.894999980926514,
          15.794999599456787,
          15.904999732971191,
          16.02999973297119,
          15.970000267028809,
          16.040000915527344,
          16.000000476837158,
          16.134999752044678,
          16.31999969482422,
          16.09499979019165,
          15.710000038146973,
          15.630000114440918,
          15.634999752044678,
          15.644999980926514,
          15.635000228881836,
          15.720000267028809,
          15.680000305175781,
          15.410000324249268,
          15.46500015258789,
          15.565000057220459,
          15.46500015258789,
          15.53499984741211,
          15.6899995803833,
          15.71999979019165,
          15.75,
          15.664999961853027,
          15.550000190734863,
          15.520000457763672,
          15.580000400543213,
          15.915000438690186,
          16.155000686645508,
          16.130000114440918,
          16.170000076293945,
          16.050000190734863,
          16.02999973297119,
          16.34000015258789,
          16.515000343322754,
          16.454999923706055,
          16.84000015258789,
          17.1850004196167,
          16.9350004196167,
          16.920000076293945,
          17.119999885559082,
          17.09500026702881,
          17.15999984741211,
          17.630000114440918,
          17.815000534057617,
          17.765000343322754,
          17.800000190734863,
          17.5600004196167,
          17.285000801086426,
          17.315000534057617,
          17.425000190734863,
          17.630000114440918,
          17.765000343322754,
          17.670000076293945,
          17.559999465942383,
          17.469999313354492,
          17.454999923706055,
          17.460000038146973,
          17.454999923706055,
          17.619999885559082,
          17.71500015258789,
          17.460000038146973,
          17.549999237060547,
          17.670000076293945,
          17.36500072479248,
          17.145000457763672,
          17.15000057220459,
          16.96500015258789,
          16.764999389648438,
          17.109999656677246,
          17.585000038146973,
          17.524999618530273,
          17.02999973297119,
          16.864999771118164,
          17.024999618530273,
          17.210000038146973,
          17.30500030517578,
          17.199999809265137,
          17.204999923706055,
          17.164999961853027,
          16.9399995803833
         ]
        },
        {
         "line": {
          "color": "rgba(55, 128, 191, 0.8999999999999999)",
          "dash": "solid",
          "shape": "linear",
          "width": 1.3
         },
         "mode": "lines",
         "name": "UPPER(2)",
         "text": "",
         "type": "scatter",
         "x": [
          "2015-01-02",
          "2015-01-05",
          "2015-01-06",
          "2015-01-07",
          "2015-01-08",
          "2015-01-09",
          "2015-01-12",
          "2015-01-13",
          "2015-01-14",
          "2015-01-15",
          "2015-01-16",
          "2015-01-20",
          "2015-01-21",
          "2015-01-22",
          "2015-01-23",
          "2015-01-26",
          "2015-01-27",
          "2015-01-28",
          "2015-01-29",
          "2015-01-30",
          "2015-02-02",
          "2015-02-03",
          "2015-02-04",
          "2015-02-05",
          "2015-02-06",
          "2015-02-09",
          "2015-02-10",
          "2015-02-11",
          "2015-02-12",
          "2015-02-13",
          "2015-02-17",
          "2015-02-18",
          "2015-02-19",
          "2015-02-20",
          "2015-02-23",
          "2015-02-24",
          "2015-02-25",
          "2015-02-26",
          "2015-02-27",
          "2015-03-02",
          "2015-03-03",
          "2015-03-04",
          "2015-03-05",
          "2015-03-06",
          "2015-03-09",
          "2015-03-10",
          "2015-03-11",
          "2015-03-12",
          "2015-03-13",
          "2015-03-16",
          "2015-03-17",
          "2015-03-18",
          "2015-03-19",
          "2015-03-20",
          "2015-03-23",
          "2015-03-24",
          "2015-03-25",
          "2015-03-26",
          "2015-03-27",
          "2015-03-30",
          "2015-03-31",
          "2015-04-01",
          "2015-04-02",
          "2015-04-06",
          "2015-04-07",
          "2015-04-08",
          "2015-04-09",
          "2015-04-10",
          "2015-04-13",
          "2015-04-14",
          "2015-04-15",
          "2015-04-16",
          "2015-04-17",
          "2015-04-20",
          "2015-04-21",
          "2015-04-22",
          "2015-04-23",
          "2015-04-24",
          "2015-04-27",
          "2015-04-28",
          "2015-04-29",
          "2015-04-30",
          "2015-05-01",
          "2015-05-04",
          "2015-05-05",
          "2015-05-06",
          "2015-05-07",
          "2015-05-08",
          "2015-05-11",
          "2015-05-12",
          "2015-05-13",
          "2015-05-14",
          "2015-05-15",
          "2015-05-18",
          "2015-05-19",
          "2015-05-20",
          "2015-05-21",
          "2015-05-22",
          "2015-05-26",
          "2015-05-27",
          "2015-05-28",
          "2015-05-29",
          "2015-06-01",
          "2015-06-02",
          "2015-06-03",
          "2015-06-04",
          "2015-06-05",
          "2015-06-08",
          "2015-06-09",
          "2015-06-10",
          "2015-06-11",
          "2015-06-12",
          "2015-06-15",
          "2015-06-16",
          "2015-06-17",
          "2015-06-18",
          "2015-06-19",
          "2015-06-22",
          "2015-06-23",
          "2015-06-24",
          "2015-06-25",
          "2015-06-26",
          "2015-06-29",
          "2015-06-30",
          "2015-07-01",
          "2015-07-02",
          "2015-07-06",
          "2015-07-07",
          "2015-07-08",
          "2015-07-09",
          "2015-07-10",
          "2015-07-13",
          "2015-07-14",
          "2015-07-15",
          "2015-07-16",
          "2015-07-17",
          "2015-07-20",
          "2015-07-21",
          "2015-07-22",
          "2015-07-23",
          "2015-07-24",
          "2015-07-27",
          "2015-07-28",
          "2015-07-29",
          "2015-07-30",
          "2015-07-31",
          "2015-08-03",
          "2015-08-04",
          "2015-08-05",
          "2015-08-06",
          "2015-08-07",
          "2015-08-10",
          "2015-08-11",
          "2015-08-12",
          "2015-08-13",
          "2015-08-14",
          "2015-08-17",
          "2015-08-18",
          "2015-08-19",
          "2015-08-20",
          "2015-08-21",
          "2015-08-24",
          "2015-08-25",
          "2015-08-26",
          "2015-08-27",
          "2015-08-28",
          "2015-08-31",
          "2015-09-01",
          "2015-09-02",
          "2015-09-03",
          "2015-09-04",
          "2015-09-08",
          "2015-09-09",
          "2015-09-10",
          "2015-09-11",
          "2015-09-14",
          "2015-09-15",
          "2015-09-16",
          "2015-09-17",
          "2015-09-18",
          "2015-09-21",
          "2015-09-22",
          "2015-09-23",
          "2015-09-24",
          "2015-09-25",
          "2015-09-28",
          "2015-09-29",
          "2015-09-30",
          "2015-10-01",
          "2015-10-02",
          "2015-10-05",
          "2015-10-06",
          "2015-10-07",
          "2015-10-08",
          "2015-10-09",
          "2015-10-12",
          "2015-10-13",
          "2015-10-14",
          "2015-10-15",
          "2015-10-16",
          "2015-10-19",
          "2015-10-20",
          "2015-10-21",
          "2015-10-22",
          "2015-10-23",
          "2015-10-26",
          "2015-10-27",
          "2015-10-28",
          "2015-10-29",
          "2015-10-30",
          "2015-11-02",
          "2015-11-03",
          "2015-11-04",
          "2015-11-05",
          "2015-11-06",
          "2015-11-09",
          "2015-11-10",
          "2015-11-11",
          "2015-11-12",
          "2015-11-13",
          "2015-11-16",
          "2015-11-17",
          "2015-11-18",
          "2015-11-19",
          "2015-11-20",
          "2015-11-23",
          "2015-11-24",
          "2015-11-25",
          "2015-11-27",
          "2015-11-30",
          "2015-12-01",
          "2015-12-02",
          "2015-12-03",
          "2015-12-04",
          "2015-12-07",
          "2015-12-08",
          "2015-12-09",
          "2015-12-10",
          "2015-12-11",
          "2015-12-14",
          "2015-12-15",
          "2015-12-16",
          "2015-12-17",
          "2015-12-18",
          "2015-12-21",
          "2015-12-22",
          "2015-12-23",
          "2015-12-24",
          "2015-12-28",
          "2015-12-29",
          "2015-12-30",
          "2015-12-31"
         ],
         "y": [
          "",
          18.37539108945804,
          17.85538888797038,
          17.013137549298506,
          17.609976011102724,
          17.573408375344275,
          17.25426291345866,
          16.890269006027836,
          16.824828184014503,
          16.80794131928066,
          15.544558834663913,
          15.48970563730225,
          15.547131533023276,
          16.711665653997432,
          16.41911759303388,
          15.959706776193054,
          16.051127609313166,
          16.023112225257186,
          15.64026987788983,
          15.685980730380884,
          15.74340662610191,
          16.283112454139022,
          15.98142204830486,
          16.134558987251804,
          16.965390370183936,
          16.617989111858723,
          16.483994746664223,
          16.474852401793616,
          16.95340579238689,
          16.724852401793616,
          16.64828210678383,
          16.931689566600763,
          16.382278597172043,
          16.535415536118986,
          16.54455613726561,
          16.54455613726561,
          16.590563820970882,
          16.901394827951663,
          16.25027048824139,
          16.192842766984057,
          16.067427950139173,
          16.222844325491558,
          16.146274030481777,
          16.421125669335936,
          16.26570929398355,
          16.517401334619162,
          16.40254954317711,
          16.12828530009278,
          16.09000015258789,
          16.16656679652505,
          16.16656679652505,
          16.19056420244061,
          16.318258455690934,
          16.050269725301938,
          15.949705675449223,
          15.820564316881525,
          15.792842194779466,
          15.429142421164554,
          15.520563254284667,
          15.711985340736502,
          15.638848325495614,
          15.428283665291334,
          15.65884782958497,
          15.567426124602862,
          15.55571108137289,
          15.747131342288412,
          15.80142174312908,
          15.729142611899418,
          15.873137205975752,
          15.838283512703443,
          15.98455754318522,
          15.927131647464194,
          16.000268662705082,
          15.579141167832834,
          15.633994365194498,
          15.959410816840828,
          15.785710623609218,
          15.73570956101236,
          15.713137358563642,
          15.732278106779777,
          16.28168994807049,
          16.025709522865387,
          16.274559330574558,
          16.74169093989178,
          16.522279894169113,
          16.404852706969397,
          16.33571263988039,
          16.641986517774278,
          16.526567406876612,
          16.544852096617834,
          16.50656694911294,
          16.56571218211672,
          16.675416833116056,
          16.656274259363613,
          17.007696193227556,
          16.7974274923755,
          16.749142115988775,
          16.76828468974122,
          16.978553390593273,
          16.95941081684083,
          16.80399444148844,
          16.82541645164633,
          16.595709217689606,
          16.875415688706877,
          17.121986060010606,
          17.067131990786947,
          17.564827955132667,
          17.290564583910335,
          17.520268166794438,
          17.845980577792993,
          17.681421857569998,
          17.489999771118164,
          17.508284460859382,
          17.623136252301435,
          17.714556213559554,
          17.389139761913224,
          17.571983171877438,
          17.744262684576825,
          17.85284348625816,
          17.83455879651694,
          17.5997044221175,
          17.446567483170558,
          17.885391318339877,
          17.138849197357608,
          17.402840979594718,
          17.39369863472411,
          17.112280046757004,
          17.16855392465089,
          17.092254989744497,
          16.690268243088383,
          16.901128862644885,
          17.312548518727223,
          17.23056146689533,
          18.182818810715375,
          18.196838843273945,
          18.237132067080893,
          18.138285528974617,
          18.156570218715835,
          18.788260548256055,
          18.696838843273945,
          18.435980730380884,
          18.110268319382328,
          18.071983171877438,
          18.41598027261721,
          18.18742688202394,
          18.358552551359875,
          17.98056146689533,
          17.827424527948388,
          17.933997253327664,
          17.924854908457057,
          17.864851791442053,
          18.305123685603057,
          18.268554306120617,
          18.036838995861835,
          17.711422544215505,
          17.77313777818034,
          17.83399512813395,
          17.84313747300456,
          17.90027097863366,
          18.136516911381868,
          17.28681074554038,
          16.840513750611212,
          15.317426124602862,
          16.791369618351265,
          16.787402664244826,
          16.513137549298506,
          16.37828530009278,
          17.03480266923832,
          16.096838461804218,
          16.022278068632804,
          16.205121478597018,
          16.626248973469266,
          16.397695582875993,
          16.16799199999189,
          16.040000915527344,
          16.113138802630225,
          16.62997368965577,
          16.348284613447273,
          16.759680542142767,
          16.13426302789958,
          15.827989150005694,
          15.818847676997079,
          15.857132824501969,
          15.875416642381195,
          16.200833094027526,
          16.273970109268415,
          15.579705789890141,
          15.79026862455811,
          15.60742608645589,
          15.70541656608725,
          15.973405296476244,
          15.6899995803833,
          15.804853197361663,
          15.75,
          15.905416375352386,
          15.634852249205723,
          15.520000457763672,
          15.749705866184087,
          16.69281816773522,
          16.253995204427895,
          16.158282335665668,
          16.25485483216311,
          16.474265877885774,
          16.397695582875993,
          16.849117898209663,
          16.529142802634283,
          16.610564278734554,
          18.084509598019267,
          17.453701751739114,
          17.373405868680834,
          17.315978147423497,
          17.289706699899106,
          17.335416680528166,
          17.584262837164715,
          18.535098628590546,
          18.196838843273945,
          18.00541675682211,
          17.941422086451833,
          18.09740038646322,
          17.525417214585783,
          17.640269006027836,
          17.439142650046392,
          18.22396991853355,
          17.977131838199057,
          17.726569913540054,
          17.81455833875327,
          17.469999313354492,
          17.497424604242333,
          17.516567177994776,
          17.525709522865387,
          18.157399852405604,
          17.983698787312,
          17.912550643920937,
          18.257106018247093,
          18.037693228800443,
          17.859976011102724,
          17.272279894169113,
          17.29142246792156,
          17.629682253238162,
          16.863993907430824,
          17.98681325220382,
          18.05169040583416,
          18.161396800557487,
          17.793673654005545,
          17.16198332446533,
          17.180563973558773,
          17.577695888051775,
          17.40399482295817,
          17.39799154222822,
          17.417134115980662,
          17.49027113122155,
          17.25112559304199
         ]
        },
        {
         "line": {
          "color": "rgba(55, 128, 191, 0.7999999999999998)",
          "dash": "solid",
          "shape": "linear",
          "width": 1.3
         },
         "mode": "lines",
         "name": "LOWER(2)",
         "text": "",
         "type": "scatter",
         "x": [
          "2015-01-02",
          "2015-01-05",
          "2015-01-06",
          "2015-01-07",
          "2015-01-08",
          "2015-01-09",
          "2015-01-12",
          "2015-01-13",
          "2015-01-14",
          "2015-01-15",
          "2015-01-16",
          "2015-01-20",
          "2015-01-21",
          "2015-01-22",
          "2015-01-23",
          "2015-01-26",
          "2015-01-27",
          "2015-01-28",
          "2015-01-29",
          "2015-01-30",
          "2015-02-02",
          "2015-02-03",
          "2015-02-04",
          "2015-02-05",
          "2015-02-06",
          "2015-02-09",
          "2015-02-10",
          "2015-02-11",
          "2015-02-12",
          "2015-02-13",
          "2015-02-17",
          "2015-02-18",
          "2015-02-19",
          "2015-02-20",
          "2015-02-23",
          "2015-02-24",
          "2015-02-25",
          "2015-02-26",
          "2015-02-27",
          "2015-03-02",
          "2015-03-03",
          "2015-03-04",
          "2015-03-05",
          "2015-03-06",
          "2015-03-09",
          "2015-03-10",
          "2015-03-11",
          "2015-03-12",
          "2015-03-13",
          "2015-03-16",
          "2015-03-17",
          "2015-03-18",
          "2015-03-19",
          "2015-03-20",
          "2015-03-23",
          "2015-03-24",
          "2015-03-25",
          "2015-03-26",
          "2015-03-27",
          "2015-03-30",
          "2015-03-31",
          "2015-04-01",
          "2015-04-02",
          "2015-04-06",
          "2015-04-07",
          "2015-04-08",
          "2015-04-09",
          "2015-04-10",
          "2015-04-13",
          "2015-04-14",
          "2015-04-15",
          "2015-04-16",
          "2015-04-17",
          "2015-04-20",
          "2015-04-21",
          "2015-04-22",
          "2015-04-23",
          "2015-04-24",
          "2015-04-27",
          "2015-04-28",
          "2015-04-29",
          "2015-04-30",
          "2015-05-01",
          "2015-05-04",
          "2015-05-05",
          "2015-05-06",
          "2015-05-07",
          "2015-05-08",
          "2015-05-11",
          "2015-05-12",
          "2015-05-13",
          "2015-05-14",
          "2015-05-15",
          "2015-05-18",
          "2015-05-19",
          "2015-05-20",
          "2015-05-21",
          "2015-05-22",
          "2015-05-26",
          "2015-05-27",
          "2015-05-28",
          "2015-05-29",
          "2015-06-01",
          "2015-06-02",
          "2015-06-03",
          "2015-06-04",
          "2015-06-05",
          "2015-06-08",
          "2015-06-09",
          "2015-06-10",
          "2015-06-11",
          "2015-06-12",
          "2015-06-15",
          "2015-06-16",
          "2015-06-17",
          "2015-06-18",
          "2015-06-19",
          "2015-06-22",
          "2015-06-23",
          "2015-06-24",
          "2015-06-25",
          "2015-06-26",
          "2015-06-29",
          "2015-06-30",
          "2015-07-01",
          "2015-07-02",
          "2015-07-06",
          "2015-07-07",
          "2015-07-08",
          "2015-07-09",
          "2015-07-10",
          "2015-07-13",
          "2015-07-14",
          "2015-07-15",
          "2015-07-16",
          "2015-07-17",
          "2015-07-20",
          "2015-07-21",
          "2015-07-22",
          "2015-07-23",
          "2015-07-24",
          "2015-07-27",
          "2015-07-28",
          "2015-07-29",
          "2015-07-30",
          "2015-07-31",
          "2015-08-03",
          "2015-08-04",
          "2015-08-05",
          "2015-08-06",
          "2015-08-07",
          "2015-08-10",
          "2015-08-11",
          "2015-08-12",
          "2015-08-13",
          "2015-08-14",
          "2015-08-17",
          "2015-08-18",
          "2015-08-19",
          "2015-08-20",
          "2015-08-21",
          "2015-08-24",
          "2015-08-25",
          "2015-08-26",
          "2015-08-27",
          "2015-08-28",
          "2015-08-31",
          "2015-09-01",
          "2015-09-02",
          "2015-09-03",
          "2015-09-04",
          "2015-09-08",
          "2015-09-09",
          "2015-09-10",
          "2015-09-11",
          "2015-09-14",
          "2015-09-15",
          "2015-09-16",
          "2015-09-17",
          "2015-09-18",
          "2015-09-21",
          "2015-09-22",
          "2015-09-23",
          "2015-09-24",
          "2015-09-25",
          "2015-09-28",
          "2015-09-29",
          "2015-09-30",
          "2015-10-01",
          "2015-10-02",
          "2015-10-05",
          "2015-10-06",
          "2015-10-07",
          "2015-10-08",
          "2015-10-09",
          "2015-10-12",
          "2015-10-13",
          "2015-10-14",
          "2015-10-15",
          "2015-10-16",
          "2015-10-19",
          "2015-10-20",
          "2015-10-21",
          "2015-10-22",
          "2015-10-23",
          "2015-10-26",
          "2015-10-27",
          "2015-10-28",
          "2015-10-29",
          "2015-10-30",
          "2015-11-02",
          "2015-11-03",
          "2015-11-04",
          "2015-11-05",
          "2015-11-06",
          "2015-11-09",
          "2015-11-10",
          "2015-11-11",
          "2015-11-12",
          "2015-11-13",
          "2015-11-16",
          "2015-11-17",
          "2015-11-18",
          "2015-11-19",
          "2015-11-20",
          "2015-11-23",
          "2015-11-24",
          "2015-11-25",
          "2015-11-27",
          "2015-11-30",
          "2015-12-01",
          "2015-12-02",
          "2015-12-03",
          "2015-12-04",
          "2015-12-07",
          "2015-12-08",
          "2015-12-09",
          "2015-12-10",
          "2015-12-11",
          "2015-12-14",
          "2015-12-15",
          "2015-12-16",
          "2015-12-17",
          "2015-12-18",
          "2015-12-21",
          "2015-12-22",
          "2015-12-23",
          "2015-12-24",
          "2015-12-28",
          "2015-12-29",
          "2015-12-30",
          "2015-12-31"
         ],
         "y": [
          "",
          16.904607689838834,
          16.384610883147783,
          16.786863595110674,
          16.620025438482237,
          16.696592082419397,
          16.40573693395345,
          16.2397320620874,
          15.665173494452294,
          14.432059405511824,
          15.035441089042141,
          15.150294706020503,
          15.12286854327067,
          14.788334346002566,
          15.400882101790337,
          15.620293147513001,
          15.428872886597478,
          14.806887698448868,
          14.989730236551088,
          14.894019193325171,
          14.866593030575336,
          15.066887927330704,
          15.69857825687092,
          15.625441241630032,
          15.494609667963037,
          16.222011040729168,
          16.28600571109945,
          16.305148284851892,
          16.07659489425862,
          16.555148284851892,
          16.591717664334332,
          15.998308831226385,
          16.12771972436116,
          16.05458270912027,
          16.035443786440446,
          16.035443786440446,
          16.279435110913884,
          15.628605858693843,
          15.59973084690265,
          15.62715788151448,
          15.982573194270007,
          15.657156742623677,
          15.693726122106115,
          15.798873644018554,
          16.124290095664886,
          15.442598703527812,
          15.49745102902748,
          16.071715462846672,
          16.09000015258789,
          16.053432516829442,
          16.053432516829442,
          15.879435492383612,
          15.27174074322264,
          15.399730083963197,
          15.610294744167476,
          15.50943560682453,
          15.22715730930989,
          15.4008575025415,
          15.209437241625977,
          15.118015536643869,
          15.271152475590812,
          15.37171652544353,
          15.291151979680167,
          15.482574066132,
          15.41428918565592,
          15.322868352535806,
          15.51857795169514,
          15.700857693276363,
          15.64686325178792,
          15.781716372855639,
          15.475442494961753,
          15.502868657711588,
          15.349731718764644,
          15.550858946608084,
          15.43600532962972,
          15.280588954277336,
          15.644288727892247,
          15.594290362693695,
          15.48686340437581,
          15.477721931367196,
          15.348309212696112,
          15.884290324546722,
          15.765441584952786,
          15.8083102045174,
          16.26772102135823,
          16.235148590027674,
          16.194288046765116,
          16.04801401628334,
          16.413433127181005,
          16.37514797967611,
          16.393432669417333,
          16.424287589001445,
          16.194584006117342,
          16.20372635098795,
          16.272304493417952,
          16.712572736506335,
          16.720857197365717,
          16.71171485249511,
          16.271446609406727,
          16.280588954277334,
          16.606005405923668,
          16.344583624647615,
          16.45429001937094,
          16.394582861708162,
          16.528013558519667,
          16.64286900103434,
          16.405173265570458,
          16.979435873853337,
          16.869731222854,
          17.05401904073728,
          17.398578066136057,
          17.489999771118164,
          17.451714623613274,
          17.396862298113604,
          17.20544386273439,
          17.360860238086776,
          16.97801606518311,
          16.895736705071613,
          17.28715590339028,
          17.32544105089517,
          17.26029618823406,
          17.33343320347495,
          16.41460791872067,
          16.7711506500545,
          16.837158791523446,
          16.85630136527589,
          16.85772117394612,
          16.461447143464344,
          15.84774554431312,
          16.039731299147945,
          16.278871442530896,
          16.407452701975902,
          16.919438151634942,
          16.627180655227008,
          17.43316222484129,
          17.812869077328287,
          18.08171569172851,
          18.043430544223618,
          17.741740138389453,
          17.93316222484129,
          17.64401919332517,
          17.45973137544189,
          17.47801606518311,
          17.6240187355615,
          18.102572126154772,
          17.65144577017333,
          17.669438151634942,
          17.74257516687583,
          17.73600282296628,
          17.755145396718724,
          17.69514767450033,
          17.484877229924287,
          17.56144752493407,
          17.27316237742918,
          17.428578752781565,
          17.54686382399251,
          17.636006092569176,
          17.61686351881673,
          17.249728639896613,
          16.04348148644528,
          15.533188949283842,
          14.549486592711542,
          15.232574066132,
          14.528630076472956,
          15.712597335755174,
          16.286863595110674,
          16.321715462846672,
          14.885197407055625,
          15.333161843371562,
          15.767721893220223,
          15.384877720316556,
          15.183750492473116,
          15.66230388306639,
          15.772008534065728,
          16.040000915527344,
          15.88686215104409,
          15.640025814433585,
          16.291714776201164,
          15.430319038240533,
          15.285737048394367,
          15.432011078876142,
          15.451151827092277,
          15.432867137351058,
          15.394583815382477,
          15.239167440030092,
          15.08603050108315,
          15.240294858608394,
          15.139731680617672,
          15.522574027985028,
          15.224583739088532,
          15.096594398347975,
          15.6899995803833,
          15.635146383021638,
          15.75,
          15.424583548353668,
          15.465148132264003,
          15.520000457763672,
          15.410294934902339,
          15.137182709645153,
          16.05600616886312,
          16.10171789321617,
          16.08514532042478,
          15.625734503583953,
          15.66230388306639,
          15.830882406966118,
          16.500857884011225,
          16.299435568677556,
          15.595490707156516,
          16.916299087494284,
          16.496594970552565,
          16.524022005164394,
          16.950293071219058,
          16.85458385352945,
          16.735736857659504,
          16.72490160029129,
          17.43316222484129,
          17.524583929823397,
          17.658578295017893,
          17.022600452770178,
          17.04458438758707,
          16.9897320620874,
          17.410857731423334,
          17.036030310348284,
          17.55286884844645,
          17.613430239047837,
          17.305440593131497,
          17.469999313354492,
          17.412575243169776,
          17.40343289829917,
          17.384290324546722,
          17.08259991871256,
          17.44630151786378,
          17.007449432373008,
          16.842892455874,
          17.302306923787448,
          16.870025438482237,
          17.01772102135823,
          17.00857867648762,
          16.30031805193762,
          16.66600487186605,
          16.233186061150672,
          17.118309670459784,
          16.88860243650306,
          16.266325811936838,
          16.568016217771,
          16.869435263501774,
          16.84230418824217,
          17.206005787393394,
          17.002008076302054,
          16.992865731431447,
          16.839728792484504,
          16.62887356772461
         ]
        }
       ],
       "layout": {
        "legend": {
         "bgcolor": "#F5F6F9",
         "font": {
          "color": "#4D5663"
         }
        },
        "paper_bgcolor": "#F5F6F9",
        "plot_bgcolor": "#F5F6F9",
        "template": {
         "data": {
          "bar": [
           {
            "error_x": {
             "color": "#2a3f5f"
            },
            "error_y": {
             "color": "#2a3f5f"
            },
            "marker": {
             "line": {
              "color": "#E5ECF6",
              "width": 0.5
             },
             "pattern": {
              "fillmode": "overlay",
              "size": 10,
              "solidity": 0.2
             }
            },
            "type": "bar"
           }
          ],
          "barpolar": [
           {
            "marker": {
             "line": {
              "color": "#E5ECF6",
              "width": 0.5
             },
             "pattern": {
              "fillmode": "overlay",
              "size": 10,
              "solidity": 0.2
             }
            },
            "type": "barpolar"
           }
          ],
          "carpet": [
           {
            "aaxis": {
             "endlinecolor": "#2a3f5f",
             "gridcolor": "white",
             "linecolor": "white",
             "minorgridcolor": "white",
             "startlinecolor": "#2a3f5f"
            },
            "baxis": {
             "endlinecolor": "#2a3f5f",
             "gridcolor": "white",
             "linecolor": "white",
             "minorgridcolor": "white",
             "startlinecolor": "#2a3f5f"
            },
            "type": "carpet"
           }
          ],
          "choropleth": [
           {
            "colorbar": {
             "outlinewidth": 0,
             "ticks": ""
            },
            "type": "choropleth"
           }
          ],
          "contour": [
           {
            "colorbar": {
             "outlinewidth": 0,
             "ticks": ""
            },
            "colorscale": [
             [
              0,
              "#0d0887"
             ],
             [
              0.1111111111111111,
              "#46039f"
             ],
             [
              0.2222222222222222,
              "#7201a8"
             ],
             [
              0.3333333333333333,
              "#9c179e"
             ],
             [
              0.4444444444444444,
              "#bd3786"
             ],
             [
              0.5555555555555556,
              "#d8576b"
             ],
             [
              0.6666666666666666,
              "#ed7953"
             ],
             [
              0.7777777777777778,
              "#fb9f3a"
             ],
             [
              0.8888888888888888,
              "#fdca26"
             ],
             [
              1,
              "#f0f921"
             ]
            ],
            "type": "contour"
           }
          ],
          "contourcarpet": [
           {
            "colorbar": {
             "outlinewidth": 0,
             "ticks": ""
            },
            "type": "contourcarpet"
           }
          ],
          "heatmap": [
           {
            "colorbar": {
             "outlinewidth": 0,
             "ticks": ""
            },
            "colorscale": [
             [
              0,
              "#0d0887"
             ],
             [
              0.1111111111111111,
              "#46039f"
             ],
             [
              0.2222222222222222,
              "#7201a8"
             ],
             [
              0.3333333333333333,
              "#9c179e"
             ],
             [
              0.4444444444444444,
              "#bd3786"
             ],
             [
              0.5555555555555556,
              "#d8576b"
             ],
             [
              0.6666666666666666,
              "#ed7953"
             ],
             [
              0.7777777777777778,
              "#fb9f3a"
             ],
             [
              0.8888888888888888,
              "#fdca26"
             ],
             [
              1,
              "#f0f921"
             ]
            ],
            "type": "heatmap"
           }
          ],
          "heatmapgl": [
           {
            "colorbar": {
             "outlinewidth": 0,
             "ticks": ""
            },
            "colorscale": [
             [
              0,
              "#0d0887"
             ],
             [
              0.1111111111111111,
              "#46039f"
             ],
             [
              0.2222222222222222,
              "#7201a8"
             ],
             [
              0.3333333333333333,
              "#9c179e"
             ],
             [
              0.4444444444444444,
              "#bd3786"
             ],
             [
              0.5555555555555556,
              "#d8576b"
             ],
             [
              0.6666666666666666,
              "#ed7953"
             ],
             [
              0.7777777777777778,
              "#fb9f3a"
             ],
             [
              0.8888888888888888,
              "#fdca26"
             ],
             [
              1,
              "#f0f921"
             ]
            ],
            "type": "heatmapgl"
           }
          ],
          "histogram": [
           {
            "marker": {
             "pattern": {
              "fillmode": "overlay",
              "size": 10,
              "solidity": 0.2
             }
            },
            "type": "histogram"
           }
          ],
          "histogram2d": [
           {
            "colorbar": {
             "outlinewidth": 0,
             "ticks": ""
            },
            "colorscale": [
             [
              0,
              "#0d0887"
             ],
             [
              0.1111111111111111,
              "#46039f"
             ],
             [
              0.2222222222222222,
              "#7201a8"
             ],
             [
              0.3333333333333333,
              "#9c179e"
             ],
             [
              0.4444444444444444,
              "#bd3786"
             ],
             [
              0.5555555555555556,
              "#d8576b"
             ],
             [
              0.6666666666666666,
              "#ed7953"
             ],
             [
              0.7777777777777778,
              "#fb9f3a"
             ],
             [
              0.8888888888888888,
              "#fdca26"
             ],
             [
              1,
              "#f0f921"
             ]
            ],
            "type": "histogram2d"
           }
          ],
          "histogram2dcontour": [
           {
            "colorbar": {
             "outlinewidth": 0,
             "ticks": ""
            },
            "colorscale": [
             [
              0,
              "#0d0887"
             ],
             [
              0.1111111111111111,
              "#46039f"
             ],
             [
              0.2222222222222222,
              "#7201a8"
             ],
             [
              0.3333333333333333,
              "#9c179e"
             ],
             [
              0.4444444444444444,
              "#bd3786"
             ],
             [
              0.5555555555555556,
              "#d8576b"
             ],
             [
              0.6666666666666666,
              "#ed7953"
             ],
             [
              0.7777777777777778,
              "#fb9f3a"
             ],
             [
              0.8888888888888888,
              "#fdca26"
             ],
             [
              1,
              "#f0f921"
             ]
            ],
            "type": "histogram2dcontour"
           }
          ],
          "mesh3d": [
           {
            "colorbar": {
             "outlinewidth": 0,
             "ticks": ""
            },
            "type": "mesh3d"
           }
          ],
          "parcoords": [
           {
            "line": {
             "colorbar": {
              "outlinewidth": 0,
              "ticks": ""
             }
            },
            "type": "parcoords"
           }
          ],
          "pie": [
           {
            "automargin": true,
            "type": "pie"
           }
          ],
          "scatter": [
           {
            "marker": {
             "colorbar": {
              "outlinewidth": 0,
              "ticks": ""
             }
            },
            "type": "scatter"
           }
          ],
          "scatter3d": [
           {
            "line": {
             "colorbar": {
              "outlinewidth": 0,
              "ticks": ""
             }
            },
            "marker": {
             "colorbar": {
              "outlinewidth": 0,
              "ticks": ""
             }
            },
            "type": "scatter3d"
           }
          ],
          "scattercarpet": [
           {
            "marker": {
             "colorbar": {
              "outlinewidth": 0,
              "ticks": ""
             }
            },
            "type": "scattercarpet"
           }
          ],
          "scattergeo": [
           {
            "marker": {
             "colorbar": {
              "outlinewidth": 0,
              "ticks": ""
             }
            },
            "type": "scattergeo"
           }
          ],
          "scattergl": [
           {
            "marker": {
             "colorbar": {
              "outlinewidth": 0,
              "ticks": ""
             }
            },
            "type": "scattergl"
           }
          ],
          "scattermapbox": [
           {
            "marker": {
             "colorbar": {
              "outlinewidth": 0,
              "ticks": ""
             }
            },
            "type": "scattermapbox"
           }
          ],
          "scatterpolar": [
           {
            "marker": {
             "colorbar": {
              "outlinewidth": 0,
              "ticks": ""
             }
            },
            "type": "scatterpolar"
           }
          ],
          "scatterpolargl": [
           {
            "marker": {
             "colorbar": {
              "outlinewidth": 0,
              "ticks": ""
             }
            },
            "type": "scatterpolargl"
           }
          ],
          "scatterternary": [
           {
            "marker": {
             "colorbar": {
              "outlinewidth": 0,
              "ticks": ""
             }
            },
            "type": "scatterternary"
           }
          ],
          "surface": [
           {
            "colorbar": {
             "outlinewidth": 0,
             "ticks": ""
            },
            "colorscale": [
             [
              0,
              "#0d0887"
             ],
             [
              0.1111111111111111,
              "#46039f"
             ],
             [
              0.2222222222222222,
              "#7201a8"
             ],
             [
              0.3333333333333333,
              "#9c179e"
             ],
             [
              0.4444444444444444,
              "#bd3786"
             ],
             [
              0.5555555555555556,
              "#d8576b"
             ],
             [
              0.6666666666666666,
              "#ed7953"
             ],
             [
              0.7777777777777778,
              "#fb9f3a"
             ],
             [
              0.8888888888888888,
              "#fdca26"
             ],
             [
              1,
              "#f0f921"
             ]
            ],
            "type": "surface"
           }
          ],
          "table": [
           {
            "cells": {
             "fill": {
              "color": "#EBF0F8"
             },
             "line": {
              "color": "white"
             }
            },
            "header": {
             "fill": {
              "color": "#C8D4E3"
             },
             "line": {
              "color": "white"
             }
            },
            "type": "table"
           }
          ]
         },
         "layout": {
          "annotationdefaults": {
           "arrowcolor": "#2a3f5f",
           "arrowhead": 0,
           "arrowwidth": 1
          },
          "autotypenumbers": "strict",
          "coloraxis": {
           "colorbar": {
            "outlinewidth": 0,
            "ticks": ""
           }
          },
          "colorscale": {
           "diverging": [
            [
             0,
             "#8e0152"
            ],
            [
             0.1,
             "#c51b7d"
            ],
            [
             0.2,
             "#de77ae"
            ],
            [
             0.3,
             "#f1b6da"
            ],
            [
             0.4,
             "#fde0ef"
            ],
            [
             0.5,
             "#f7f7f7"
            ],
            [
             0.6,
             "#e6f5d0"
            ],
            [
             0.7,
             "#b8e186"
            ],
            [
             0.8,
             "#7fbc41"
            ],
            [
             0.9,
             "#4d9221"
            ],
            [
             1,
             "#276419"
            ]
           ],
           "sequential": [
            [
             0,
             "#0d0887"
            ],
            [
             0.1111111111111111,
             "#46039f"
            ],
            [
             0.2222222222222222,
             "#7201a8"
            ],
            [
             0.3333333333333333,
             "#9c179e"
            ],
            [
             0.4444444444444444,
             "#bd3786"
            ],
            [
             0.5555555555555556,
             "#d8576b"
            ],
            [
             0.6666666666666666,
             "#ed7953"
            ],
            [
             0.7777777777777778,
             "#fb9f3a"
            ],
            [
             0.8888888888888888,
             "#fdca26"
            ],
            [
             1,
             "#f0f921"
            ]
           ],
           "sequentialminus": [
            [
             0,
             "#0d0887"
            ],
            [
             0.1111111111111111,
             "#46039f"
            ],
            [
             0.2222222222222222,
             "#7201a8"
            ],
            [
             0.3333333333333333,
             "#9c179e"
            ],
            [
             0.4444444444444444,
             "#bd3786"
            ],
            [
             0.5555555555555556,
             "#d8576b"
            ],
            [
             0.6666666666666666,
             "#ed7953"
            ],
            [
             0.7777777777777778,
             "#fb9f3a"
            ],
            [
             0.8888888888888888,
             "#fdca26"
            ],
            [
             1,
             "#f0f921"
            ]
           ]
          },
          "colorway": [
           "#636efa",
           "#EF553B",
           "#00cc96",
           "#ab63fa",
           "#FFA15A",
           "#19d3f3",
           "#FF6692",
           "#B6E880",
           "#FF97FF",
           "#FECB52"
          ],
          "font": {
           "color": "#2a3f5f"
          },
          "geo": {
           "bgcolor": "white",
           "lakecolor": "white",
           "landcolor": "#E5ECF6",
           "showlakes": true,
           "showland": true,
           "subunitcolor": "white"
          },
          "hoverlabel": {
           "align": "left"
          },
          "hovermode": "closest",
          "mapbox": {
           "style": "light"
          },
          "paper_bgcolor": "white",
          "plot_bgcolor": "#E5ECF6",
          "polar": {
           "angularaxis": {
            "gridcolor": "white",
            "linecolor": "white",
            "ticks": ""
           },
           "bgcolor": "#E5ECF6",
           "radialaxis": {
            "gridcolor": "white",
            "linecolor": "white",
            "ticks": ""
           }
          },
          "scene": {
           "xaxis": {
            "backgroundcolor": "#E5ECF6",
            "gridcolor": "white",
            "gridwidth": 2,
            "linecolor": "white",
            "showbackground": true,
            "ticks": "",
            "zerolinecolor": "white"
           },
           "yaxis": {
            "backgroundcolor": "#E5ECF6",
            "gridcolor": "white",
            "gridwidth": 2,
            "linecolor": "white",
            "showbackground": true,
            "ticks": "",
            "zerolinecolor": "white"
           },
           "zaxis": {
            "backgroundcolor": "#E5ECF6",
            "gridcolor": "white",
            "gridwidth": 2,
            "linecolor": "white",
            "showbackground": true,
            "ticks": "",
            "zerolinecolor": "white"
           }
          },
          "shapedefaults": {
           "line": {
            "color": "#2a3f5f"
           }
          },
          "ternary": {
           "aaxis": {
            "gridcolor": "white",
            "linecolor": "white",
            "ticks": ""
           },
           "baxis": {
            "gridcolor": "white",
            "linecolor": "white",
            "ticks": ""
           },
           "bgcolor": "#E5ECF6",
           "caxis": {
            "gridcolor": "white",
            "linecolor": "white",
            "ticks": ""
           }
          },
          "title": {
           "x": 0.05
          },
          "xaxis": {
           "automargin": true,
           "gridcolor": "white",
           "linecolor": "white",
           "ticks": "",
           "title": {
            "standoff": 15
           },
           "zerolinecolor": "white",
           "zerolinewidth": 2
          },
          "yaxis": {
           "automargin": true,
           "gridcolor": "white",
           "linecolor": "white",
           "ticks": "",
           "title": {
            "standoff": 15
           },
           "zerolinecolor": "white",
           "zerolinewidth": 2
          }
         }
        },
        "title": {
         "font": {
          "color": "#4D5663"
         }
        },
        "xaxis": {
         "gridcolor": "#E1E5ED",
         "showgrid": true,
         "tickfont": {
          "color": "#4D5663"
         },
         "title": {
          "font": {
           "color": "#4D5663"
          },
          "text": ""
         },
         "zerolinecolor": "#E1E5ED"
        },
        "yaxis": {
         "gridcolor": "#E1E5ED",
         "showgrid": true,
         "tickfont": {
          "color": "#4D5663"
         },
         "title": {
          "font": {
           "color": "#4D5663"
          },
          "text": ""
         },
         "zerolinecolor": "#E1E5ED"
        }
       }
      },
      "text/html": [
       "<div>                            <div id=\"74203a53-4260-44a3-914e-282a120f53af\" class=\"plotly-graph-div\" style=\"height:525px; width:100%;\"></div>            <script type=\"text/javascript\">                require([\"plotly\"], function(Plotly) {                    window.PLOTLYENV=window.PLOTLYENV || {};\n",
       "                    window.PLOTLYENV.BASE_URL='https://plot.ly';                                    if (document.getElementById(\"74203a53-4260-44a3-914e-282a120f53af\")) {                    Plotly.newPlot(                        \"74203a53-4260-44a3-914e-282a120f53af\",                        [{\"line\":{\"color\":\"rgba(255, 153, 51, 1.0)\",\"dash\":\"solid\",\"shape\":\"linear\",\"width\":1.3},\"mode\":\"lines\",\"name\":\"Close\",\"text\":\"\",\"x\":[\"2015-01-02\",\"2015-01-05\",\"2015-01-06\",\"2015-01-07\",\"2015-01-08\",\"2015-01-09\",\"2015-01-12\",\"2015-01-13\",\"2015-01-14\",\"2015-01-15\",\"2015-01-16\",\"2015-01-20\",\"2015-01-21\",\"2015-01-22\",\"2015-01-23\",\"2015-01-26\",\"2015-01-27\",\"2015-01-28\",\"2015-01-29\",\"2015-01-30\",\"2015-02-02\",\"2015-02-03\",\"2015-02-04\",\"2015-02-05\",\"2015-02-06\",\"2015-02-09\",\"2015-02-10\",\"2015-02-11\",\"2015-02-12\",\"2015-02-13\",\"2015-02-17\",\"2015-02-18\",\"2015-02-19\",\"2015-02-20\",\"2015-02-23\",\"2015-02-24\",\"2015-02-25\",\"2015-02-26\",\"2015-02-27\",\"2015-03-02\",\"2015-03-03\",\"2015-03-04\",\"2015-03-05\",\"2015-03-06\",\"2015-03-09\",\"2015-03-10\",\"2015-03-11\",\"2015-03-12\",\"2015-03-13\",\"2015-03-16\",\"2015-03-17\",\"2015-03-18\",\"2015-03-19\",\"2015-03-20\",\"2015-03-23\",\"2015-03-24\",\"2015-03-25\",\"2015-03-26\",\"2015-03-27\",\"2015-03-30\",\"2015-03-31\",\"2015-04-01\",\"2015-04-02\",\"2015-04-06\",\"2015-04-07\",\"2015-04-08\",\"2015-04-09\",\"2015-04-10\",\"2015-04-13\",\"2015-04-14\",\"2015-04-15\",\"2015-04-16\",\"2015-04-17\",\"2015-04-20\",\"2015-04-21\",\"2015-04-22\",\"2015-04-23\",\"2015-04-24\",\"2015-04-27\",\"2015-04-28\",\"2015-04-29\",\"2015-04-30\",\"2015-05-01\",\"2015-05-04\",\"2015-05-05\",\"2015-05-06\",\"2015-05-07\",\"2015-05-08\",\"2015-05-11\",\"2015-05-12\",\"2015-05-13\",\"2015-05-14\",\"2015-05-15\",\"2015-05-18\",\"2015-05-19\",\"2015-05-20\",\"2015-05-21\",\"2015-05-22\",\"2015-05-26\",\"2015-05-27\",\"2015-05-28\",\"2015-05-29\",\"2015-06-01\",\"2015-06-02\",\"2015-06-03\",\"2015-06-04\",\"2015-06-05\",\"2015-06-08\",\"2015-06-09\",\"2015-06-10\",\"2015-06-11\",\"2015-06-12\",\"2015-06-15\",\"2015-06-16\",\"2015-06-17\",\"2015-06-18\",\"2015-06-19\",\"2015-06-22\",\"2015-06-23\",\"2015-06-24\",\"2015-06-25\",\"2015-06-26\",\"2015-06-29\",\"2015-06-30\",\"2015-07-01\",\"2015-07-02\",\"2015-07-06\",\"2015-07-07\",\"2015-07-08\",\"2015-07-09\",\"2015-07-10\",\"2015-07-13\",\"2015-07-14\",\"2015-07-15\",\"2015-07-16\",\"2015-07-17\",\"2015-07-20\",\"2015-07-21\",\"2015-07-22\",\"2015-07-23\",\"2015-07-24\",\"2015-07-27\",\"2015-07-28\",\"2015-07-29\",\"2015-07-30\",\"2015-07-31\",\"2015-08-03\",\"2015-08-04\",\"2015-08-05\",\"2015-08-06\",\"2015-08-07\",\"2015-08-10\",\"2015-08-11\",\"2015-08-12\",\"2015-08-13\",\"2015-08-14\",\"2015-08-17\",\"2015-08-18\",\"2015-08-19\",\"2015-08-20\",\"2015-08-21\",\"2015-08-24\",\"2015-08-25\",\"2015-08-26\",\"2015-08-27\",\"2015-08-28\",\"2015-08-31\",\"2015-09-01\",\"2015-09-02\",\"2015-09-03\",\"2015-09-04\",\"2015-09-08\",\"2015-09-09\",\"2015-09-10\",\"2015-09-11\",\"2015-09-14\",\"2015-09-15\",\"2015-09-16\",\"2015-09-17\",\"2015-09-18\",\"2015-09-21\",\"2015-09-22\",\"2015-09-23\",\"2015-09-24\",\"2015-09-25\",\"2015-09-28\",\"2015-09-29\",\"2015-09-30\",\"2015-10-01\",\"2015-10-02\",\"2015-10-05\",\"2015-10-06\",\"2015-10-07\",\"2015-10-08\",\"2015-10-09\",\"2015-10-12\",\"2015-10-13\",\"2015-10-14\",\"2015-10-15\",\"2015-10-16\",\"2015-10-19\",\"2015-10-20\",\"2015-10-21\",\"2015-10-22\",\"2015-10-23\",\"2015-10-26\",\"2015-10-27\",\"2015-10-28\",\"2015-10-29\",\"2015-10-30\",\"2015-11-02\",\"2015-11-03\",\"2015-11-04\",\"2015-11-05\",\"2015-11-06\",\"2015-11-09\",\"2015-11-10\",\"2015-11-11\",\"2015-11-12\",\"2015-11-13\",\"2015-11-16\",\"2015-11-17\",\"2015-11-18\",\"2015-11-19\",\"2015-11-20\",\"2015-11-23\",\"2015-11-24\",\"2015-11-25\",\"2015-11-27\",\"2015-11-30\",\"2015-12-01\",\"2015-12-02\",\"2015-12-03\",\"2015-12-04\",\"2015-12-07\",\"2015-12-08\",\"2015-12-09\",\"2015-12-10\",\"2015-12-11\",\"2015-12-14\",\"2015-12-15\",\"2015-12-16\",\"2015-12-17\",\"2015-12-18\",\"2015-12-21\",\"2015-12-22\",\"2015-12-23\",\"2015-12-24\",\"2015-12-28\",\"2015-12-29\",\"2015-12-30\",\"2015-12-31\"],\"y\":[17.899999618530273,17.3799991607666,16.860000610351562,16.940000534057617,17.290000915527344,16.979999542236328,16.68000030517578,16.450000762939453,16.040000915527344,15.199999809265137,15.380000114440918,15.260000228881836,15.40999984741211,16.09000015258789,15.729999542236328,15.850000381469727,15.630000114440918,15.199999809265137,15.430000305175781,15.149999618530273,15.460000038146973,15.890000343322754,15.789999961853027,15.970000267028809,16.489999771118164,16.350000381469727,16.420000076293945,16.360000610351562,16.670000076293945,16.610000610351562,16.6299991607666,16.299999237060547,16.209999084472656,16.3799991607666,16.200000762939453,16.3799991607666,16.489999771118164,16.040000915527344,15.8100004196167,16.010000228881836,16.040000915527344,15.84000015258789,16.0,16.219999313354492,16.170000076293945,15.789999961853027,16.110000610351562,16.09000015258789,16.09000015258789,16.1299991607666,16.09000015258789,15.979999542236328,15.609999656677246,15.84000015258789,15.720000267028809,15.609999656677246,15.40999984741211,15.420000076293945,15.3100004196167,15.520000457763672,15.390000343322754,15.40999984741211,15.539999961853027,15.510000228881836,15.460000038146973,15.609999656677246,15.710000038146973,15.720000267028809,15.800000190734863,15.819999694824219,15.640000343322754,15.789999961853027,15.5600004196167,15.569999694824219,15.5,15.739999771118164,15.6899995803833,15.640000343322754,15.5600004196167,15.649999618530273,15.979999542236328,15.930000305175781,16.110000610351562,16.440000534057617,16.350000381469727,16.290000915527344,16.239999771118164,16.450000762939453,16.489999771118164,16.43000030517578,16.469999313354492,16.520000457763672,16.350000381469727,16.510000228881836,16.770000457763672,16.739999771118164,16.729999542236328,16.75,16.5,16.739999771118164,16.670000076293945,16.5,16.549999237060547,16.719999313354492,16.93000030517578,16.780000686645508,17.190000534057617,17.079999923706055,17.309999465942383,17.59000015258789,17.489999771118164,17.489999771118164,17.469999313354492,17.549999237060547,17.3700008392334,17.3799991607666,17.170000076293945,17.469999313354492,17.670000076293945,17.489999771118164,17.3700008392334,17.40999984741211,16.889999389648438,17.020000457763672,17.219999313354492,17.030000686645508,16.940000534057617,16.690000534057617,16.25,16.479999542236328,16.700000762939453,17.020000457763672,17.1299991607666,17.68000030517578,17.950000762939453,18.100000381469727,18.1200008392334,18.079999923706055,18.450000762939453,18.18000030517578,17.899999618530273,17.670000076293945,17.8799991607666,18.15999984741211,18.1299991607666,17.8799991607666,17.770000457763672,17.799999237060547,17.8700008392334,17.809999465942383,17.75,18.040000915527344,17.790000915527344,17.520000457763672,17.6200008392334,17.700000762939453,17.770000457763672,17.690000534057617,17.459999084472656,16.719999313354492,16.100000381469727,15.289999961853027,15.260000228881836,16.059999465942383,16.440000534057617,16.360000610351562,16.34000015258789,15.579999923706055,15.850000381469727,15.9399995803833,15.649999618530273,16.15999984741211,15.899999618530273,16.040000915527344,16.040000915527344,15.960000038146973,16.309999465942383,16.329999923706055,15.859999656677246,15.5600004196167,15.699999809265137,15.569999694824219,15.720000267028809,15.550000190734863,15.890000343322754,15.470000267028809,15.350000381469727,15.579999923706055,15.550000190734863,15.380000114440918,15.6899995803833,15.6899995803833,15.75,15.75,15.579999923706055,15.520000457763672,15.520000457763672,15.640000343322754,16.190000534057617,16.1200008392334,16.139999389648438,16.200000762939453,15.899999618530273,16.15999984741211,16.520000457763672,16.510000228881836,16.399999618530273,17.280000686645508,17.09000015258789,16.780000686645508,17.059999465942383,17.18000030517578,17.010000228881836,17.309999465942383,17.950000762939453,17.68000030517578,17.850000381469727,17.75,17.3700008392334,17.200000762939453,17.43000030517578,17.420000076293945,17.84000015258789,17.690000534057617,17.649999618530273,17.469999313354492,17.469999313354492,17.440000534057617,17.479999542236328,17.43000030517578,17.809999465942383,17.6200008392334,17.299999237060547,17.799999237060547,17.540000915527344,17.190000534057617,17.100000381469727,17.200000762939453,16.729999542236328,16.799999237060547,17.420000076293945,17.75,17.299999237060547,16.760000228881836,16.969999313354492,17.079999923706055,17.34000015258789,17.270000457763672,17.1299991607666,17.280000686645508,17.049999237060547,16.829999923706055],\"type\":\"scatter\"},{\"line\":{\"color\":\"rgba(55, 128, 191, 1.0)\",\"dash\":\"solid\",\"shape\":\"linear\",\"width\":1.3},\"mode\":\"lines\",\"name\":\"SMA(2)\",\"text\":\"\",\"x\":[\"2015-01-02\",\"2015-01-05\",\"2015-01-06\",\"2015-01-07\",\"2015-01-08\",\"2015-01-09\",\"2015-01-12\",\"2015-01-13\",\"2015-01-14\",\"2015-01-15\",\"2015-01-16\",\"2015-01-20\",\"2015-01-21\",\"2015-01-22\",\"2015-01-23\",\"2015-01-26\",\"2015-01-27\",\"2015-01-28\",\"2015-01-29\",\"2015-01-30\",\"2015-02-02\",\"2015-02-03\",\"2015-02-04\",\"2015-02-05\",\"2015-02-06\",\"2015-02-09\",\"2015-02-10\",\"2015-02-11\",\"2015-02-12\",\"2015-02-13\",\"2015-02-17\",\"2015-02-18\",\"2015-02-19\",\"2015-02-20\",\"2015-02-23\",\"2015-02-24\",\"2015-02-25\",\"2015-02-26\",\"2015-02-27\",\"2015-03-02\",\"2015-03-03\",\"2015-03-04\",\"2015-03-05\",\"2015-03-06\",\"2015-03-09\",\"2015-03-10\",\"2015-03-11\",\"2015-03-12\",\"2015-03-13\",\"2015-03-16\",\"2015-03-17\",\"2015-03-18\",\"2015-03-19\",\"2015-03-20\",\"2015-03-23\",\"2015-03-24\",\"2015-03-25\",\"2015-03-26\",\"2015-03-27\",\"2015-03-30\",\"2015-03-31\",\"2015-04-01\",\"2015-04-02\",\"2015-04-06\",\"2015-04-07\",\"2015-04-08\",\"2015-04-09\",\"2015-04-10\",\"2015-04-13\",\"2015-04-14\",\"2015-04-15\",\"2015-04-16\",\"2015-04-17\",\"2015-04-20\",\"2015-04-21\",\"2015-04-22\",\"2015-04-23\",\"2015-04-24\",\"2015-04-27\",\"2015-04-28\",\"2015-04-29\",\"2015-04-30\",\"2015-05-01\",\"2015-05-04\",\"2015-05-05\",\"2015-05-06\",\"2015-05-07\",\"2015-05-08\",\"2015-05-11\",\"2015-05-12\",\"2015-05-13\",\"2015-05-14\",\"2015-05-15\",\"2015-05-18\",\"2015-05-19\",\"2015-05-20\",\"2015-05-21\",\"2015-05-22\",\"2015-05-26\",\"2015-05-27\",\"2015-05-28\",\"2015-05-29\",\"2015-06-01\",\"2015-06-02\",\"2015-06-03\",\"2015-06-04\",\"2015-06-05\",\"2015-06-08\",\"2015-06-09\",\"2015-06-10\",\"2015-06-11\",\"2015-06-12\",\"2015-06-15\",\"2015-06-16\",\"2015-06-17\",\"2015-06-18\",\"2015-06-19\",\"2015-06-22\",\"2015-06-23\",\"2015-06-24\",\"2015-06-25\",\"2015-06-26\",\"2015-06-29\",\"2015-06-30\",\"2015-07-01\",\"2015-07-02\",\"2015-07-06\",\"2015-07-07\",\"2015-07-08\",\"2015-07-09\",\"2015-07-10\",\"2015-07-13\",\"2015-07-14\",\"2015-07-15\",\"2015-07-16\",\"2015-07-17\",\"2015-07-20\",\"2015-07-21\",\"2015-07-22\",\"2015-07-23\",\"2015-07-24\",\"2015-07-27\",\"2015-07-28\",\"2015-07-29\",\"2015-07-30\",\"2015-07-31\",\"2015-08-03\",\"2015-08-04\",\"2015-08-05\",\"2015-08-06\",\"2015-08-07\",\"2015-08-10\",\"2015-08-11\",\"2015-08-12\",\"2015-08-13\",\"2015-08-14\",\"2015-08-17\",\"2015-08-18\",\"2015-08-19\",\"2015-08-20\",\"2015-08-21\",\"2015-08-24\",\"2015-08-25\",\"2015-08-26\",\"2015-08-27\",\"2015-08-28\",\"2015-08-31\",\"2015-09-01\",\"2015-09-02\",\"2015-09-03\",\"2015-09-04\",\"2015-09-08\",\"2015-09-09\",\"2015-09-10\",\"2015-09-11\",\"2015-09-14\",\"2015-09-15\",\"2015-09-16\",\"2015-09-17\",\"2015-09-18\",\"2015-09-21\",\"2015-09-22\",\"2015-09-23\",\"2015-09-24\",\"2015-09-25\",\"2015-09-28\",\"2015-09-29\",\"2015-09-30\",\"2015-10-01\",\"2015-10-02\",\"2015-10-05\",\"2015-10-06\",\"2015-10-07\",\"2015-10-08\",\"2015-10-09\",\"2015-10-12\",\"2015-10-13\",\"2015-10-14\",\"2015-10-15\",\"2015-10-16\",\"2015-10-19\",\"2015-10-20\",\"2015-10-21\",\"2015-10-22\",\"2015-10-23\",\"2015-10-26\",\"2015-10-27\",\"2015-10-28\",\"2015-10-29\",\"2015-10-30\",\"2015-11-02\",\"2015-11-03\",\"2015-11-04\",\"2015-11-05\",\"2015-11-06\",\"2015-11-09\",\"2015-11-10\",\"2015-11-11\",\"2015-11-12\",\"2015-11-13\",\"2015-11-16\",\"2015-11-17\",\"2015-11-18\",\"2015-11-19\",\"2015-11-20\",\"2015-11-23\",\"2015-11-24\",\"2015-11-25\",\"2015-11-27\",\"2015-11-30\",\"2015-12-01\",\"2015-12-02\",\"2015-12-03\",\"2015-12-04\",\"2015-12-07\",\"2015-12-08\",\"2015-12-09\",\"2015-12-10\",\"2015-12-11\",\"2015-12-14\",\"2015-12-15\",\"2015-12-16\",\"2015-12-17\",\"2015-12-18\",\"2015-12-21\",\"2015-12-22\",\"2015-12-23\",\"2015-12-24\",\"2015-12-28\",\"2015-12-29\",\"2015-12-30\",\"2015-12-31\"],\"y\":[\"\",17.639999389648438,17.119999885559082,16.90000057220459,17.11500072479248,17.135000228881836,16.829999923706055,16.565000534057617,16.2450008392334,15.62000036239624,15.289999961853027,15.320000171661377,15.335000038146973,15.75,15.90999984741211,15.789999961853027,15.740000247955322,15.414999961853027,15.315000057220459,15.289999961853027,15.304999828338623,15.675000190734863,15.84000015258789,15.880000114440918,16.230000019073486,16.420000076293945,16.385000228881836,16.390000343322754,16.515000343322754,16.640000343322754,16.619999885559082,16.464999198913574,16.2549991607666,16.29499912261963,16.289999961853027,16.289999961853027,16.434999465942383,16.265000343322754,15.925000667572021,15.910000324249268,16.02500057220459,15.940000534057617,15.920000076293945,16.109999656677246,16.19499969482422,15.980000019073486,15.950000286102295,16.100000381469727,16.09000015258789,16.109999656677246,16.109999656677246,16.03499984741211,15.794999599456787,15.724999904632568,15.78000020980835,15.664999961853027,15.509999752044678,15.414999961853027,15.365000247955322,15.415000438690186,15.455000400543213,15.400000095367432,15.474999904632568,15.525000095367432,15.485000133514404,15.53499984741211,15.65999984741211,15.71500015258789,15.760000228881836,15.809999942779541,15.730000019073486,15.71500015258789,15.675000190734863,15.565000057220459,15.53499984741211,15.619999885559082,15.714999675750732,15.664999961853027,15.600000381469727,15.605000019073486,15.8149995803833,15.954999923706055,16.020000457763672,16.27500057220459,16.395000457763672,16.320000648498535,16.265000343322754,16.34500026702881,16.47000026702881,16.460000038146973,16.449999809265137,16.494999885559082,16.4350004196167,16.43000030517578,16.640000343322754,16.755000114440918,16.734999656677246,16.739999771118164,16.625,16.619999885559082,16.704999923706055,16.585000038146973,16.524999618530273,16.63499927520752,16.824999809265137,16.855000495910645,16.985000610351562,17.135000228881836,17.19499969482422,17.449999809265137,17.539999961853027,17.489999771118164,17.479999542236328,17.50999927520752,17.460000038146973,17.375,17.274999618530273,17.31999969482422,17.56999969482422,17.579999923706055,17.43000030517578,17.390000343322754,17.149999618530273,16.954999923706055,17.119999885559082,17.125,16.985000610351562,16.815000534057617,16.47000026702881,16.364999771118164,16.59000015258789,16.860000610351562,17.074999809265137,17.40499973297119,17.815000534057617,18.02500057220459,18.110000610351562,18.100000381469727,18.265000343322754,18.315000534057617,18.039999961853027,17.78499984741211,17.774999618530273,18.019999504089355,18.144999504089355,18.0049991607666,17.824999809265137,17.78499984741211,17.835000038146973,17.84000015258789,17.77999973297119,17.895000457763672,17.915000915527344,17.655000686645508,17.570000648498535,17.660000801086426,17.735000610351562,17.730000495910645,17.574999809265137,17.089999198913574,16.40999984741211,15.695000171661377,15.275000095367432,15.65999984741211,16.25,16.40000057220459,16.350000381469727,15.960000038146973,15.71500015258789,15.894999980926514,15.794999599456787,15.904999732971191,16.02999973297119,15.970000267028809,16.040000915527344,16.000000476837158,16.134999752044678,16.31999969482422,16.09499979019165,15.710000038146973,15.630000114440918,15.634999752044678,15.644999980926514,15.635000228881836,15.720000267028809,15.680000305175781,15.410000324249268,15.46500015258789,15.565000057220459,15.46500015258789,15.53499984741211,15.6899995803833,15.71999979019165,15.75,15.664999961853027,15.550000190734863,15.520000457763672,15.580000400543213,15.915000438690186,16.155000686645508,16.130000114440918,16.170000076293945,16.050000190734863,16.02999973297119,16.34000015258789,16.515000343322754,16.454999923706055,16.84000015258789,17.1850004196167,16.9350004196167,16.920000076293945,17.119999885559082,17.09500026702881,17.15999984741211,17.630000114440918,17.815000534057617,17.765000343322754,17.800000190734863,17.5600004196167,17.285000801086426,17.315000534057617,17.425000190734863,17.630000114440918,17.765000343322754,17.670000076293945,17.559999465942383,17.469999313354492,17.454999923706055,17.460000038146973,17.454999923706055,17.619999885559082,17.71500015258789,17.460000038146973,17.549999237060547,17.670000076293945,17.36500072479248,17.145000457763672,17.15000057220459,16.96500015258789,16.764999389648438,17.109999656677246,17.585000038146973,17.524999618530273,17.02999973297119,16.864999771118164,17.024999618530273,17.210000038146973,17.30500030517578,17.199999809265137,17.204999923706055,17.164999961853027,16.9399995803833],\"type\":\"scatter\"},{\"line\":{\"color\":\"rgba(55, 128, 191, 0.8999999999999999)\",\"dash\":\"solid\",\"shape\":\"linear\",\"width\":1.3},\"mode\":\"lines\",\"name\":\"UPPER(2)\",\"text\":\"\",\"x\":[\"2015-01-02\",\"2015-01-05\",\"2015-01-06\",\"2015-01-07\",\"2015-01-08\",\"2015-01-09\",\"2015-01-12\",\"2015-01-13\",\"2015-01-14\",\"2015-01-15\",\"2015-01-16\",\"2015-01-20\",\"2015-01-21\",\"2015-01-22\",\"2015-01-23\",\"2015-01-26\",\"2015-01-27\",\"2015-01-28\",\"2015-01-29\",\"2015-01-30\",\"2015-02-02\",\"2015-02-03\",\"2015-02-04\",\"2015-02-05\",\"2015-02-06\",\"2015-02-09\",\"2015-02-10\",\"2015-02-11\",\"2015-02-12\",\"2015-02-13\",\"2015-02-17\",\"2015-02-18\",\"2015-02-19\",\"2015-02-20\",\"2015-02-23\",\"2015-02-24\",\"2015-02-25\",\"2015-02-26\",\"2015-02-27\",\"2015-03-02\",\"2015-03-03\",\"2015-03-04\",\"2015-03-05\",\"2015-03-06\",\"2015-03-09\",\"2015-03-10\",\"2015-03-11\",\"2015-03-12\",\"2015-03-13\",\"2015-03-16\",\"2015-03-17\",\"2015-03-18\",\"2015-03-19\",\"2015-03-20\",\"2015-03-23\",\"2015-03-24\",\"2015-03-25\",\"2015-03-26\",\"2015-03-27\",\"2015-03-30\",\"2015-03-31\",\"2015-04-01\",\"2015-04-02\",\"2015-04-06\",\"2015-04-07\",\"2015-04-08\",\"2015-04-09\",\"2015-04-10\",\"2015-04-13\",\"2015-04-14\",\"2015-04-15\",\"2015-04-16\",\"2015-04-17\",\"2015-04-20\",\"2015-04-21\",\"2015-04-22\",\"2015-04-23\",\"2015-04-24\",\"2015-04-27\",\"2015-04-28\",\"2015-04-29\",\"2015-04-30\",\"2015-05-01\",\"2015-05-04\",\"2015-05-05\",\"2015-05-06\",\"2015-05-07\",\"2015-05-08\",\"2015-05-11\",\"2015-05-12\",\"2015-05-13\",\"2015-05-14\",\"2015-05-15\",\"2015-05-18\",\"2015-05-19\",\"2015-05-20\",\"2015-05-21\",\"2015-05-22\",\"2015-05-26\",\"2015-05-27\",\"2015-05-28\",\"2015-05-29\",\"2015-06-01\",\"2015-06-02\",\"2015-06-03\",\"2015-06-04\",\"2015-06-05\",\"2015-06-08\",\"2015-06-09\",\"2015-06-10\",\"2015-06-11\",\"2015-06-12\",\"2015-06-15\",\"2015-06-16\",\"2015-06-17\",\"2015-06-18\",\"2015-06-19\",\"2015-06-22\",\"2015-06-23\",\"2015-06-24\",\"2015-06-25\",\"2015-06-26\",\"2015-06-29\",\"2015-06-30\",\"2015-07-01\",\"2015-07-02\",\"2015-07-06\",\"2015-07-07\",\"2015-07-08\",\"2015-07-09\",\"2015-07-10\",\"2015-07-13\",\"2015-07-14\",\"2015-07-15\",\"2015-07-16\",\"2015-07-17\",\"2015-07-20\",\"2015-07-21\",\"2015-07-22\",\"2015-07-23\",\"2015-07-24\",\"2015-07-27\",\"2015-07-28\",\"2015-07-29\",\"2015-07-30\",\"2015-07-31\",\"2015-08-03\",\"2015-08-04\",\"2015-08-05\",\"2015-08-06\",\"2015-08-07\",\"2015-08-10\",\"2015-08-11\",\"2015-08-12\",\"2015-08-13\",\"2015-08-14\",\"2015-08-17\",\"2015-08-18\",\"2015-08-19\",\"2015-08-20\",\"2015-08-21\",\"2015-08-24\",\"2015-08-25\",\"2015-08-26\",\"2015-08-27\",\"2015-08-28\",\"2015-08-31\",\"2015-09-01\",\"2015-09-02\",\"2015-09-03\",\"2015-09-04\",\"2015-09-08\",\"2015-09-09\",\"2015-09-10\",\"2015-09-11\",\"2015-09-14\",\"2015-09-15\",\"2015-09-16\",\"2015-09-17\",\"2015-09-18\",\"2015-09-21\",\"2015-09-22\",\"2015-09-23\",\"2015-09-24\",\"2015-09-25\",\"2015-09-28\",\"2015-09-29\",\"2015-09-30\",\"2015-10-01\",\"2015-10-02\",\"2015-10-05\",\"2015-10-06\",\"2015-10-07\",\"2015-10-08\",\"2015-10-09\",\"2015-10-12\",\"2015-10-13\",\"2015-10-14\",\"2015-10-15\",\"2015-10-16\",\"2015-10-19\",\"2015-10-20\",\"2015-10-21\",\"2015-10-22\",\"2015-10-23\",\"2015-10-26\",\"2015-10-27\",\"2015-10-28\",\"2015-10-29\",\"2015-10-30\",\"2015-11-02\",\"2015-11-03\",\"2015-11-04\",\"2015-11-05\",\"2015-11-06\",\"2015-11-09\",\"2015-11-10\",\"2015-11-11\",\"2015-11-12\",\"2015-11-13\",\"2015-11-16\",\"2015-11-17\",\"2015-11-18\",\"2015-11-19\",\"2015-11-20\",\"2015-11-23\",\"2015-11-24\",\"2015-11-25\",\"2015-11-27\",\"2015-11-30\",\"2015-12-01\",\"2015-12-02\",\"2015-12-03\",\"2015-12-04\",\"2015-12-07\",\"2015-12-08\",\"2015-12-09\",\"2015-12-10\",\"2015-12-11\",\"2015-12-14\",\"2015-12-15\",\"2015-12-16\",\"2015-12-17\",\"2015-12-18\",\"2015-12-21\",\"2015-12-22\",\"2015-12-23\",\"2015-12-24\",\"2015-12-28\",\"2015-12-29\",\"2015-12-30\",\"2015-12-31\"],\"y\":[\"\",18.37539108945804,17.85538888797038,17.013137549298506,17.609976011102724,17.573408375344275,17.25426291345866,16.890269006027836,16.824828184014503,16.80794131928066,15.544558834663913,15.48970563730225,15.547131533023276,16.711665653997432,16.41911759303388,15.959706776193054,16.051127609313166,16.023112225257186,15.64026987788983,15.685980730380884,15.74340662610191,16.283112454139022,15.98142204830486,16.134558987251804,16.965390370183936,16.617989111858723,16.483994746664223,16.474852401793616,16.95340579238689,16.724852401793616,16.64828210678383,16.931689566600763,16.382278597172043,16.535415536118986,16.54455613726561,16.54455613726561,16.590563820970882,16.901394827951663,16.25027048824139,16.192842766984057,16.067427950139173,16.222844325491558,16.146274030481777,16.421125669335936,16.26570929398355,16.517401334619162,16.40254954317711,16.12828530009278,16.09000015258789,16.16656679652505,16.16656679652505,16.19056420244061,16.318258455690934,16.050269725301938,15.949705675449223,15.820564316881525,15.792842194779466,15.429142421164554,15.520563254284667,15.711985340736502,15.638848325495614,15.428283665291334,15.65884782958497,15.567426124602862,15.55571108137289,15.747131342288412,15.80142174312908,15.729142611899418,15.873137205975752,15.838283512703443,15.98455754318522,15.927131647464194,16.000268662705082,15.579141167832834,15.633994365194498,15.959410816840828,15.785710623609218,15.73570956101236,15.713137358563642,15.732278106779777,16.28168994807049,16.025709522865387,16.274559330574558,16.74169093989178,16.522279894169113,16.404852706969397,16.33571263988039,16.641986517774278,16.526567406876612,16.544852096617834,16.50656694911294,16.56571218211672,16.675416833116056,16.656274259363613,17.007696193227556,16.7974274923755,16.749142115988775,16.76828468974122,16.978553390593273,16.95941081684083,16.80399444148844,16.82541645164633,16.595709217689606,16.875415688706877,17.121986060010606,17.067131990786947,17.564827955132667,17.290564583910335,17.520268166794438,17.845980577792993,17.681421857569998,17.489999771118164,17.508284460859382,17.623136252301435,17.714556213559554,17.389139761913224,17.571983171877438,17.744262684576825,17.85284348625816,17.83455879651694,17.5997044221175,17.446567483170558,17.885391318339877,17.138849197357608,17.402840979594718,17.39369863472411,17.112280046757004,17.16855392465089,17.092254989744497,16.690268243088383,16.901128862644885,17.312548518727223,17.23056146689533,18.182818810715375,18.196838843273945,18.237132067080893,18.138285528974617,18.156570218715835,18.788260548256055,18.696838843273945,18.435980730380884,18.110268319382328,18.071983171877438,18.41598027261721,18.18742688202394,18.358552551359875,17.98056146689533,17.827424527948388,17.933997253327664,17.924854908457057,17.864851791442053,18.305123685603057,18.268554306120617,18.036838995861835,17.711422544215505,17.77313777818034,17.83399512813395,17.84313747300456,17.90027097863366,18.136516911381868,17.28681074554038,16.840513750611212,15.317426124602862,16.791369618351265,16.787402664244826,16.513137549298506,16.37828530009278,17.03480266923832,16.096838461804218,16.022278068632804,16.205121478597018,16.626248973469266,16.397695582875993,16.16799199999189,16.040000915527344,16.113138802630225,16.62997368965577,16.348284613447273,16.759680542142767,16.13426302789958,15.827989150005694,15.818847676997079,15.857132824501969,15.875416642381195,16.200833094027526,16.273970109268415,15.579705789890141,15.79026862455811,15.60742608645589,15.70541656608725,15.973405296476244,15.6899995803833,15.804853197361663,15.75,15.905416375352386,15.634852249205723,15.520000457763672,15.749705866184087,16.69281816773522,16.253995204427895,16.158282335665668,16.25485483216311,16.474265877885774,16.397695582875993,16.849117898209663,16.529142802634283,16.610564278734554,18.084509598019267,17.453701751739114,17.373405868680834,17.315978147423497,17.289706699899106,17.335416680528166,17.584262837164715,18.535098628590546,18.196838843273945,18.00541675682211,17.941422086451833,18.09740038646322,17.525417214585783,17.640269006027836,17.439142650046392,18.22396991853355,17.977131838199057,17.726569913540054,17.81455833875327,17.469999313354492,17.497424604242333,17.516567177994776,17.525709522865387,18.157399852405604,17.983698787312,17.912550643920937,18.257106018247093,18.037693228800443,17.859976011102724,17.272279894169113,17.29142246792156,17.629682253238162,16.863993907430824,17.98681325220382,18.05169040583416,18.161396800557487,17.793673654005545,17.16198332446533,17.180563973558773,17.577695888051775,17.40399482295817,17.39799154222822,17.417134115980662,17.49027113122155,17.25112559304199],\"type\":\"scatter\"},{\"line\":{\"color\":\"rgba(55, 128, 191, 0.7999999999999998)\",\"dash\":\"solid\",\"shape\":\"linear\",\"width\":1.3},\"mode\":\"lines\",\"name\":\"LOWER(2)\",\"text\":\"\",\"x\":[\"2015-01-02\",\"2015-01-05\",\"2015-01-06\",\"2015-01-07\",\"2015-01-08\",\"2015-01-09\",\"2015-01-12\",\"2015-01-13\",\"2015-01-14\",\"2015-01-15\",\"2015-01-16\",\"2015-01-20\",\"2015-01-21\",\"2015-01-22\",\"2015-01-23\",\"2015-01-26\",\"2015-01-27\",\"2015-01-28\",\"2015-01-29\",\"2015-01-30\",\"2015-02-02\",\"2015-02-03\",\"2015-02-04\",\"2015-02-05\",\"2015-02-06\",\"2015-02-09\",\"2015-02-10\",\"2015-02-11\",\"2015-02-12\",\"2015-02-13\",\"2015-02-17\",\"2015-02-18\",\"2015-02-19\",\"2015-02-20\",\"2015-02-23\",\"2015-02-24\",\"2015-02-25\",\"2015-02-26\",\"2015-02-27\",\"2015-03-02\",\"2015-03-03\",\"2015-03-04\",\"2015-03-05\",\"2015-03-06\",\"2015-03-09\",\"2015-03-10\",\"2015-03-11\",\"2015-03-12\",\"2015-03-13\",\"2015-03-16\",\"2015-03-17\",\"2015-03-18\",\"2015-03-19\",\"2015-03-20\",\"2015-03-23\",\"2015-03-24\",\"2015-03-25\",\"2015-03-26\",\"2015-03-27\",\"2015-03-30\",\"2015-03-31\",\"2015-04-01\",\"2015-04-02\",\"2015-04-06\",\"2015-04-07\",\"2015-04-08\",\"2015-04-09\",\"2015-04-10\",\"2015-04-13\",\"2015-04-14\",\"2015-04-15\",\"2015-04-16\",\"2015-04-17\",\"2015-04-20\",\"2015-04-21\",\"2015-04-22\",\"2015-04-23\",\"2015-04-24\",\"2015-04-27\",\"2015-04-28\",\"2015-04-29\",\"2015-04-30\",\"2015-05-01\",\"2015-05-04\",\"2015-05-05\",\"2015-05-06\",\"2015-05-07\",\"2015-05-08\",\"2015-05-11\",\"2015-05-12\",\"2015-05-13\",\"2015-05-14\",\"2015-05-15\",\"2015-05-18\",\"2015-05-19\",\"2015-05-20\",\"2015-05-21\",\"2015-05-22\",\"2015-05-26\",\"2015-05-27\",\"2015-05-28\",\"2015-05-29\",\"2015-06-01\",\"2015-06-02\",\"2015-06-03\",\"2015-06-04\",\"2015-06-05\",\"2015-06-08\",\"2015-06-09\",\"2015-06-10\",\"2015-06-11\",\"2015-06-12\",\"2015-06-15\",\"2015-06-16\",\"2015-06-17\",\"2015-06-18\",\"2015-06-19\",\"2015-06-22\",\"2015-06-23\",\"2015-06-24\",\"2015-06-25\",\"2015-06-26\",\"2015-06-29\",\"2015-06-30\",\"2015-07-01\",\"2015-07-02\",\"2015-07-06\",\"2015-07-07\",\"2015-07-08\",\"2015-07-09\",\"2015-07-10\",\"2015-07-13\",\"2015-07-14\",\"2015-07-15\",\"2015-07-16\",\"2015-07-17\",\"2015-07-20\",\"2015-07-21\",\"2015-07-22\",\"2015-07-23\",\"2015-07-24\",\"2015-07-27\",\"2015-07-28\",\"2015-07-29\",\"2015-07-30\",\"2015-07-31\",\"2015-08-03\",\"2015-08-04\",\"2015-08-05\",\"2015-08-06\",\"2015-08-07\",\"2015-08-10\",\"2015-08-11\",\"2015-08-12\",\"2015-08-13\",\"2015-08-14\",\"2015-08-17\",\"2015-08-18\",\"2015-08-19\",\"2015-08-20\",\"2015-08-21\",\"2015-08-24\",\"2015-08-25\",\"2015-08-26\",\"2015-08-27\",\"2015-08-28\",\"2015-08-31\",\"2015-09-01\",\"2015-09-02\",\"2015-09-03\",\"2015-09-04\",\"2015-09-08\",\"2015-09-09\",\"2015-09-10\",\"2015-09-11\",\"2015-09-14\",\"2015-09-15\",\"2015-09-16\",\"2015-09-17\",\"2015-09-18\",\"2015-09-21\",\"2015-09-22\",\"2015-09-23\",\"2015-09-24\",\"2015-09-25\",\"2015-09-28\",\"2015-09-29\",\"2015-09-30\",\"2015-10-01\",\"2015-10-02\",\"2015-10-05\",\"2015-10-06\",\"2015-10-07\",\"2015-10-08\",\"2015-10-09\",\"2015-10-12\",\"2015-10-13\",\"2015-10-14\",\"2015-10-15\",\"2015-10-16\",\"2015-10-19\",\"2015-10-20\",\"2015-10-21\",\"2015-10-22\",\"2015-10-23\",\"2015-10-26\",\"2015-10-27\",\"2015-10-28\",\"2015-10-29\",\"2015-10-30\",\"2015-11-02\",\"2015-11-03\",\"2015-11-04\",\"2015-11-05\",\"2015-11-06\",\"2015-11-09\",\"2015-11-10\",\"2015-11-11\",\"2015-11-12\",\"2015-11-13\",\"2015-11-16\",\"2015-11-17\",\"2015-11-18\",\"2015-11-19\",\"2015-11-20\",\"2015-11-23\",\"2015-11-24\",\"2015-11-25\",\"2015-11-27\",\"2015-11-30\",\"2015-12-01\",\"2015-12-02\",\"2015-12-03\",\"2015-12-04\",\"2015-12-07\",\"2015-12-08\",\"2015-12-09\",\"2015-12-10\",\"2015-12-11\",\"2015-12-14\",\"2015-12-15\",\"2015-12-16\",\"2015-12-17\",\"2015-12-18\",\"2015-12-21\",\"2015-12-22\",\"2015-12-23\",\"2015-12-24\",\"2015-12-28\",\"2015-12-29\",\"2015-12-30\",\"2015-12-31\"],\"y\":[\"\",16.904607689838834,16.384610883147783,16.786863595110674,16.620025438482237,16.696592082419397,16.40573693395345,16.2397320620874,15.665173494452294,14.432059405511824,15.035441089042141,15.150294706020503,15.12286854327067,14.788334346002566,15.400882101790337,15.620293147513001,15.428872886597478,14.806887698448868,14.989730236551088,14.894019193325171,14.866593030575336,15.066887927330704,15.69857825687092,15.625441241630032,15.494609667963037,16.222011040729168,16.28600571109945,16.305148284851892,16.07659489425862,16.555148284851892,16.591717664334332,15.998308831226385,16.12771972436116,16.05458270912027,16.035443786440446,16.035443786440446,16.279435110913884,15.628605858693843,15.59973084690265,15.62715788151448,15.982573194270007,15.657156742623677,15.693726122106115,15.798873644018554,16.124290095664886,15.442598703527812,15.49745102902748,16.071715462846672,16.09000015258789,16.053432516829442,16.053432516829442,15.879435492383612,15.27174074322264,15.399730083963197,15.610294744167476,15.50943560682453,15.22715730930989,15.4008575025415,15.209437241625977,15.118015536643869,15.271152475590812,15.37171652544353,15.291151979680167,15.482574066132,15.41428918565592,15.322868352535806,15.51857795169514,15.700857693276363,15.64686325178792,15.781716372855639,15.475442494961753,15.502868657711588,15.349731718764644,15.550858946608084,15.43600532962972,15.280588954277336,15.644288727892247,15.594290362693695,15.48686340437581,15.477721931367196,15.348309212696112,15.884290324546722,15.765441584952786,15.8083102045174,16.26772102135823,16.235148590027674,16.194288046765116,16.04801401628334,16.413433127181005,16.37514797967611,16.393432669417333,16.424287589001445,16.194584006117342,16.20372635098795,16.272304493417952,16.712572736506335,16.720857197365717,16.71171485249511,16.271446609406727,16.280588954277334,16.606005405923668,16.344583624647615,16.45429001937094,16.394582861708162,16.528013558519667,16.64286900103434,16.405173265570458,16.979435873853337,16.869731222854,17.05401904073728,17.398578066136057,17.489999771118164,17.451714623613274,17.396862298113604,17.20544386273439,17.360860238086776,16.97801606518311,16.895736705071613,17.28715590339028,17.32544105089517,17.26029618823406,17.33343320347495,16.41460791872067,16.7711506500545,16.837158791523446,16.85630136527589,16.85772117394612,16.461447143464344,15.84774554431312,16.039731299147945,16.278871442530896,16.407452701975902,16.919438151634942,16.627180655227008,17.43316222484129,17.812869077328287,18.08171569172851,18.043430544223618,17.741740138389453,17.93316222484129,17.64401919332517,17.45973137544189,17.47801606518311,17.6240187355615,18.102572126154772,17.65144577017333,17.669438151634942,17.74257516687583,17.73600282296628,17.755145396718724,17.69514767450033,17.484877229924287,17.56144752493407,17.27316237742918,17.428578752781565,17.54686382399251,17.636006092569176,17.61686351881673,17.249728639896613,16.04348148644528,15.533188949283842,14.549486592711542,15.232574066132,14.528630076472956,15.712597335755174,16.286863595110674,16.321715462846672,14.885197407055625,15.333161843371562,15.767721893220223,15.384877720316556,15.183750492473116,15.66230388306639,15.772008534065728,16.040000915527344,15.88686215104409,15.640025814433585,16.291714776201164,15.430319038240533,15.285737048394367,15.432011078876142,15.451151827092277,15.432867137351058,15.394583815382477,15.239167440030092,15.08603050108315,15.240294858608394,15.139731680617672,15.522574027985028,15.224583739088532,15.096594398347975,15.6899995803833,15.635146383021638,15.75,15.424583548353668,15.465148132264003,15.520000457763672,15.410294934902339,15.137182709645153,16.05600616886312,16.10171789321617,16.08514532042478,15.625734503583953,15.66230388306639,15.830882406966118,16.500857884011225,16.299435568677556,15.595490707156516,16.916299087494284,16.496594970552565,16.524022005164394,16.950293071219058,16.85458385352945,16.735736857659504,16.72490160029129,17.43316222484129,17.524583929823397,17.658578295017893,17.022600452770178,17.04458438758707,16.9897320620874,17.410857731423334,17.036030310348284,17.55286884844645,17.613430239047837,17.305440593131497,17.469999313354492,17.412575243169776,17.40343289829917,17.384290324546722,17.08259991871256,17.44630151786378,17.007449432373008,16.842892455874,17.302306923787448,16.870025438482237,17.01772102135823,17.00857867648762,16.30031805193762,16.66600487186605,16.233186061150672,17.118309670459784,16.88860243650306,16.266325811936838,16.568016217771,16.869435263501774,16.84230418824217,17.206005787393394,17.002008076302054,16.992865731431447,16.839728792484504,16.62887356772461],\"type\":\"scatter\"}],                        {\"legend\":{\"bgcolor\":\"#F5F6F9\",\"font\":{\"color\":\"#4D5663\"}},\"paper_bgcolor\":\"#F5F6F9\",\"plot_bgcolor\":\"#F5F6F9\",\"template\":{\"data\":{\"barpolar\":[{\"marker\":{\"line\":{\"color\":\"#E5ECF6\",\"width\":0.5},\"pattern\":{\"fillmode\":\"overlay\",\"size\":10,\"solidity\":0.2}},\"type\":\"barpolar\"}],\"bar\":[{\"error_x\":{\"color\":\"#2a3f5f\"},\"error_y\":{\"color\":\"#2a3f5f\"},\"marker\":{\"line\":{\"color\":\"#E5ECF6\",\"width\":0.5},\"pattern\":{\"fillmode\":\"overlay\",\"size\":10,\"solidity\":0.2}},\"type\":\"bar\"}],\"carpet\":[{\"aaxis\":{\"endlinecolor\":\"#2a3f5f\",\"gridcolor\":\"white\",\"linecolor\":\"white\",\"minorgridcolor\":\"white\",\"startlinecolor\":\"#2a3f5f\"},\"baxis\":{\"endlinecolor\":\"#2a3f5f\",\"gridcolor\":\"white\",\"linecolor\":\"white\",\"minorgridcolor\":\"white\",\"startlinecolor\":\"#2a3f5f\"},\"type\":\"carpet\"}],\"choropleth\":[{\"colorbar\":{\"outlinewidth\":0,\"ticks\":\"\"},\"type\":\"choropleth\"}],\"contourcarpet\":[{\"colorbar\":{\"outlinewidth\":0,\"ticks\":\"\"},\"type\":\"contourcarpet\"}],\"contour\":[{\"colorbar\":{\"outlinewidth\":0,\"ticks\":\"\"},\"colorscale\":[[0.0,\"#0d0887\"],[0.1111111111111111,\"#46039f\"],[0.2222222222222222,\"#7201a8\"],[0.3333333333333333,\"#9c179e\"],[0.4444444444444444,\"#bd3786\"],[0.5555555555555556,\"#d8576b\"],[0.6666666666666666,\"#ed7953\"],[0.7777777777777778,\"#fb9f3a\"],[0.8888888888888888,\"#fdca26\"],[1.0,\"#f0f921\"]],\"type\":\"contour\"}],\"heatmapgl\":[{\"colorbar\":{\"outlinewidth\":0,\"ticks\":\"\"},\"colorscale\":[[0.0,\"#0d0887\"],[0.1111111111111111,\"#46039f\"],[0.2222222222222222,\"#7201a8\"],[0.3333333333333333,\"#9c179e\"],[0.4444444444444444,\"#bd3786\"],[0.5555555555555556,\"#d8576b\"],[0.6666666666666666,\"#ed7953\"],[0.7777777777777778,\"#fb9f3a\"],[0.8888888888888888,\"#fdca26\"],[1.0,\"#f0f921\"]],\"type\":\"heatmapgl\"}],\"heatmap\":[{\"colorbar\":{\"outlinewidth\":0,\"ticks\":\"\"},\"colorscale\":[[0.0,\"#0d0887\"],[0.1111111111111111,\"#46039f\"],[0.2222222222222222,\"#7201a8\"],[0.3333333333333333,\"#9c179e\"],[0.4444444444444444,\"#bd3786\"],[0.5555555555555556,\"#d8576b\"],[0.6666666666666666,\"#ed7953\"],[0.7777777777777778,\"#fb9f3a\"],[0.8888888888888888,\"#fdca26\"],[1.0,\"#f0f921\"]],\"type\":\"heatmap\"}],\"histogram2dcontour\":[{\"colorbar\":{\"outlinewidth\":0,\"ticks\":\"\"},\"colorscale\":[[0.0,\"#0d0887\"],[0.1111111111111111,\"#46039f\"],[0.2222222222222222,\"#7201a8\"],[0.3333333333333333,\"#9c179e\"],[0.4444444444444444,\"#bd3786\"],[0.5555555555555556,\"#d8576b\"],[0.6666666666666666,\"#ed7953\"],[0.7777777777777778,\"#fb9f3a\"],[0.8888888888888888,\"#fdca26\"],[1.0,\"#f0f921\"]],\"type\":\"histogram2dcontour\"}],\"histogram2d\":[{\"colorbar\":{\"outlinewidth\":0,\"ticks\":\"\"},\"colorscale\":[[0.0,\"#0d0887\"],[0.1111111111111111,\"#46039f\"],[0.2222222222222222,\"#7201a8\"],[0.3333333333333333,\"#9c179e\"],[0.4444444444444444,\"#bd3786\"],[0.5555555555555556,\"#d8576b\"],[0.6666666666666666,\"#ed7953\"],[0.7777777777777778,\"#fb9f3a\"],[0.8888888888888888,\"#fdca26\"],[1.0,\"#f0f921\"]],\"type\":\"histogram2d\"}],\"histogram\":[{\"marker\":{\"pattern\":{\"fillmode\":\"overlay\",\"size\":10,\"solidity\":0.2}},\"type\":\"histogram\"}],\"mesh3d\":[{\"colorbar\":{\"outlinewidth\":0,\"ticks\":\"\"},\"type\":\"mesh3d\"}],\"parcoords\":[{\"line\":{\"colorbar\":{\"outlinewidth\":0,\"ticks\":\"\"}},\"type\":\"parcoords\"}],\"pie\":[{\"automargin\":true,\"type\":\"pie\"}],\"scatter3d\":[{\"line\":{\"colorbar\":{\"outlinewidth\":0,\"ticks\":\"\"}},\"marker\":{\"colorbar\":{\"outlinewidth\":0,\"ticks\":\"\"}},\"type\":\"scatter3d\"}],\"scattercarpet\":[{\"marker\":{\"colorbar\":{\"outlinewidth\":0,\"ticks\":\"\"}},\"type\":\"scattercarpet\"}],\"scattergeo\":[{\"marker\":{\"colorbar\":{\"outlinewidth\":0,\"ticks\":\"\"}},\"type\":\"scattergeo\"}],\"scattergl\":[{\"marker\":{\"colorbar\":{\"outlinewidth\":0,\"ticks\":\"\"}},\"type\":\"scattergl\"}],\"scattermapbox\":[{\"marker\":{\"colorbar\":{\"outlinewidth\":0,\"ticks\":\"\"}},\"type\":\"scattermapbox\"}],\"scatterpolargl\":[{\"marker\":{\"colorbar\":{\"outlinewidth\":0,\"ticks\":\"\"}},\"type\":\"scatterpolargl\"}],\"scatterpolar\":[{\"marker\":{\"colorbar\":{\"outlinewidth\":0,\"ticks\":\"\"}},\"type\":\"scatterpolar\"}],\"scatter\":[{\"marker\":{\"colorbar\":{\"outlinewidth\":0,\"ticks\":\"\"}},\"type\":\"scatter\"}],\"scatterternary\":[{\"marker\":{\"colorbar\":{\"outlinewidth\":0,\"ticks\":\"\"}},\"type\":\"scatterternary\"}],\"surface\":[{\"colorbar\":{\"outlinewidth\":0,\"ticks\":\"\"},\"colorscale\":[[0.0,\"#0d0887\"],[0.1111111111111111,\"#46039f\"],[0.2222222222222222,\"#7201a8\"],[0.3333333333333333,\"#9c179e\"],[0.4444444444444444,\"#bd3786\"],[0.5555555555555556,\"#d8576b\"],[0.6666666666666666,\"#ed7953\"],[0.7777777777777778,\"#fb9f3a\"],[0.8888888888888888,\"#fdca26\"],[1.0,\"#f0f921\"]],\"type\":\"surface\"}],\"table\":[{\"cells\":{\"fill\":{\"color\":\"#EBF0F8\"},\"line\":{\"color\":\"white\"}},\"header\":{\"fill\":{\"color\":\"#C8D4E3\"},\"line\":{\"color\":\"white\"}},\"type\":\"table\"}]},\"layout\":{\"annotationdefaults\":{\"arrowcolor\":\"#2a3f5f\",\"arrowhead\":0,\"arrowwidth\":1},\"autotypenumbers\":\"strict\",\"coloraxis\":{\"colorbar\":{\"outlinewidth\":0,\"ticks\":\"\"}},\"colorscale\":{\"diverging\":[[0,\"#8e0152\"],[0.1,\"#c51b7d\"],[0.2,\"#de77ae\"],[0.3,\"#f1b6da\"],[0.4,\"#fde0ef\"],[0.5,\"#f7f7f7\"],[0.6,\"#e6f5d0\"],[0.7,\"#b8e186\"],[0.8,\"#7fbc41\"],[0.9,\"#4d9221\"],[1,\"#276419\"]],\"sequential\":[[0.0,\"#0d0887\"],[0.1111111111111111,\"#46039f\"],[0.2222222222222222,\"#7201a8\"],[0.3333333333333333,\"#9c179e\"],[0.4444444444444444,\"#bd3786\"],[0.5555555555555556,\"#d8576b\"],[0.6666666666666666,\"#ed7953\"],[0.7777777777777778,\"#fb9f3a\"],[0.8888888888888888,\"#fdca26\"],[1.0,\"#f0f921\"]],\"sequentialminus\":[[0.0,\"#0d0887\"],[0.1111111111111111,\"#46039f\"],[0.2222222222222222,\"#7201a8\"],[0.3333333333333333,\"#9c179e\"],[0.4444444444444444,\"#bd3786\"],[0.5555555555555556,\"#d8576b\"],[0.6666666666666666,\"#ed7953\"],[0.7777777777777778,\"#fb9f3a\"],[0.8888888888888888,\"#fdca26\"],[1.0,\"#f0f921\"]]},\"colorway\":[\"#636efa\",\"#EF553B\",\"#00cc96\",\"#ab63fa\",\"#FFA15A\",\"#19d3f3\",\"#FF6692\",\"#B6E880\",\"#FF97FF\",\"#FECB52\"],\"font\":{\"color\":\"#2a3f5f\"},\"geo\":{\"bgcolor\":\"white\",\"lakecolor\":\"white\",\"landcolor\":\"#E5ECF6\",\"showlakes\":true,\"showland\":true,\"subunitcolor\":\"white\"},\"hoverlabel\":{\"align\":\"left\"},\"hovermode\":\"closest\",\"mapbox\":{\"style\":\"light\"},\"paper_bgcolor\":\"white\",\"plot_bgcolor\":\"#E5ECF6\",\"polar\":{\"angularaxis\":{\"gridcolor\":\"white\",\"linecolor\":\"white\",\"ticks\":\"\"},\"bgcolor\":\"#E5ECF6\",\"radialaxis\":{\"gridcolor\":\"white\",\"linecolor\":\"white\",\"ticks\":\"\"}},\"scene\":{\"xaxis\":{\"backgroundcolor\":\"#E5ECF6\",\"gridcolor\":\"white\",\"gridwidth\":2,\"linecolor\":\"white\",\"showbackground\":true,\"ticks\":\"\",\"zerolinecolor\":\"white\"},\"yaxis\":{\"backgroundcolor\":\"#E5ECF6\",\"gridcolor\":\"white\",\"gridwidth\":2,\"linecolor\":\"white\",\"showbackground\":true,\"ticks\":\"\",\"zerolinecolor\":\"white\"},\"zaxis\":{\"backgroundcolor\":\"#E5ECF6\",\"gridcolor\":\"white\",\"gridwidth\":2,\"linecolor\":\"white\",\"showbackground\":true,\"ticks\":\"\",\"zerolinecolor\":\"white\"}},\"shapedefaults\":{\"line\":{\"color\":\"#2a3f5f\"}},\"ternary\":{\"aaxis\":{\"gridcolor\":\"white\",\"linecolor\":\"white\",\"ticks\":\"\"},\"baxis\":{\"gridcolor\":\"white\",\"linecolor\":\"white\",\"ticks\":\"\"},\"bgcolor\":\"#E5ECF6\",\"caxis\":{\"gridcolor\":\"white\",\"linecolor\":\"white\",\"ticks\":\"\"}},\"title\":{\"x\":0.05},\"xaxis\":{\"automargin\":true,\"gridcolor\":\"white\",\"linecolor\":\"white\",\"ticks\":\"\",\"title\":{\"standoff\":15},\"zerolinecolor\":\"white\",\"zerolinewidth\":2},\"yaxis\":{\"automargin\":true,\"gridcolor\":\"white\",\"linecolor\":\"white\",\"ticks\":\"\",\"title\":{\"standoff\":15},\"zerolinecolor\":\"white\",\"zerolinewidth\":2}}},\"title\":{\"font\":{\"color\":\"#4D5663\"}},\"xaxis\":{\"gridcolor\":\"#E1E5ED\",\"showgrid\":true,\"tickfont\":{\"color\":\"#4D5663\"},\"title\":{\"font\":{\"color\":\"#4D5663\"},\"text\":\"\"},\"zerolinecolor\":\"#E1E5ED\"},\"yaxis\":{\"gridcolor\":\"#E1E5ED\",\"showgrid\":true,\"tickfont\":{\"color\":\"#4D5663\"},\"title\":{\"font\":{\"color\":\"#4D5663\"},\"text\":\"\"},\"zerolinecolor\":\"#E1E5ED\"}},                        {\"showLink\": true, \"linkText\": \"Export to plot.ly\", \"plotlyServerURL\": \"https://plot.ly\", \"responsive\": true}                    ).then(function(){\n",
       "                            \n",
       "var gd = document.getElementById('74203a53-4260-44a3-914e-282a120f53af');\n",
       "var x = new MutationObserver(function (mutations, observer) {{\n",
       "        var display = window.getComputedStyle(gd).display;\n",
       "        if (!display || display === 'none') {{\n",
       "            console.log([gd, 'removed!']);\n",
       "            Plotly.purge(gd);\n",
       "            observer.disconnect();\n",
       "        }}\n",
       "}});\n",
       "\n",
       "// Listen for the removal of the full notebook cells\n",
       "var notebookContainer = gd.closest('#notebook-container');\n",
       "if (notebookContainer) {{\n",
       "    x.observe(notebookContainer, {childList: true});\n",
       "}}\n",
       "\n",
       "// Listen for the clearing of the current output cell\n",
       "var outputEl = gd.closest('.output');\n",
       "if (outputEl) {{\n",
       "    x.observe(outputEl, {childList: true});\n",
       "}}\n",
       "\n",
       "                        })                };                });            </script>        </div>"
      ]
     },
     "metadata": {},
     "output_type": "display_data"
    }
   ],
   "source": [
    "bank_stocks['BAC']['Close']['2015-1-1':'2015-12-31'].ta_plot(study='boll',period=[2])"
   ]
  },
  {
   "cell_type": "code",
   "execution_count": null,
   "metadata": {},
   "outputs": [],
   "source": []
  }
 ],
 "metadata": {
  "kernelspec": {
   "display_name": "Python 3 (ipykernel)",
   "language": "python",
   "name": "python3"
  },
  "language_info": {
   "codemirror_mode": {
    "name": "ipython",
    "version": 3
   },
   "file_extension": ".py",
   "mimetype": "text/x-python",
   "name": "python",
   "nbconvert_exporter": "python",
   "pygments_lexer": "ipython3",
   "version": "3.9.12"
  }
 },
 "nbformat": 4,
 "nbformat_minor": 1
}
